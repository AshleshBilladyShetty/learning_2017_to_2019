{
 "cells": [
  {
   "cell_type": "markdown",
   "metadata": {},
   "source": [
    "\n",
    "## Import all the required libraries"
   ]
  },
  {
   "cell_type": "code",
   "execution_count": 27,
   "metadata": {},
   "outputs": [],
   "source": [
    "import csv\n",
    "import numpy as np\n",
    "from scipy.stats import chi2_contingency\n",
    "import pandas as pd\n",
    "from pandas.plotting import scatter_matrix\n",
    "import matplotlib.pyplot as plt\n",
    "plt.style.use('ggplot')\n",
    "\n",
    "from xgboost import XGBClassifier\n",
    "import sklearn as s\n",
    "from sklearn.feature_selection import chi2, mutual_info_classif, SelectKBest, f_classif, SelectFromModel\n",
    "from sklearn.model_selection import train_test_split\n",
    "from sklearn.metrics import classification_report, confusion_matrix, roc_auc_score, accuracy_score\n",
    "\n",
    "import statsmodels.api as sm\n",
    "from statsmodels.stats.outliers_influence import variance_inflation_factor\n",
    "from scipy import stats\n",
    "stats.chisqprob = lambda chisq, df: stats.chi2.sf(chisq, df)"
   ]
  },
  {
   "cell_type": "markdown",
   "metadata": {},
   "source": [
    "## Import the data"
   ]
  },
  {
   "cell_type": "code",
   "execution_count": 3,
   "metadata": {
    "scrolled": true
   },
   "outputs": [],
   "source": [
    "takehome_user_engagement = pd.read_csv(\"C:\\\\Users\\\\Ashlesh B Shetty\\\\Google Drive\\\\LaptopOnDrive\\\\JobSearch\\\\JobApplications\\\\Asana\\Data\\\\takehome_user_engagement.csv\",\n",
    "                                       parse_dates = True,                                       \n",
    "                                       infer_datetime_format = True )\n",
    "takehome_user_engagement['time_stamp'] = pd.to_datetime(takehome_user_engagement['time_stamp'])\n",
    "takehome_user_engagement['user_id'] = takehome_user_engagement['user_id'].map(str)\n",
    "takehome_user_engagement['visited'] = takehome_user_engagement['visited'].map(int)\n",
    "\n",
    "with open('C:\\\\Users\\\\Ashlesh B Shetty\\\\Google Drive\\\\LaptopOnDrive\\\\JobSearch\\\\JobApplications\\\\Asana\\\\Data\\\\takehome_users.csv', \n",
    "          ) as data_file:\n",
    "    user_data = csv.DictReader(data_file)\n",
    "    dict_user_data_list = [] \n",
    "    for i in user_data:\n",
    "        dict_user_data_list.append(i)\n",
    "takehome_users = pd.DataFrame.from_dict(dict_user_data_list)\n",
    "takehome_users['last_session_creation_time'] = pd.to_datetime(takehome_users['last_session_creation_time'], unit = 's')\n",
    "takehome_users['creation_time'] = pd.to_datetime(takehome_users['creation_time'])\n",
    "takehome_users['object_id'] = takehome_users['object_id'].map(str)"
   ]
  },
  {
   "cell_type": "markdown",
   "metadata": {},
   "source": [
    "## View and check  whether the data has been imported correctly"
   ]
  },
  {
   "cell_type": "code",
   "execution_count": 5,
   "metadata": {},
   "outputs": [
    {
     "name": "stdout",
     "output_type": "stream",
     "text": [
      "(207917, 3)\n",
      "\n",
      "\n",
      "                 time_stamp user_id   visited\n",
      "count                207917  207917  207917.0\n",
      "unique               207220    8823       NaN\n",
      "top     2014-02-05 03:09:54    3623       NaN\n",
      "freq                      2     606       NaN\n",
      "first   2012-05-31 08:20:06     NaN       NaN\n",
      "last    2014-06-06 14:58:50     NaN       NaN\n",
      "mean                    NaN     NaN       1.0\n",
      "std                     NaN     NaN       0.0\n",
      "min                     NaN     NaN       1.0\n",
      "25%                     NaN     NaN       1.0\n",
      "50%                     NaN     NaN       1.0\n",
      "75%                     NaN     NaN       1.0\n",
      "max                     NaN     NaN       1.0\n",
      "\n",
      "\n",
      "<class 'pandas.core.frame.DataFrame'>\n",
      "RangeIndex: 207917 entries, 0 to 207916\n",
      "Data columns (total 3 columns):\n",
      "time_stamp    207917 non-null datetime64[ns]\n",
      "user_id       207917 non-null object\n",
      "visited       207917 non-null int64\n",
      "dtypes: datetime64[ns](1), int64(1), object(1)\n",
      "memory usage: 4.8+ MB\n",
      "\n",
      "\n"
     ]
    },
    {
     "data": {
      "text/html": [
       "<div>\n",
       "<style scoped>\n",
       "    .dataframe tbody tr th:only-of-type {\n",
       "        vertical-align: middle;\n",
       "    }\n",
       "\n",
       "    .dataframe tbody tr th {\n",
       "        vertical-align: top;\n",
       "    }\n",
       "\n",
       "    .dataframe thead th {\n",
       "        text-align: right;\n",
       "    }\n",
       "</style>\n",
       "<table border=\"1\" class=\"dataframe\">\n",
       "  <thead>\n",
       "    <tr style=\"text-align: right;\">\n",
       "      <th></th>\n",
       "      <th>time_stamp</th>\n",
       "      <th>user_id</th>\n",
       "      <th>visited</th>\n",
       "    </tr>\n",
       "  </thead>\n",
       "  <tbody>\n",
       "    <tr>\n",
       "      <th>0</th>\n",
       "      <td>2014-04-22 03:53:30</td>\n",
       "      <td>1</td>\n",
       "      <td>1</td>\n",
       "    </tr>\n",
       "    <tr>\n",
       "      <th>1</th>\n",
       "      <td>2013-11-15 03:45:04</td>\n",
       "      <td>2</td>\n",
       "      <td>1</td>\n",
       "    </tr>\n",
       "    <tr>\n",
       "      <th>2</th>\n",
       "      <td>2013-11-29 03:45:04</td>\n",
       "      <td>2</td>\n",
       "      <td>1</td>\n",
       "    </tr>\n",
       "    <tr>\n",
       "      <th>3</th>\n",
       "      <td>2013-12-09 03:45:04</td>\n",
       "      <td>2</td>\n",
       "      <td>1</td>\n",
       "    </tr>\n",
       "    <tr>\n",
       "      <th>4</th>\n",
       "      <td>2013-12-25 03:45:04</td>\n",
       "      <td>2</td>\n",
       "      <td>1</td>\n",
       "    </tr>\n",
       "  </tbody>\n",
       "</table>\n",
       "</div>"
      ],
      "text/plain": [
       "           time_stamp user_id  visited\n",
       "0 2014-04-22 03:53:30       1        1\n",
       "1 2013-11-15 03:45:04       2        1\n",
       "2 2013-11-29 03:45:04       2        1\n",
       "3 2013-12-09 03:45:04       2        1\n",
       "4 2013-12-25 03:45:04       2        1"
      ]
     },
     "execution_count": 5,
     "metadata": {},
     "output_type": "execute_result"
    }
   ],
   "source": [
    "print(takehome_user_engagement.shape)\n",
    "print('\\n')\n",
    "print(takehome_user_engagement.describe( include='all'))\n",
    "print('\\n')\n",
    "takehome_user_engagement.info()\n",
    "print('\\n')\n",
    "takehome_user_engagement.head()"
   ]
  },
  {
   "cell_type": "code",
   "execution_count": 6,
   "metadata": {},
   "outputs": [
    {
     "name": "stdout",
     "output_type": "stream",
     "text": [
      "(12000, 10)\n",
      "\n",
      "\n",
      "       object_id        creation_time             name               email  \\\n",
      "count      12000                12000            12000               12000   \n",
      "unique     12000                11996            11355               11980   \n",
      "top         4586  2014-02-11 17:57:53  Araujo Gabriela  JacobTye@gmail.com   \n",
      "freq           1                    2                5                   2   \n",
      "first        NaN  2012-05-31 00:43:27              NaN                 NaN   \n",
      "last         NaN  2014-05-30 23:59:19              NaN                 NaN   \n",
      "\n",
      "       creation_source last_session_creation_time opted_in_to_mailing_list  \\\n",
      "count            12000                       8823                    12000   \n",
      "unique               5                       8821                        2   \n",
      "top         ORG_INVITE        2014-06-04 21:21:37                        0   \n",
      "freq              4254                          2                     9006   \n",
      "first              NaN        2012-05-31 08:20:06                      NaN   \n",
      "last               NaN        2014-06-06 14:58:50                      NaN   \n",
      "\n",
      "       enabled_for_marketing_drip org_id invited_by_user_id  \n",
      "count                       12000  12000              12000  \n",
      "unique                          2    417               2565  \n",
      "top                             0      0                     \n",
      "freq                        10208    319               5583  \n",
      "first                         NaN    NaN                NaN  \n",
      "last                          NaN    NaN                NaN  \n",
      "\n",
      "\n",
      "<class 'pandas.core.frame.DataFrame'>\n",
      "RangeIndex: 12000 entries, 0 to 11999\n",
      "Data columns (total 10 columns):\n",
      "object_id                     12000 non-null object\n",
      "creation_time                 12000 non-null datetime64[ns]\n",
      "name                          12000 non-null object\n",
      "email                         12000 non-null object\n",
      "creation_source               12000 non-null object\n",
      "last_session_creation_time    8823 non-null datetime64[ns]\n",
      "opted_in_to_mailing_list      12000 non-null object\n",
      "enabled_for_marketing_drip    12000 non-null object\n",
      "org_id                        12000 non-null object\n",
      "invited_by_user_id            12000 non-null object\n",
      "dtypes: datetime64[ns](2), object(8)\n",
      "memory usage: 937.6+ KB\n",
      "None\n",
      "\n",
      "\n"
     ]
    },
    {
     "data": {
      "text/html": [
       "<div>\n",
       "<style scoped>\n",
       "    .dataframe tbody tr th:only-of-type {\n",
       "        vertical-align: middle;\n",
       "    }\n",
       "\n",
       "    .dataframe tbody tr th {\n",
       "        vertical-align: top;\n",
       "    }\n",
       "\n",
       "    .dataframe thead th {\n",
       "        text-align: right;\n",
       "    }\n",
       "</style>\n",
       "<table border=\"1\" class=\"dataframe\">\n",
       "  <thead>\n",
       "    <tr style=\"text-align: right;\">\n",
       "      <th></th>\n",
       "      <th>object_id</th>\n",
       "      <th>creation_time</th>\n",
       "      <th>name</th>\n",
       "      <th>email</th>\n",
       "      <th>creation_source</th>\n",
       "      <th>last_session_creation_time</th>\n",
       "      <th>opted_in_to_mailing_list</th>\n",
       "      <th>enabled_for_marketing_drip</th>\n",
       "      <th>org_id</th>\n",
       "      <th>invited_by_user_id</th>\n",
       "    </tr>\n",
       "  </thead>\n",
       "  <tbody>\n",
       "    <tr>\n",
       "      <th>0</th>\n",
       "      <td>1</td>\n",
       "      <td>2014-04-22 03:53:30</td>\n",
       "      <td>Clausen August</td>\n",
       "      <td>AugustCClausen@yahoo.com</td>\n",
       "      <td>GUEST_INVITE</td>\n",
       "      <td>2014-04-22 03:53:30</td>\n",
       "      <td>1</td>\n",
       "      <td>0</td>\n",
       "      <td>11</td>\n",
       "      <td>10803</td>\n",
       "    </tr>\n",
       "    <tr>\n",
       "      <th>1</th>\n",
       "      <td>2</td>\n",
       "      <td>2013-11-15 03:45:04</td>\n",
       "      <td>Poole Matthew</td>\n",
       "      <td>MatthewPoole@gustr.com</td>\n",
       "      <td>ORG_INVITE</td>\n",
       "      <td>2014-03-31 03:45:04</td>\n",
       "      <td>0</td>\n",
       "      <td>0</td>\n",
       "      <td>1</td>\n",
       "      <td>316</td>\n",
       "    </tr>\n",
       "    <tr>\n",
       "      <th>2</th>\n",
       "      <td>3</td>\n",
       "      <td>2013-03-19 23:14:52</td>\n",
       "      <td>Bottrill Mitchell</td>\n",
       "      <td>MitchellBottrill@gustr.com</td>\n",
       "      <td>ORG_INVITE</td>\n",
       "      <td>2013-03-19 23:14:52</td>\n",
       "      <td>0</td>\n",
       "      <td>0</td>\n",
       "      <td>94</td>\n",
       "      <td>1525</td>\n",
       "    </tr>\n",
       "    <tr>\n",
       "      <th>3</th>\n",
       "      <td>4</td>\n",
       "      <td>2013-05-21 08:09:28</td>\n",
       "      <td>Clausen Nicklas</td>\n",
       "      <td>NicklasSClausen@yahoo.com</td>\n",
       "      <td>GUEST_INVITE</td>\n",
       "      <td>2013-05-22 08:09:28</td>\n",
       "      <td>0</td>\n",
       "      <td>0</td>\n",
       "      <td>1</td>\n",
       "      <td>5151</td>\n",
       "    </tr>\n",
       "    <tr>\n",
       "      <th>4</th>\n",
       "      <td>5</td>\n",
       "      <td>2013-01-17 10:14:20</td>\n",
       "      <td>Raw Grace</td>\n",
       "      <td>GraceRaw@yahoo.com</td>\n",
       "      <td>GUEST_INVITE</td>\n",
       "      <td>2013-01-22 10:14:20</td>\n",
       "      <td>0</td>\n",
       "      <td>0</td>\n",
       "      <td>193</td>\n",
       "      <td>5240</td>\n",
       "    </tr>\n",
       "  </tbody>\n",
       "</table>\n",
       "</div>"
      ],
      "text/plain": [
       "  object_id       creation_time               name  \\\n",
       "0         1 2014-04-22 03:53:30     Clausen August   \n",
       "1         2 2013-11-15 03:45:04      Poole Matthew   \n",
       "2         3 2013-03-19 23:14:52  Bottrill Mitchell   \n",
       "3         4 2013-05-21 08:09:28    Clausen Nicklas   \n",
       "4         5 2013-01-17 10:14:20          Raw Grace   \n",
       "\n",
       "                        email creation_source last_session_creation_time  \\\n",
       "0    AugustCClausen@yahoo.com    GUEST_INVITE        2014-04-22 03:53:30   \n",
       "1      MatthewPoole@gustr.com      ORG_INVITE        2014-03-31 03:45:04   \n",
       "2  MitchellBottrill@gustr.com      ORG_INVITE        2013-03-19 23:14:52   \n",
       "3   NicklasSClausen@yahoo.com    GUEST_INVITE        2013-05-22 08:09:28   \n",
       "4          GraceRaw@yahoo.com    GUEST_INVITE        2013-01-22 10:14:20   \n",
       "\n",
       "  opted_in_to_mailing_list enabled_for_marketing_drip org_id  \\\n",
       "0                        1                          0     11   \n",
       "1                        0                          0      1   \n",
       "2                        0                          0     94   \n",
       "3                        0                          0      1   \n",
       "4                        0                          0    193   \n",
       "\n",
       "  invited_by_user_id  \n",
       "0              10803  \n",
       "1                316  \n",
       "2               1525  \n",
       "3               5151  \n",
       "4               5240  "
      ]
     },
     "execution_count": 6,
     "metadata": {},
     "output_type": "execute_result"
    }
   ],
   "source": [
    "print(takehome_users.shape)\n",
    "print('\\n')\n",
    "print(takehome_users.describe())\n",
    "print('\\n')\n",
    "print(takehome_users.info())\n",
    "print('\\n')\n",
    "takehome_users.head()\n"
   ]
  },
  {
   "cell_type": "markdown",
   "metadata": {},
   "source": [
    "## Identify Adopted user And Non Adopted User from the takehome_user_engagement\n",
    "* Identify the week when these users adopted so all the data for these useres post that shouldnt be considered"
   ]
  },
  {
   "cell_type": "code",
   "execution_count": 7,
   "metadata": {},
   "outputs": [
    {
     "name": "stdout",
     "output_type": "stream",
     "text": [
      "all userid in engagement table are is user table\n",
      "(8823, 2)\n",
      "(8823, 10)\n",
      "\n",
      "only 30% of the user engage more than once\n",
      "      visited\n",
      "0.00      1.0\n",
      "0.20      1.0\n",
      "0.30      1.0\n",
      "0.40      1.0\n",
      "0.50      1.0\n",
      "0.60      1.0\n",
      "0.70      1.0\n",
      "0.71      2.0\n",
      "0.80      5.0\n",
      "0.90     53.0\n",
      "1.00    606.0\n"
     ]
    }
   ],
   "source": [
    "takehome_user_engagement['date'] = takehome_user_engagement['time_stamp'].dt.normalize()\n",
    "#aggregate to day level\n",
    "thuse_day = takehome_user_engagement.groupby(['date','user_id']).agg({ 'visited': 'sum'}).reset_index()\n",
    "#aggregate to user_id level\n",
    "thuse_user = thuse_day.groupby(['user_id']).sum().reset_index()\n",
    "\n",
    "#checking wether all userid in engagement table is present in user table\n",
    "print('all userid in engagement table are is user table')\n",
    "print(thuse_user.shape)\n",
    "print(takehome_users[takehome_users['object_id'].isin(thuse_user['user_id'].tolist())].shape)\n",
    "\n",
    "#check the distribution of count of engagenent per user\n",
    "print(\"\\nonly 30% of the user engage more than once\")\n",
    "print(thuse_user.quantile([0,.2,.3,.4,.5,.6,.7,.71,.8,.9,1]))"
   ]
  },
  {
   "cell_type": "code",
   "execution_count": 8,
   "metadata": {},
   "outputs": [],
   "source": [
    "#let us find all those users who are adopted user and the date they first became adopteduser\n",
    "thuse_day = thuse_day.set_index('date',drop = False)\n",
    "thuse_day  = thuse_day.sort_values(by = ['user_id','date'])\n",
    "thuse_day.index.is_all_dates\n",
    "adopted_users_fl = thuse_day.groupby(['user_id'])['visited'].rolling( '7D', min_periods = 1).sum().reset_index()\n",
    "adopted_users = adopted_users_fl[adopted_users_fl['visited'] == 3].drop_duplicates(subset=['user_id', 'visited'],\n",
    "                                                                                   keep = 'first')"
   ]
  },
  {
   "cell_type": "code",
   "execution_count": 9,
   "metadata": {},
   "outputs": [
    {
     "name": "stdout",
     "output_type": "stream",
     "text": [
      "(1602, 3)\n"
     ]
    },
    {
     "data": {
      "text/html": [
       "<div>\n",
       "<style scoped>\n",
       "    .dataframe tbody tr th:only-of-type {\n",
       "        vertical-align: middle;\n",
       "    }\n",
       "\n",
       "    .dataframe tbody tr th {\n",
       "        vertical-align: top;\n",
       "    }\n",
       "\n",
       "    .dataframe thead th {\n",
       "        text-align: right;\n",
       "    }\n",
       "</style>\n",
       "<table border=\"1\" class=\"dataframe\">\n",
       "  <thead>\n",
       "    <tr style=\"text-align: right;\">\n",
       "      <th></th>\n",
       "      <th>user_id</th>\n",
       "      <th>date</th>\n",
       "      <th>visited</th>\n",
       "    </tr>\n",
       "  </thead>\n",
       "  <tbody>\n",
       "    <tr>\n",
       "      <th>8</th>\n",
       "      <td>10</td>\n",
       "      <td>2013-02-19</td>\n",
       "      <td>3.0</td>\n",
       "    </tr>\n",
       "    <tr>\n",
       "      <th>294</th>\n",
       "      <td>10002</td>\n",
       "      <td>2014-05-25</td>\n",
       "      <td>3.0</td>\n",
       "    </tr>\n",
       "    <tr>\n",
       "      <th>306</th>\n",
       "      <td>10006</td>\n",
       "      <td>2014-03-29</td>\n",
       "      <td>3.0</td>\n",
       "    </tr>\n",
       "  </tbody>\n",
       "</table>\n",
       "</div>"
      ],
      "text/plain": [
       "    user_id       date  visited\n",
       "8        10 2013-02-19      3.0\n",
       "294   10002 2014-05-25      3.0\n",
       "306   10006 2014-03-29      3.0"
      ]
     },
     "execution_count": 9,
     "metadata": {},
     "output_type": "execute_result"
    }
   ],
   "source": [
    "print(adopted_users.shape)\n",
    "adopted_users.head(3)"
   ]
  },
  {
   "cell_type": "markdown",
   "metadata": {},
   "source": [
    "## adopted users' engagement data filtered till the day before they became adopted users"
   ]
  },
  {
   "cell_type": "code",
   "execution_count": 10,
   "metadata": {},
   "outputs": [
    {
     "data": {
      "text/html": [
       "<div>\n",
       "<style scoped>\n",
       "    .dataframe tbody tr th:only-of-type {\n",
       "        vertical-align: middle;\n",
       "    }\n",
       "\n",
       "    .dataframe tbody tr th {\n",
       "        vertical-align: top;\n",
       "    }\n",
       "\n",
       "    .dataframe thead th {\n",
       "        text-align: right;\n",
       "    }\n",
       "</style>\n",
       "<table border=\"1\" class=\"dataframe\">\n",
       "  <thead>\n",
       "    <tr style=\"text-align: right;\">\n",
       "      <th></th>\n",
       "      <th>user_id</th>\n",
       "      <th>date_x</th>\n",
       "      <th>visited_x</th>\n",
       "      <th>date_y</th>\n",
       "      <th>visited_y</th>\n",
       "    </tr>\n",
       "  </thead>\n",
       "  <tbody>\n",
       "    <tr>\n",
       "      <th>0</th>\n",
       "      <td>1</td>\n",
       "      <td>2014-04-22</td>\n",
       "      <td>1.0</td>\n",
       "      <td>NaT</td>\n",
       "      <td>NaN</td>\n",
       "    </tr>\n",
       "    <tr>\n",
       "      <th>1</th>\n",
       "      <td>10</td>\n",
       "      <td>2013-01-16</td>\n",
       "      <td>1.0</td>\n",
       "      <td>2013-02-19</td>\n",
       "      <td>3.0</td>\n",
       "    </tr>\n",
       "    <tr>\n",
       "      <th>2</th>\n",
       "      <td>10</td>\n",
       "      <td>2013-01-22</td>\n",
       "      <td>2.0</td>\n",
       "      <td>2013-02-19</td>\n",
       "      <td>3.0</td>\n",
       "    </tr>\n",
       "    <tr>\n",
       "      <th>3</th>\n",
       "      <td>10</td>\n",
       "      <td>2013-01-30</td>\n",
       "      <td>1.0</td>\n",
       "      <td>2013-02-19</td>\n",
       "      <td>3.0</td>\n",
       "    </tr>\n",
       "    <tr>\n",
       "      <th>4</th>\n",
       "      <td>10</td>\n",
       "      <td>2013-02-04</td>\n",
       "      <td>2.0</td>\n",
       "      <td>2013-02-19</td>\n",
       "      <td>3.0</td>\n",
       "    </tr>\n",
       "    <tr>\n",
       "      <th>5</th>\n",
       "      <td>10</td>\n",
       "      <td>2013-02-06</td>\n",
       "      <td>2.0</td>\n",
       "      <td>2013-02-19</td>\n",
       "      <td>3.0</td>\n",
       "    </tr>\n",
       "    <tr>\n",
       "      <th>6</th>\n",
       "      <td>10</td>\n",
       "      <td>2013-02-14</td>\n",
       "      <td>1.0</td>\n",
       "      <td>2013-02-19</td>\n",
       "      <td>3.0</td>\n",
       "    </tr>\n",
       "    <tr>\n",
       "      <th>7</th>\n",
       "      <td>10</td>\n",
       "      <td>2013-02-17</td>\n",
       "      <td>2.0</td>\n",
       "      <td>2013-02-19</td>\n",
       "      <td>3.0</td>\n",
       "    </tr>\n",
       "    <tr>\n",
       "      <th>285</th>\n",
       "      <td>100</td>\n",
       "      <td>2013-06-17</td>\n",
       "      <td>1.0</td>\n",
       "      <td>NaT</td>\n",
       "      <td>NaN</td>\n",
       "    </tr>\n",
       "    <tr>\n",
       "      <th>286</th>\n",
       "      <td>10000</td>\n",
       "      <td>2014-05-03</td>\n",
       "      <td>1.0</td>\n",
       "      <td>NaT</td>\n",
       "      <td>NaN</td>\n",
       "    </tr>\n",
       "  </tbody>\n",
       "</table>\n",
       "</div>"
      ],
      "text/plain": [
       "    user_id     date_x  visited_x     date_y  visited_y\n",
       "0         1 2014-04-22        1.0        NaT        NaN\n",
       "1        10 2013-01-16        1.0 2013-02-19        3.0\n",
       "2        10 2013-01-22        2.0 2013-02-19        3.0\n",
       "3        10 2013-01-30        1.0 2013-02-19        3.0\n",
       "4        10 2013-02-04        2.0 2013-02-19        3.0\n",
       "5        10 2013-02-06        2.0 2013-02-19        3.0\n",
       "6        10 2013-02-14        1.0 2013-02-19        3.0\n",
       "7        10 2013-02-17        2.0 2013-02-19        3.0\n",
       "285     100 2013-06-17        1.0        NaT        NaN\n",
       "286   10000 2014-05-03        1.0        NaT        NaN"
      ]
     },
     "execution_count": 10,
     "metadata": {},
     "output_type": "execute_result"
    }
   ],
   "source": [
    "thuse_day_adopt = adopted_users_fl.merge(adopted_users , how = 'left',on = ['user_id'])\n",
    "thuse_day_adopt1= thuse_day_adopt[~ ((thuse_day_adopt['visited_y'] == 3) & \n",
    "                                     ( thuse_day_adopt['date_x'] >= thuse_day_adopt['date_y']))]\n",
    "thuse_day_adopt1.head(10)"
   ]
  },
  {
   "cell_type": "markdown",
   "metadata": {},
   "source": [
    "## Calculate all good and simple featues that can be extracted from engagement table"
   ]
  },
  {
   "cell_type": "code",
   "execution_count": 11,
   "metadata": {},
   "outputs": [
    {
     "name": "stderr",
     "output_type": "stream",
     "text": [
      "C:\\Users\\Ashlesh B Shetty\\Anaconda2\\envs\\starterbot\\lib\\site-packages\\ipykernel_launcher.py:1: SettingWithCopyWarning: \n",
      "A value is trying to be set on a copy of a slice from a DataFrame.\n",
      "Try using .loc[row_indexer,col_indexer] = value instead\n",
      "\n",
      "See the caveats in the documentation: http://pandas.pydata.org/pandas-docs/stable/indexing.html#indexing-view-versus-copy\n",
      "  \"\"\"Entry point for launching an IPython kernel.\n",
      "C:\\Users\\Ashlesh B Shetty\\Anaconda2\\envs\\starterbot\\lib\\site-packages\\ipykernel_launcher.py:2: SettingWithCopyWarning: \n",
      "A value is trying to be set on a copy of a slice from a DataFrame.\n",
      "Try using .loc[row_indexer,col_indexer] = value instead\n",
      "\n",
      "See the caveats in the documentation: http://pandas.pydata.org/pandas-docs/stable/indexing.html#indexing-view-versus-copy\n",
      "  \n",
      "C:\\Users\\Ashlesh B Shetty\\Anaconda2\\envs\\starterbot\\lib\\site-packages\\ipykernel_launcher.py:4: SettingWithCopyWarning: \n",
      "A value is trying to be set on a copy of a slice from a DataFrame.\n",
      "Try using .loc[row_indexer,col_indexer] = value instead\n",
      "\n",
      "See the caveats in the documentation: http://pandas.pydata.org/pandas-docs/stable/indexing.html#indexing-view-versus-copy\n",
      "  after removing the cwd from sys.path.\n"
     ]
    },
    {
     "data": {
      "text/html": [
       "<div>\n",
       "<style scoped>\n",
       "    .dataframe tbody tr th:only-of-type {\n",
       "        vertical-align: middle;\n",
       "    }\n",
       "\n",
       "    .dataframe tbody tr th {\n",
       "        vertical-align: top;\n",
       "    }\n",
       "\n",
       "    .dataframe thead th {\n",
       "        text-align: right;\n",
       "    }\n",
       "</style>\n",
       "<table border=\"1\" class=\"dataframe\">\n",
       "  <thead>\n",
       "    <tr style=\"text-align: right;\">\n",
       "      <th></th>\n",
       "      <th>user_id_</th>\n",
       "      <th>firstweek_engcount</th>\n",
       "      <th>weekssecondeng_count</th>\n",
       "      <th>engagement_perweek</th>\n",
       "      <th>adopteduser_fl</th>\n",
       "    </tr>\n",
       "  </thead>\n",
       "  <tbody>\n",
       "    <tr>\n",
       "      <th>0</th>\n",
       "      <td>1</td>\n",
       "      <td>1</td>\n",
       "      <td>0.0</td>\n",
       "      <td>0.000000</td>\n",
       "      <td>0</td>\n",
       "    </tr>\n",
       "    <tr>\n",
       "      <th>1</th>\n",
       "      <td>10</td>\n",
       "      <td>2</td>\n",
       "      <td>4.0</td>\n",
       "      <td>1.484848</td>\n",
       "      <td>1</td>\n",
       "    </tr>\n",
       "    <tr>\n",
       "      <th>2</th>\n",
       "      <td>100</td>\n",
       "      <td>1</td>\n",
       "      <td>0.0</td>\n",
       "      <td>0.000000</td>\n",
       "      <td>0</td>\n",
       "    </tr>\n",
       "    <tr>\n",
       "      <th>3</th>\n",
       "      <td>10000</td>\n",
       "      <td>2</td>\n",
       "      <td>1.0</td>\n",
       "      <td>0.000000</td>\n",
       "      <td>0</td>\n",
       "    </tr>\n",
       "    <tr>\n",
       "      <th>4</th>\n",
       "      <td>10002</td>\n",
       "      <td>2</td>\n",
       "      <td>2.0</td>\n",
       "      <td>0.617647</td>\n",
       "      <td>1</td>\n",
       "    </tr>\n",
       "    <tr>\n",
       "      <th>5</th>\n",
       "      <td>10003</td>\n",
       "      <td>2</td>\n",
       "      <td>2.0</td>\n",
       "      <td>0.666667</td>\n",
       "      <td>0</td>\n",
       "    </tr>\n",
       "    <tr>\n",
       "      <th>6</th>\n",
       "      <td>10004</td>\n",
       "      <td>1</td>\n",
       "      <td>0.0</td>\n",
       "      <td>0.000000</td>\n",
       "      <td>0</td>\n",
       "    </tr>\n",
       "    <tr>\n",
       "      <th>7</th>\n",
       "      <td>10005</td>\n",
       "      <td>1</td>\n",
       "      <td>0.0</td>\n",
       "      <td>0.000000</td>\n",
       "      <td>0</td>\n",
       "    </tr>\n",
       "    <tr>\n",
       "      <th>8</th>\n",
       "      <td>10006</td>\n",
       "      <td>1</td>\n",
       "      <td>1.0</td>\n",
       "      <td>0.600000</td>\n",
       "      <td>1</td>\n",
       "    </tr>\n",
       "    <tr>\n",
       "      <th>9</th>\n",
       "      <td>10007</td>\n",
       "      <td>1</td>\n",
       "      <td>0.0</td>\n",
       "      <td>0.000000</td>\n",
       "      <td>0</td>\n",
       "    </tr>\n",
       "    <tr>\n",
       "      <th>10</th>\n",
       "      <td>10008</td>\n",
       "      <td>1</td>\n",
       "      <td>0.0</td>\n",
       "      <td>0.000000</td>\n",
       "      <td>0</td>\n",
       "    </tr>\n",
       "    <tr>\n",
       "      <th>11</th>\n",
       "      <td>10009</td>\n",
       "      <td>1</td>\n",
       "      <td>0.0</td>\n",
       "      <td>0.000000</td>\n",
       "      <td>0</td>\n",
       "    </tr>\n",
       "    <tr>\n",
       "      <th>12</th>\n",
       "      <td>1001</td>\n",
       "      <td>1</td>\n",
       "      <td>0.0</td>\n",
       "      <td>0.000000</td>\n",
       "      <td>0</td>\n",
       "    </tr>\n",
       "    <tr>\n",
       "      <th>13</th>\n",
       "      <td>10011</td>\n",
       "      <td>1</td>\n",
       "      <td>1.0</td>\n",
       "      <td>0.677419</td>\n",
       "      <td>1</td>\n",
       "    </tr>\n",
       "    <tr>\n",
       "      <th>14</th>\n",
       "      <td>10012</td>\n",
       "      <td>1</td>\n",
       "      <td>0.0</td>\n",
       "      <td>0.000000</td>\n",
       "      <td>0</td>\n",
       "    </tr>\n",
       "  </tbody>\n",
       "</table>\n",
       "</div>"
      ],
      "text/plain": [
       "   user_id_  firstweek_engcount  weekssecondeng_count  engagement_perweek  \\\n",
       "0         1                   1                   0.0            0.000000   \n",
       "1        10                   2                   4.0            1.484848   \n",
       "2       100                   1                   0.0            0.000000   \n",
       "3     10000                   2                   1.0            0.000000   \n",
       "4     10002                   2                   2.0            0.617647   \n",
       "5     10003                   2                   2.0            0.666667   \n",
       "6     10004                   1                   0.0            0.000000   \n",
       "7     10005                   1                   0.0            0.000000   \n",
       "8     10006                   1                   1.0            0.600000   \n",
       "9     10007                   1                   0.0            0.000000   \n",
       "10    10008                   1                   0.0            0.000000   \n",
       "11    10009                   1                   0.0            0.000000   \n",
       "12     1001                   1                   0.0            0.000000   \n",
       "13    10011                   1                   1.0            0.677419   \n",
       "14    10012                   1                   0.0            0.000000   \n",
       "\n",
       "    adopteduser_fl  \n",
       "0                0  \n",
       "1                1  \n",
       "2                0  \n",
       "3                0  \n",
       "4                1  \n",
       "5                0  \n",
       "6                0  \n",
       "7                0  \n",
       "8                1  \n",
       "9                0  \n",
       "10               0  \n",
       "11               0  \n",
       "12               0  \n",
       "13               1  \n",
       "14               0  "
      ]
     },
     "execution_count": 11,
     "metadata": {},
     "output_type": "execute_result"
    }
   ],
   "source": [
    "thuse_day_adopt1['visit_twiceperweek'] = np.where(thuse_day_adopt1['visited_x'] ==2.0, 1.0, 0.0)\n",
    "thuse_day_adopt1['joining_date'] = thuse_day_adopt1.groupby(['user_id'])['date_x'].transform(np.min)\n",
    "thuse_day_adopt1['first_week_fl'] = np.where(thuse_day_adopt1['date_x'] < \n",
    "                                             (thuse_day_adopt1['joining_date'] + pd.Timedelta('7D')),1,0)\n",
    "thuse_day_adopt2 = thuse_day_adopt1.groupby(['user_id']).agg({'date_x' : ['min','max','count'],\n",
    "                                          'visit_twiceperweek' : ['sum'],\n",
    "                                          'visited_y': ['sum'],\n",
    "                                           'first_week_fl':['sum']}).reset_index()\n",
    "thuse_day_adopt2.columns = [\"_\".join(i) for i in thuse_day_adopt2.columns.ravel()]\n",
    "thuse_day_adopt2['engag_period_days'] = (thuse_day_adopt2['date_x_max'] - \n",
    "                                          thuse_day_adopt2['date_x_min'] + \n",
    "                                          pd.Timedelta('1D'))/pd.Timedelta('1D')\n",
    "thuse_day_adopt2['adopteduser_fl'] = np.where(thuse_day_adopt2['visited_y_sum'] > 0.0,1,0)\n",
    "thuse_day_adopt2['engagement_perweek'] = np.where( thuse_day_adopt2['engag_period_days'] <=7,\n",
    "                                                 0,\n",
    "                                               thuse_day_adopt2['date_x_count'] / (thuse_day_adopt2['engag_period_days']/7))\n",
    "\n",
    "thuse_day_adopt2.rename(columns = {'date_x_count':'engagement_count',\n",
    "                         'visit_twiceperweek_sum':'weekssecondeng_count',\n",
    "                                  'first_week_fl_sum': 'firstweek_engcount'}, inplace=True) \n",
    "engagement_features = thuse_day_adopt2[['user_id_','firstweek_engcount',\n",
    "                                        'weekssecondeng_count','engagement_perweek' ,'adopteduser_fl']]\n",
    "engagement_features.head(15)\n",
    "# thuse_day_adopt2.head()"
   ]
  },
  {
   "cell_type": "markdown",
   "metadata": {},
   "source": [
    "## Calculate all good and simple featues that can be extracted from user table"
   ]
  },
  {
   "cell_type": "code",
   "execution_count": 77,
   "metadata": {},
   "outputs": [
    {
     "data": {
      "text/html": [
       "<div>\n",
       "<style scoped>\n",
       "    .dataframe tbody tr th:only-of-type {\n",
       "        vertical-align: middle;\n",
       "    }\n",
       "\n",
       "    .dataframe tbody tr th {\n",
       "        vertical-align: top;\n",
       "    }\n",
       "\n",
       "    .dataframe thead th {\n",
       "        text-align: right;\n",
       "    }\n",
       "</style>\n",
       "<table border=\"1\" class=\"dataframe\">\n",
       "  <thead>\n",
       "    <tr style=\"text-align: right;\">\n",
       "      <th></th>\n",
       "      <th>object_id</th>\n",
       "      <th>creation_source</th>\n",
       "      <th>opted_in_to_mailing_list</th>\n",
       "      <th>enabled_for_marketing_drip</th>\n",
       "      <th>org_id_fl</th>\n",
       "      <th>invited_by_user_fl</th>\n",
       "      <th>month_fl</th>\n",
       "      <th>non_generalpurpose_emaildomain</th>\n",
       "    </tr>\n",
       "  </thead>\n",
       "  <tbody>\n",
       "    <tr>\n",
       "      <th>0</th>\n",
       "      <td>1</td>\n",
       "      <td>GUEST_INVITE</td>\n",
       "      <td>1</td>\n",
       "      <td>0</td>\n",
       "      <td>0</td>\n",
       "      <td>0</td>\n",
       "      <td>4</td>\n",
       "      <td>0</td>\n",
       "    </tr>\n",
       "    <tr>\n",
       "      <th>1</th>\n",
       "      <td>2</td>\n",
       "      <td>ORG_INVITE</td>\n",
       "      <td>0</td>\n",
       "      <td>0</td>\n",
       "      <td>0</td>\n",
       "      <td>0</td>\n",
       "      <td>11</td>\n",
       "      <td>1</td>\n",
       "    </tr>\n",
       "    <tr>\n",
       "      <th>2</th>\n",
       "      <td>3</td>\n",
       "      <td>ORG_INVITE</td>\n",
       "      <td>0</td>\n",
       "      <td>0</td>\n",
       "      <td>0</td>\n",
       "      <td>0</td>\n",
       "      <td>3</td>\n",
       "      <td>1</td>\n",
       "    </tr>\n",
       "    <tr>\n",
       "      <th>3</th>\n",
       "      <td>4</td>\n",
       "      <td>GUEST_INVITE</td>\n",
       "      <td>0</td>\n",
       "      <td>0</td>\n",
       "      <td>0</td>\n",
       "      <td>0</td>\n",
       "      <td>5</td>\n",
       "      <td>0</td>\n",
       "    </tr>\n",
       "    <tr>\n",
       "      <th>4</th>\n",
       "      <td>5</td>\n",
       "      <td>GUEST_INVITE</td>\n",
       "      <td>0</td>\n",
       "      <td>0</td>\n",
       "      <td>0</td>\n",
       "      <td>0</td>\n",
       "      <td>1</td>\n",
       "      <td>0</td>\n",
       "    </tr>\n",
       "  </tbody>\n",
       "</table>\n",
       "</div>"
      ],
      "text/plain": [
       "  object_id creation_source opted_in_to_mailing_list  \\\n",
       "0         1    GUEST_INVITE                        1   \n",
       "1         2      ORG_INVITE                        0   \n",
       "2         3      ORG_INVITE                        0   \n",
       "3         4    GUEST_INVITE                        0   \n",
       "4         5    GUEST_INVITE                        0   \n",
       "\n",
       "  enabled_for_marketing_drip  org_id_fl  invited_by_user_fl  month_fl  \\\n",
       "0                          0          0                   0         4   \n",
       "1                          0          0                   0        11   \n",
       "2                          0          0                   0         3   \n",
       "3                          0          0                   0         5   \n",
       "4                          0          0                   0         1   \n",
       "\n",
       "   non_generalpurpose_emaildomain  \n",
       "0                               0  \n",
       "1                               1  \n",
       "2                               1  \n",
       "3                               0  \n",
       "4                               0  "
      ]
     },
     "execution_count": 77,
     "metadata": {},
     "output_type": "execute_result"
    }
   ],
   "source": [
    "\n",
    "takehome_users.head()\n",
    "takehome_users['org_id_fl'] = np.where(takehome_users['org_id']=='0',1,0)\n",
    "takehome_users['invited_by_user_fl'] = np.where(takehome_users['invited_by_user_id']=='',1,0)\n",
    "takehome_users['month_fl'] = pd.DatetimeIndex(takehome_users['creation_time']).month\n",
    "takehome_users['email_domain'] = takehome_users['email'].str.split('@').str[1]\n",
    "takehome_users['email_domain'] = takehome_users['email_domain'].str.replace('.','_')\n",
    "takehome_users['non_generalpurpose_emaildomain']=np.where(~(takehome_users['email_domain'].isin(['gmail_com', \n",
    "                                                                                  'yahoo_com',\n",
    "                                                                                  'hotmail_com'])),1 ,0)\n",
    "user_features = takehome_users[['object_id','creation_source', 'opted_in_to_mailing_list', 'enabled_for_marketing_drip',\n",
    "                               'org_id_fl','invited_by_user_fl','month_fl','non_generalpurpose_emaildomain']]\n",
    "user_features.head()"
   ]
  },
  {
   "cell_type": "markdown",
   "metadata": {},
   "source": [
    "## Creation of master data"
   ]
  },
  {
   "cell_type": "code",
   "execution_count": 13,
   "metadata": {
    "scrolled": true
   },
   "outputs": [
    {
     "name": "stdout",
     "output_type": "stream",
     "text": [
      "(8823, 5)\n",
      "(12000, 8)\n",
      "(8823, 13)\n"
     ]
    },
    {
     "data": {
      "text/html": [
       "<div>\n",
       "<style scoped>\n",
       "    .dataframe tbody tr th:only-of-type {\n",
       "        vertical-align: middle;\n",
       "    }\n",
       "\n",
       "    .dataframe tbody tr th {\n",
       "        vertical-align: top;\n",
       "    }\n",
       "\n",
       "    .dataframe thead th {\n",
       "        text-align: right;\n",
       "    }\n",
       "</style>\n",
       "<table border=\"1\" class=\"dataframe\">\n",
       "  <thead>\n",
       "    <tr style=\"text-align: right;\">\n",
       "      <th></th>\n",
       "      <th>user_id_</th>\n",
       "      <th>firstweek_engcount</th>\n",
       "      <th>weekssecondeng_count</th>\n",
       "      <th>engagement_perweek</th>\n",
       "      <th>adopteduser_fl</th>\n",
       "      <th>object_id</th>\n",
       "      <th>creation_source</th>\n",
       "      <th>opted_in_to_mailing_list</th>\n",
       "      <th>enabled_for_marketing_drip</th>\n",
       "      <th>org_id_fl</th>\n",
       "      <th>invited_by_user_fl</th>\n",
       "      <th>month_fl</th>\n",
       "      <th>non_generalpurpose_emaildomain</th>\n",
       "    </tr>\n",
       "  </thead>\n",
       "  <tbody>\n",
       "    <tr>\n",
       "      <th>0</th>\n",
       "      <td>1</td>\n",
       "      <td>1</td>\n",
       "      <td>0.0</td>\n",
       "      <td>0.000000</td>\n",
       "      <td>0</td>\n",
       "      <td>1</td>\n",
       "      <td>GUEST_INVITE</td>\n",
       "      <td>1</td>\n",
       "      <td>0</td>\n",
       "      <td>0</td>\n",
       "      <td>0</td>\n",
       "      <td>4</td>\n",
       "      <td>0</td>\n",
       "    </tr>\n",
       "    <tr>\n",
       "      <th>1</th>\n",
       "      <td>10</td>\n",
       "      <td>2</td>\n",
       "      <td>4.0</td>\n",
       "      <td>1.484848</td>\n",
       "      <td>1</td>\n",
       "      <td>10</td>\n",
       "      <td>ORG_INVITE</td>\n",
       "      <td>1</td>\n",
       "      <td>1</td>\n",
       "      <td>0</td>\n",
       "      <td>0</td>\n",
       "      <td>1</td>\n",
       "      <td>1</td>\n",
       "    </tr>\n",
       "    <tr>\n",
       "      <th>2</th>\n",
       "      <td>100</td>\n",
       "      <td>1</td>\n",
       "      <td>0.0</td>\n",
       "      <td>0.000000</td>\n",
       "      <td>0</td>\n",
       "      <td>100</td>\n",
       "      <td>ORG_INVITE</td>\n",
       "      <td>0</td>\n",
       "      <td>0</td>\n",
       "      <td>0</td>\n",
       "      <td>0</td>\n",
       "      <td>6</td>\n",
       "      <td>1</td>\n",
       "    </tr>\n",
       "    <tr>\n",
       "      <th>3</th>\n",
       "      <td>10000</td>\n",
       "      <td>2</td>\n",
       "      <td>1.0</td>\n",
       "      <td>0.000000</td>\n",
       "      <td>0</td>\n",
       "      <td>10000</td>\n",
       "      <td>ORG_INVITE</td>\n",
       "      <td>1</td>\n",
       "      <td>1</td>\n",
       "      <td>0</td>\n",
       "      <td>0</td>\n",
       "      <td>5</td>\n",
       "      <td>0</td>\n",
       "    </tr>\n",
       "    <tr>\n",
       "      <th>4</th>\n",
       "      <td>10002</td>\n",
       "      <td>2</td>\n",
       "      <td>2.0</td>\n",
       "      <td>0.617647</td>\n",
       "      <td>1</td>\n",
       "      <td>10002</td>\n",
       "      <td>SIGNUP</td>\n",
       "      <td>0</td>\n",
       "      <td>0</td>\n",
       "      <td>0</td>\n",
       "      <td>1</td>\n",
       "      <td>3</td>\n",
       "      <td>0</td>\n",
       "    </tr>\n",
       "  </tbody>\n",
       "</table>\n",
       "</div>"
      ],
      "text/plain": [
       "  user_id_  firstweek_engcount  weekssecondeng_count  engagement_perweek  \\\n",
       "0        1                   1                   0.0            0.000000   \n",
       "1       10                   2                   4.0            1.484848   \n",
       "2      100                   1                   0.0            0.000000   \n",
       "3    10000                   2                   1.0            0.000000   \n",
       "4    10002                   2                   2.0            0.617647   \n",
       "\n",
       "   adopteduser_fl object_id creation_source  opted_in_to_mailing_list  \\\n",
       "0               0         1    GUEST_INVITE                         1   \n",
       "1               1        10      ORG_INVITE                         1   \n",
       "2               0       100      ORG_INVITE                         0   \n",
       "3               0     10000      ORG_INVITE                         1   \n",
       "4               1     10002          SIGNUP                         0   \n",
       "\n",
       "   enabled_for_marketing_drip  org_id_fl  invited_by_user_fl  month_fl  \\\n",
       "0                           0          0                   0         4   \n",
       "1                           1          0                   0         1   \n",
       "2                           0          0                   0         6   \n",
       "3                           1          0                   0         5   \n",
       "4                           0          0                   1         3   \n",
       "\n",
       "   non_generalpurpose_emaildomain  \n",
       "0                               0  \n",
       "1                               1  \n",
       "2                               1  \n",
       "3                               0  \n",
       "4                               0  "
      ]
     },
     "execution_count": 13,
     "metadata": {},
     "output_type": "execute_result"
    }
   ],
   "source": [
    "print(engagement_features.shape)\n",
    "print(user_features.shape)\n",
    "master_data1 = engagement_features.merge(user_features, how = 'inner', left_on = ['user_id_'],right_on = ['object_id'])\n",
    "print(master_data1.shape)\n",
    "master_data1['opted_in_to_mailing_list'] =  master_data1['opted_in_to_mailing_list'].map(int)\n",
    "master_data1['enabled_for_marketing_drip']= master_data1['enabled_for_marketing_drip'].map(int)\n",
    "master_data1.head()"
   ]
  },
  {
   "cell_type": "markdown",
   "metadata": {},
   "source": [
    "## Basic Highlevel EDA and Hypothesis testing"
   ]
  },
  {
   "cell_type": "markdown",
   "metadata": {},
   "source": [
    "### Hypothesis1:\tDuring the first week of engagement (i.e. the trial and evaluation stage of the adoption process) users with higher engagement have significantly different adoption patterns"
   ]
  },
  {
   "cell_type": "code",
   "execution_count": 72,
   "metadata": {},
   "outputs": [
    {
     "name": "stdout",
     "output_type": "stream",
     "text": [
      "firstweek_engcount  adopteduser_fl\n",
      "1                   0                 6920\n",
      "                    1                 1011\n",
      "2                   0                  301\n",
      "                    1                  591\n",
      "dtype: int64\n"
     ]
    },
    {
     "data": {
      "text/plain": [
       "(1541.2617433601531, 0.0, 1, array([[ 6490.96123767,   730.03876233],\n",
       "        [ 1440.03876233,   161.96123767]]))"
      ]
     },
     "execution_count": 72,
     "metadata": {},
     "output_type": "execute_result"
    },
    {
     "data": {
      "image/png": "[encoded data removed]",
      "text/plain": [
       "<Figure size 216x216 with 1 Axes>"
      ]
     },
     "metadata": {},
     "output_type": "display_data"
    }
   ],
   "source": [
    "# Look at distribution wrt dependent\n",
    "two_way_table_1 = master_data1.groupby(['firstweek_engcount','adopteduser_fl']).size()\n",
    "print(two_way_table_1)\n",
    "\n",
    "#plot \n",
    "plt.rcParams['figure.figsize'] = [3,3]\n",
    "two_way_table_1.plot('bar',color = 'grey')\n",
    "\n",
    "#chisquare independence test\n",
    "chi2_contingency(\n",
    "two_way_table_1.reset_index().pivot(columns = 'firstweek_engcount', \n",
    "                                    values=0,\n",
    "                                    index = 'adopteduser_fl').values\n",
    ")"
   ]
  },
  {
   "cell_type": "markdown",
   "metadata": {},
   "source": [
    "### Hypothesis2:\tDuring the pre-adoption phase (i.e. the users who have crossed the trial and evaluation stage of the adoption process) users with high frequency weekly engagement have significantly different adoption pattern "
   ]
  },
  {
   "cell_type": "code",
   "execution_count": 105,
   "metadata": {},
   "outputs": [
    {
     "name": "stdout",
     "output_type": "stream",
     "text": [
      "adopteduser_fl\n",
      "0    0.113907\n",
      "1    0.813694\n",
      "Name: engagement_perweek, dtype: float64\n",
      "Optimization terminated successfully.\n",
      "         Current function value: 0.687466\n",
      "         Iterations 4\n",
      "\n",
      " parameter\n",
      "0.423239082784\n",
      "\n",
      " pvalue\n",
      "1.22008079975e-22\n"
     ]
    },
    {
     "data": {
      "image/png": "[encoded data removed]",
      "text/plain": [
       "<Figure size 216x216 with 1 Axes>"
      ]
     },
     "metadata": {},
     "output_type": "display_data"
    }
   ],
   "source": [
    "# Look at distribution wrt dependent\n",
    "variable_summary = master_data1.groupby(['adopteduser_fl'])['engagement_perweek'].mean()\n",
    "print(variable_summary)\n",
    "\n",
    "#plot \n",
    "plt.rcParams['figure.figsize'] = [3,3]\n",
    "variable_summary.plot('bar',color = 'grey')\n",
    "\n",
    "reg_test = sm.Logit(master_data1['adopteduser_fl'],master_data1['engagement_perweek'])\n",
    "reg_test_results = reg_test.fit()\n",
    "\n",
    "print('\\n parameter')\n",
    "print(reg_test_results.params.values[0])\n",
    "\n",
    "print('\\n pvalue')\n",
    "print(reg_test_results.pvalues.values[0])"
   ]
  },
  {
   "cell_type": "markdown",
   "metadata": {},
   "source": [
    "### Hypothesis3: Users who are having high number of second engagements in a week duration have significantly different adoption pattern"
   ]
  },
  {
   "cell_type": "code",
   "execution_count": 106,
   "metadata": {},
   "outputs": [
    {
     "name": "stdout",
     "output_type": "stream",
     "text": [
      "adopteduser_fl\n",
      "0    0.138208\n",
      "1    2.548065\n",
      "Name: weekssecondeng_count, dtype: float64\n",
      "Optimization terminated successfully.\n",
      "         Current function value: 0.657684\n",
      "         Iterations 6\n",
      "\n",
      " parameter\n",
      "0.47979379463\n",
      "\n",
      " pvalue\n",
      "5.91729655458e-93\n"
     ]
    },
    {
     "data": {
      "image/png": "[encoded data removed]",
      "text/plain": [
       "<Figure size 216x216 with 1 Axes>"
      ]
     },
     "metadata": {},
     "output_type": "display_data"
    }
   ],
   "source": [
    "# Look at distribution wrt dependent\n",
    "variable_summary = master_data1.groupby(['adopteduser_fl'])['weekssecondeng_count'].mean()\n",
    "print(variable_summary)\n",
    "\n",
    "#plot \n",
    "plt.rcParams['figure.figsize'] = [3,3]\n",
    "variable_summary.plot('bar',color = 'grey')\n",
    "\n",
    "reg_test = sm.Logit(master_data1['adopteduser_fl'],master_data1['weekssecondeng_count'])\n",
    "reg_test_results = reg_test.fit()\n",
    "\n",
    "print('\\n parameter')\n",
    "print(reg_test_results.params.values[0])\n",
    "\n",
    "print('\\n pvalue')\n",
    "print(reg_test_results.pvalues.values[0])"
   ]
  },
  {
   "cell_type": "markdown",
   "metadata": {},
   "source": [
    "### Hypothesis4: Users who show special interest (i.e. who have opted to mailing list or  enabled for marketing drip) have significantly different adoption pattern"
   ]
  },
  {
   "cell_type": "code",
   "execution_count": 75,
   "metadata": {},
   "outputs": [
    {
     "name": "stdout",
     "output_type": "stream",
     "text": [
      "opted_in_to_mailing_list  adopteduser_fl\n",
      "0                         0                 5409\n",
      "                          1                 1188\n",
      "1                         0                 1812\n",
      "                          1                  414\n",
      "dtype: int64\n"
     ]
    },
    {
     "data": {
      "text/plain": [
       "(0.35143608318966202,\n",
       " 0.55330132184724667,\n",
       " 1,\n",
       " array([[ 5399.17681061,  1821.82318939],\n",
       "        [ 1197.82318939,   404.17681061]]))"
      ]
     },
     "execution_count": 75,
     "metadata": {},
     "output_type": "execute_result"
    },
    {
     "data": {
      "image/png": "[encoded data removed]",
      "text/plain": [
       "<Figure size 216x216 with 1 Axes>"
      ]
     },
     "metadata": {},
     "output_type": "display_data"
    }
   ],
   "source": [
    "# Look at distribution wrt dependent\n",
    "two_way_table_1 = master_data1.groupby(['opted_in_to_mailing_list','adopteduser_fl']).size()\n",
    "print(two_way_table_1)\n",
    "\n",
    "#plot \n",
    "plt.rcParams['figure.figsize'] = [3,3]\n",
    "two_way_table_1.plot('bar',color = 'grey')\n",
    "\n",
    "#chisquare independence test\n",
    "chi2_contingency(\n",
    "two_way_table_1.reset_index().pivot(columns = 'opted_in_to_mailing_list', \n",
    "                                    values=0,\n",
    "                                    index = 'adopteduser_fl').values\n",
    ")"
   ]
  },
  {
   "cell_type": "code",
   "execution_count": 78,
   "metadata": {},
   "outputs": [
    {
     "name": "stdout",
     "output_type": "stream",
     "text": [
      "enabled_for_marketing_drip  adopteduser_fl\n",
      "0                           0                 6126\n",
      "                            1                 1356\n",
      "1                           0                 1095\n",
      "                            1                  246\n",
      "dtype: int64\n"
     ]
    },
    {
     "data": {
      "text/plain": [
       "(0.023989208408858251,\n",
       " 0.8769123732150772,\n",
       " 1,\n",
       " array([[ 6123.48656919,  1097.51343081],\n",
       "        [ 1358.51343081,   243.48656919]]))"
      ]
     },
     "execution_count": 78,
     "metadata": {},
     "output_type": "execute_result"
    },
    {
     "data": {
      "image/png": "[encoded data removed]",
      "text/plain": [
       "<Figure size 216x216 with 1 Axes>"
      ]
     },
     "metadata": {},
     "output_type": "display_data"
    }
   ],
   "source": [
    "# Look at distribution wrt dependent\n",
    "two_way_table_1 = master_data1.groupby(['enabled_for_marketing_drip','adopteduser_fl']).size()\n",
    "print(two_way_table_1)\n",
    "\n",
    "#plot \n",
    "plt.rcParams['figure.figsize'] = [3,3]\n",
    "two_way_table_1.plot('bar',color = 'grey')\n",
    "\n",
    "#chisquare independence test\n",
    "chi2_contingency(\n",
    "two_way_table_1.reset_index().pivot(columns = 'enabled_for_marketing_drip', \n",
    "                                    values=0,\n",
    "                                    index = 'adopteduser_fl').values\n",
    ")"
   ]
  },
  {
   "cell_type": "markdown",
   "metadata": {},
   "source": [
    "### Hypothesis5: Users who have affiliation to any organization have significantly different adoption pattern"
   ]
  },
  {
   "cell_type": "code",
   "execution_count": 79,
   "metadata": {},
   "outputs": [
    {
     "name": "stdout",
     "output_type": "stream",
     "text": [
      "org_id_fl  adopteduser_fl\n",
      "0          0                 7004\n",
      "           1                 1591\n",
      "1          0                  217\n",
      "           1                   11\n",
      "dtype: int64\n"
     ]
    },
    {
     "data": {
      "text/plain": [
       "(27.083032400233851,\n",
       " 1.9490114861853126e-07,\n",
       " 1,\n",
       " array([[ 7034.39816389,   186.60183611],\n",
       "        [ 1560.60183611,    41.39816389]]))"
      ]
     },
     "execution_count": 79,
     "metadata": {},
     "output_type": "execute_result"
    },
    {
     "data": {
      "image/png": "[encoded data removed]",
      "text/plain": [
       "<Figure size 216x216 with 1 Axes>"
      ]
     },
     "metadata": {},
     "output_type": "display_data"
    }
   ],
   "source": [
    "# Look at distribution wrt dependent\n",
    "two_way_table_1 = master_data1.groupby(['org_id_fl','adopteduser_fl']).size()\n",
    "print(two_way_table_1)\n",
    "\n",
    "#plot \n",
    "plt.rcParams['figure.figsize'] = [3,3]\n",
    "two_way_table_1.plot('bar',color = 'grey')\n",
    "\n",
    "#chisquare independence test\n",
    "chi2_contingency(\n",
    "two_way_table_1.reset_index().pivot(columns = 'org_id_fl', \n",
    "                                    values=0,\n",
    "                                    index = 'adopteduser_fl').values\n",
    ")"
   ]
  },
  {
   "cell_type": "markdown",
   "metadata": {},
   "source": [
    "### Hypothesis6: Users from different creation source have significantly different adoption pattern"
   ]
  },
  {
   "cell_type": "code",
   "execution_count": 102,
   "metadata": {},
   "outputs": [
    {
     "name": "stdout",
     "output_type": "stream",
     "text": [
      "creation_source     adopteduser_fl\n",
      "GUEST_INVITE        0                 1228\n",
      "                    1                  360\n",
      "ORG_INVITE          0                 2635\n",
      "                    1                  553\n",
      "PERSONAL_PROJECTS   0                  600\n",
      "                    1                  164\n",
      "SIGNUP              0                 1605\n",
      "                    1                  293\n",
      "SIGNUP_GOOGLE_AUTH  0                 1153\n",
      "                    1                  232\n",
      "dtype: int64\n"
     ]
    },
    {
     "data": {
      "text/plain": [
       "(40.094289640685048,\n",
       " 4.1383652245208604e-08,\n",
       " 4,\n",
       " array([[ 1299.66541993,  2609.15198912,   625.27983679,  1553.37844271,\n",
       "          1133.52431146],\n",
       "        [  288.33458007,   578.84801088,   138.72016321,   344.62155729,\n",
       "           251.47568854]]))"
      ]
     },
     "execution_count": 102,
     "metadata": {},
     "output_type": "execute_result"
    },
    {
     "data": {
      "image/png": "[encoded data removed]",
      "text/plain": [
       "<Figure size 720x216 with 1 Axes>"
      ]
     },
     "metadata": {},
     "output_type": "display_data"
    }
   ],
   "source": [
    "# Look at distribution wrt dependent\n",
    "two_way_table_1 = master_data1.groupby(['creation_source','adopteduser_fl']).size()\n",
    "print(two_way_table_1)\n",
    "\n",
    "#plot \n",
    "plt.rcParams['figure.figsize'] = [10,3]\n",
    "two_way_table_1.plot('bar',color = 'grey')\n",
    "\n",
    "#chisquare independence test\n",
    "chi2_contingency(\n",
    "two_way_table_1.reset_index().pivot(columns = 'creation_source', \n",
    "                                    values=0,\n",
    "                                    index = 'adopteduser_fl').values\n",
    ")"
   ]
  },
  {
   "cell_type": "markdown",
   "metadata": {},
   "source": [
    "### Hypothesis7: Month in which user starts the engagement have significantly relation to their adoption pattern"
   ]
  },
  {
   "cell_type": "code",
   "execution_count": 100,
   "metadata": {},
   "outputs": [
    {
     "name": "stdout",
     "output_type": "stream",
     "text": [
      "month_fl  adopteduser_fl\n",
      "1         0                 611\n",
      "          1                 145\n",
      "2         0                 578\n",
      "          1                 134\n",
      "3         0                 718\n",
      "          1                 157\n",
      "4         0                 761\n",
      "          1                 106\n",
      "5         0                 973\n",
      "          1                  73\n",
      "6         0                 455\n",
      "          1                 150\n",
      "7         0                 481\n",
      "          1                 119\n",
      "8         0                 503\n",
      "          1                 141\n",
      "9         0                 518\n",
      "          1                 138\n",
      "10        0                 541\n",
      "          1                 160\n",
      "11        0                 527\n",
      "          1                 150\n",
      "12        0                 555\n",
      "          1                 129\n",
      "dtype: int64\n"
     ]
    },
    {
     "data": {
      "text/plain": [
       "(155.81363245826566,\n",
       " 9.6431510615244563e-28,\n",
       " 11,\n",
       " array([[ 618.73240394,  582.72152329,  716.12546753,  709.57803468,\n",
       "          856.07684461,  495.14960898,  491.05746345,  527.0683441 ,\n",
       "          536.88949337,  573.71880313,  554.07650459,  559.80550833],\n",
       "        [ 137.26759606,  129.27847671,  158.87453247,  157.42196532,\n",
       "          189.92315539,  109.85039102,  108.94253655,  116.9316559 ,\n",
       "          119.11050663,  127.28119687,  122.92349541,  124.19449167]]))"
      ]
     },
     "execution_count": 100,
     "metadata": {},
     "output_type": "execute_result"
    },
    {
     "data": {
      "image/png": "[encoded data removed]",
      "text/plain": [
       "<Figure size 720x216 with 1 Axes>"
      ]
     },
     "metadata": {},
     "output_type": "display_data"
    }
   ],
   "source": [
    "# Look at distribution wrt dependent\n",
    "two_way_table_1 = master_data1.groupby(['month_fl','adopteduser_fl']).size()\n",
    "print(two_way_table_1)\n",
    "\n",
    "#plot \n",
    "plt.rcParams['figure.figsize'] = [10,3]\n",
    "two_way_table_1.plot('bar',color = 'grey')\n",
    "\n",
    "#chisquare independence test\n",
    "chi2_contingency(\n",
    "two_way_table_1.reset_index().pivot(columns = 'month_fl', \n",
    "                                    values=0,\n",
    "                                    index = 'adopteduser_fl').values\n",
    ")"
   ]
  },
  {
   "cell_type": "markdown",
   "metadata": {},
   "source": [
    "### Hypothesis8: Users having general purpose email domian ID's (gmal, yahoo and hotmail) have significantly different adoption pattern"
   ]
  },
  {
   "cell_type": "code",
   "execution_count": 103,
   "metadata": {},
   "outputs": [
    {
     "name": "stdout",
     "output_type": "stream",
     "text": [
      "non_generalpurpose_emaildomain  adopteduser_fl\n",
      "0                               0                 4458\n",
      "                                1                 1001\n",
      "1                               0                 2763\n",
      "                                1                  601\n",
      "dtype: int64\n"
     ]
    },
    {
     "data": {
      "text/plain": [
       "(0.27990128022570981,\n",
       " 0.59676592845483933,\n",
       " 1,\n",
       " array([[ 4467.80448827,  2753.19551173],\n",
       "        [  991.19551173,   610.80448827]]))"
      ]
     },
     "execution_count": 103,
     "metadata": {},
     "output_type": "execute_result"
    },
    {
     "data": {
      "image/png": "[encoded data removed]",
      "text/plain": [
       "<Figure size 216x216 with 1 Axes>"
      ]
     },
     "metadata": {},
     "output_type": "display_data"
    }
   ],
   "source": [
    "# Look at distribution wrt dependent\n",
    "two_way_table_1 = master_data1.groupby(['non_generalpurpose_emaildomain','adopteduser_fl']).size()\n",
    "print(two_way_table_1)\n",
    "\n",
    "#plot \n",
    "plt.rcParams['figure.figsize'] = [3,3]\n",
    "two_way_table_1.plot('bar',color = 'grey')\n",
    "\n",
    "#chisquare independence test\n",
    "chi2_contingency(\n",
    "two_way_table_1.reset_index().pivot(columns = 'non_generalpurpose_emaildomain', \n",
    "                                    values=0,\n",
    "                                    index = 'adopteduser_fl').values\n",
    ")"
   ]
  },
  {
   "cell_type": "markdown",
   "metadata": {},
   "source": [
    "## Build logistic regression"
   ]
  },
  {
   "cell_type": "code",
   "execution_count": 104,
   "metadata": {},
   "outputs": [],
   "source": [
    "master_data1_1 = master_data1[['user_id_', 'weekssecondeng_count','firstweek_engcount','engagement_perweek',\n",
    "                               'adopteduser_fl', 'creation_source','opted_in_to_mailing_list', \n",
    "                               'enabled_for_marketing_drip', 'org_id_fl','month_fl', 'non_generalpurpose_emaildomain']]"
   ]
  },
  {
   "cell_type": "markdown",
   "metadata": {},
   "source": [
    "checking for distribution of numeric data across 2 classes"
   ]
  },
  {
   "cell_type": "code",
   "execution_count": 99,
   "metadata": {},
   "outputs": [
    {
     "data": {
      "image/png": "[encoded data removed]",
      "text/plain": [
       "<Figure size 1080x504 with 9 Axes>"
      ]
     },
     "metadata": {},
     "output_type": "display_data"
    },
    {
     "data": {
      "image/png": "[encoded data removed]",
      "text/plain": [
       "<Figure size 1080x504 with 9 Axes>"
      ]
     },
     "metadata": {},
     "output_type": "display_data"
    }
   ],
   "source": [
    "plt.rcParams['figure.figsize'] = [15, 7]\n",
    "master_data1_1.groupby(['adopteduser_fl']).hist(color = 'grey')\n",
    "plt.show()"
   ]
  },
  {
   "cell_type": "markdown",
   "metadata": {},
   "source": [
    "Checking for discrete data distribution across 2 classes"
   ]
  },
  {
   "cell_type": "code",
   "execution_count": 92,
   "metadata": {},
   "outputs": [
    {
     "data": {
      "image/png": "[encoded data removed]",
      "text/plain": [
       "<Figure size 720x216 with 1 Axes>"
      ]
     },
     "metadata": {},
     "output_type": "display_data"
    }
   ],
   "source": [
    "plt.style.use('ggplot')\n",
    "plt.rcParams['figure.figsize'] = [10,3]\n",
    "master_data1_1.groupby(['creation_source','adopteduser_fl']).size().plot('bar', color = 'grey' )\n",
    "plt.show()"
   ]
  },
  {
   "cell_type": "markdown",
   "metadata": {},
   "source": [
    "Do one hot encoding for all categorical variables"
   ]
  },
  {
   "cell_type": "code",
   "execution_count": 108,
   "metadata": {},
   "outputs": [
    {
     "data": {
      "text/html": [
       "<div>\n",
       "<style scoped>\n",
       "    .dataframe tbody tr th:only-of-type {\n",
       "        vertical-align: middle;\n",
       "    }\n",
       "\n",
       "    .dataframe tbody tr th {\n",
       "        vertical-align: top;\n",
       "    }\n",
       "\n",
       "    .dataframe thead th {\n",
       "        text-align: right;\n",
       "    }\n",
       "</style>\n",
       "<table border=\"1\" class=\"dataframe\">\n",
       "  <thead>\n",
       "    <tr style=\"text-align: right;\">\n",
       "      <th></th>\n",
       "      <th>user_id_</th>\n",
       "      <th>weekssecondeng_count</th>\n",
       "      <th>firstweek_engcount</th>\n",
       "      <th>engagement_perweek</th>\n",
       "      <th>adopteduser_fl</th>\n",
       "      <th>opted_in_to_mailing_list</th>\n",
       "      <th>enabled_for_marketing_drip</th>\n",
       "      <th>org_id_fl</th>\n",
       "      <th>month_fl</th>\n",
       "      <th>non_generalpurpose_emaildomain</th>\n",
       "      <th>creation_source_GUEST_INVITE</th>\n",
       "      <th>creation_source_ORG_INVITE</th>\n",
       "      <th>creation_source_PERSONAL_PROJECTS</th>\n",
       "      <th>creation_source_SIGNUP</th>\n",
       "      <th>creation_source_SIGNUP_GOOGLE_AUTH</th>\n",
       "    </tr>\n",
       "  </thead>\n",
       "  <tbody>\n",
       "    <tr>\n",
       "      <th>0</th>\n",
       "      <td>1</td>\n",
       "      <td>0.0</td>\n",
       "      <td>1</td>\n",
       "      <td>0.000000</td>\n",
       "      <td>0</td>\n",
       "      <td>1</td>\n",
       "      <td>0</td>\n",
       "      <td>0</td>\n",
       "      <td>4</td>\n",
       "      <td>0</td>\n",
       "      <td>1</td>\n",
       "      <td>0</td>\n",
       "      <td>0</td>\n",
       "      <td>0</td>\n",
       "      <td>0</td>\n",
       "    </tr>\n",
       "    <tr>\n",
       "      <th>1</th>\n",
       "      <td>10</td>\n",
       "      <td>4.0</td>\n",
       "      <td>2</td>\n",
       "      <td>1.484848</td>\n",
       "      <td>1</td>\n",
       "      <td>1</td>\n",
       "      <td>1</td>\n",
       "      <td>0</td>\n",
       "      <td>1</td>\n",
       "      <td>1</td>\n",
       "      <td>0</td>\n",
       "      <td>1</td>\n",
       "      <td>0</td>\n",
       "      <td>0</td>\n",
       "      <td>0</td>\n",
       "    </tr>\n",
       "    <tr>\n",
       "      <th>2</th>\n",
       "      <td>100</td>\n",
       "      <td>0.0</td>\n",
       "      <td>1</td>\n",
       "      <td>0.000000</td>\n",
       "      <td>0</td>\n",
       "      <td>0</td>\n",
       "      <td>0</td>\n",
       "      <td>0</td>\n",
       "      <td>6</td>\n",
       "      <td>1</td>\n",
       "      <td>0</td>\n",
       "      <td>1</td>\n",
       "      <td>0</td>\n",
       "      <td>0</td>\n",
       "      <td>0</td>\n",
       "    </tr>\n",
       "    <tr>\n",
       "      <th>3</th>\n",
       "      <td>10000</td>\n",
       "      <td>1.0</td>\n",
       "      <td>2</td>\n",
       "      <td>0.000000</td>\n",
       "      <td>0</td>\n",
       "      <td>1</td>\n",
       "      <td>1</td>\n",
       "      <td>0</td>\n",
       "      <td>5</td>\n",
       "      <td>0</td>\n",
       "      <td>0</td>\n",
       "      <td>1</td>\n",
       "      <td>0</td>\n",
       "      <td>0</td>\n",
       "      <td>0</td>\n",
       "    </tr>\n",
       "    <tr>\n",
       "      <th>4</th>\n",
       "      <td>10002</td>\n",
       "      <td>2.0</td>\n",
       "      <td>2</td>\n",
       "      <td>0.617647</td>\n",
       "      <td>1</td>\n",
       "      <td>0</td>\n",
       "      <td>0</td>\n",
       "      <td>0</td>\n",
       "      <td>3</td>\n",
       "      <td>0</td>\n",
       "      <td>0</td>\n",
       "      <td>0</td>\n",
       "      <td>0</td>\n",
       "      <td>1</td>\n",
       "      <td>0</td>\n",
       "    </tr>\n",
       "  </tbody>\n",
       "</table>\n",
       "</div>"
      ],
      "text/plain": [
       "  user_id_  weekssecondeng_count  firstweek_engcount  engagement_perweek  \\\n",
       "0        1                   0.0                   1            0.000000   \n",
       "1       10                   4.0                   2            1.484848   \n",
       "2      100                   0.0                   1            0.000000   \n",
       "3    10000                   1.0                   2            0.000000   \n",
       "4    10002                   2.0                   2            0.617647   \n",
       "\n",
       "   adopteduser_fl  opted_in_to_mailing_list  enabled_for_marketing_drip  \\\n",
       "0               0                         1                           0   \n",
       "1               1                         1                           1   \n",
       "2               0                         0                           0   \n",
       "3               0                         1                           1   \n",
       "4               1                         0                           0   \n",
       "\n",
       "   org_id_fl  month_fl  non_generalpurpose_emaildomain  \\\n",
       "0          0         4                               0   \n",
       "1          0         1                               1   \n",
       "2          0         6                               1   \n",
       "3          0         5                               0   \n",
       "4          0         3                               0   \n",
       "\n",
       "   creation_source_GUEST_INVITE  creation_source_ORG_INVITE  \\\n",
       "0                             1                           0   \n",
       "1                             0                           1   \n",
       "2                             0                           1   \n",
       "3                             0                           1   \n",
       "4                             0                           0   \n",
       "\n",
       "   creation_source_PERSONAL_PROJECTS  creation_source_SIGNUP  \\\n",
       "0                                  0                       0   \n",
       "1                                  0                       0   \n",
       "2                                  0                       0   \n",
       "3                                  0                       0   \n",
       "4                                  0                       1   \n",
       "\n",
       "   creation_source_SIGNUP_GOOGLE_AUTH  \n",
       "0                                   0  \n",
       "1                                   0  \n",
       "2                                   0  \n",
       "3                                   0  \n",
       "4                                   0  "
      ]
     },
     "execution_count": 108,
     "metadata": {},
     "output_type": "execute_result"
    }
   ],
   "source": [
    "master_data2 = pd.get_dummies(master_data1_1, columns =['creation_source'])\n",
    "master_data2.head()"
   ]
  },
  {
   "cell_type": "markdown",
   "metadata": {},
   "source": [
    "Check for correlation within variables using correlation matrix and VIF"
   ]
  },
  {
   "cell_type": "code",
   "execution_count": 109,
   "metadata": {},
   "outputs": [
    {
     "data": {
      "text/plain": [
       "Index(['user_id_', 'weekssecondeng_count', 'firstweek_engcount',\n",
       "       'engagement_perweek', 'adopteduser_fl', 'opted_in_to_mailing_list',\n",
       "       'enabled_for_marketing_drip', 'org_id_fl', 'month_fl',\n",
       "       'non_generalpurpose_emaildomain', 'creation_source_GUEST_INVITE',\n",
       "       'creation_source_ORG_INVITE', 'creation_source_PERSONAL_PROJECTS',\n",
       "       'creation_source_SIGNUP', 'creation_source_SIGNUP_GOOGLE_AUTH'],\n",
       "      dtype='object')"
      ]
     },
     "execution_count": 109,
     "metadata": {},
     "output_type": "execute_result"
    }
   ],
   "source": [
    "master_data2.columns"
   ]
  },
  {
   "cell_type": "code",
   "execution_count": 110,
   "metadata": {},
   "outputs": [
    {
     "data": {
      "image/png": "[encoded data removed]",
      "text/plain": [
       "<Figure size 576x576 with 9 Axes>"
      ]
     },
     "metadata": {},
     "output_type": "display_data"
    }
   ],
   "source": [
    "plt.rcParams['figure.figsize'] = [8,8]\n",
    "scatter_matrix(master_data2[[ 'weekssecondeng_count','engagement_perweek','month_fl']], diagonal= 'kde')\n",
    "plt.show()"
   ]
  },
  {
   "cell_type": "code",
   "execution_count": 111,
   "metadata": {},
   "outputs": [
    {
     "data": {
      "text/html": [
       "<div>\n",
       "<style scoped>\n",
       "    .dataframe tbody tr th:only-of-type {\n",
       "        vertical-align: middle;\n",
       "    }\n",
       "\n",
       "    .dataframe tbody tr th {\n",
       "        vertical-align: top;\n",
       "    }\n",
       "\n",
       "    .dataframe thead th {\n",
       "        text-align: right;\n",
       "    }\n",
       "</style>\n",
       "<table border=\"1\" class=\"dataframe\">\n",
       "  <thead>\n",
       "    <tr style=\"text-align: right;\">\n",
       "      <th></th>\n",
       "      <th>weekssecondeng_count</th>\n",
       "      <th>engagement_perweek</th>\n",
       "      <th>month_fl</th>\n",
       "    </tr>\n",
       "  </thead>\n",
       "  <tbody>\n",
       "    <tr>\n",
       "      <th>weekssecondeng_count</th>\n",
       "      <td>1.000000</td>\n",
       "      <td>0.650548</td>\n",
       "      <td>0.044181</td>\n",
       "    </tr>\n",
       "    <tr>\n",
       "      <th>engagement_perweek</th>\n",
       "      <td>0.650548</td>\n",
       "      <td>1.000000</td>\n",
       "      <td>0.004000</td>\n",
       "    </tr>\n",
       "    <tr>\n",
       "      <th>month_fl</th>\n",
       "      <td>0.044181</td>\n",
       "      <td>0.004000</td>\n",
       "      <td>1.000000</td>\n",
       "    </tr>\n",
       "  </tbody>\n",
       "</table>\n",
       "</div>"
      ],
      "text/plain": [
       "                      weekssecondeng_count  engagement_perweek  month_fl\n",
       "weekssecondeng_count              1.000000            0.650548  0.044181\n",
       "engagement_perweek                0.650548            1.000000  0.004000\n",
       "month_fl                          0.044181            0.004000  1.000000"
      ]
     },
     "execution_count": 111,
     "metadata": {},
     "output_type": "execute_result"
    }
   ],
   "source": [
    "corrmatrix = master_data2[['weekssecondeng_count','engagement_perweek','month_fl']].corr()\n",
    "corrmatrix"
   ]
  },
  {
   "cell_type": "code",
   "execution_count": 112,
   "metadata": {},
   "outputs": [
    {
     "data": {
      "image/png": "[encoded data removed]",
      "text/plain": [
       "<Figure size 360x360 with 2 Axes>"
      ]
     },
     "metadata": {},
     "output_type": "display_data"
    }
   ],
   "source": [
    "plt.rcParams['figure.figsize'] = (5,5)\n",
    "plt.imshow(corrmatrix, cmap = 'RdYlGn')\n",
    "plt.colorbar()\n",
    "# plt.title('logins_count highly correlated with count_of_events, \\n club_id_count,& quantity_sum')\n",
    "plt.xticks(np.arange(corrmatrix.shape[0]),corrmatrix.columns, rotation = 90)\n",
    "plt.yticks(np.arange(corrmatrix.shape[0]),corrmatrix.columns)\n",
    "plt.show()"
   ]
  },
  {
   "cell_type": "markdown",
   "metadata": {},
   "source": [
    "**Remove multicollinearity between variables using VIF and intuition from above scattermatrix and correlation matrix**"
   ]
  },
  {
   "cell_type": "code",
   "execution_count": 114,
   "metadata": {},
   "outputs": [
    {
     "data": {
      "text/html": [
       "<div>\n",
       "<style scoped>\n",
       "    .dataframe tbody tr th:only-of-type {\n",
       "        vertical-align: middle;\n",
       "    }\n",
       "\n",
       "    .dataframe tbody tr th {\n",
       "        vertical-align: top;\n",
       "    }\n",
       "\n",
       "    .dataframe thead th {\n",
       "        text-align: right;\n",
       "    }\n",
       "</style>\n",
       "<table border=\"1\" class=\"dataframe\">\n",
       "  <thead>\n",
       "    <tr style=\"text-align: right;\">\n",
       "      <th></th>\n",
       "      <th>vif</th>\n",
       "      <th>x_variables</th>\n",
       "    </tr>\n",
       "  </thead>\n",
       "  <tbody>\n",
       "    <tr>\n",
       "      <th>4</th>\n",
       "      <td>1.547182</td>\n",
       "      <td>enabled_for_marketing_drip</td>\n",
       "    </tr>\n",
       "    <tr>\n",
       "      <th>2</th>\n",
       "      <td>2.287801</td>\n",
       "      <td>engagement_perweek</td>\n",
       "    </tr>\n",
       "    <tr>\n",
       "      <th>1</th>\n",
       "      <td>4.928161</td>\n",
       "      <td>firstweek_engcount</td>\n",
       "    </tr>\n",
       "    <tr>\n",
       "      <th>6</th>\n",
       "      <td>3.589102</td>\n",
       "      <td>month_fl</td>\n",
       "    </tr>\n",
       "    <tr>\n",
       "      <th>7</th>\n",
       "      <td>1.569549</td>\n",
       "      <td>non_generalpurpose_emaildomain</td>\n",
       "    </tr>\n",
       "    <tr>\n",
       "      <th>3</th>\n",
       "      <td>1.742972</td>\n",
       "      <td>opted_in_to_mailing_list</td>\n",
       "    </tr>\n",
       "    <tr>\n",
       "      <th>5</th>\n",
       "      <td>1.027289</td>\n",
       "      <td>org_id_fl</td>\n",
       "    </tr>\n",
       "    <tr>\n",
       "      <th>0</th>\n",
       "      <td>2.127945</td>\n",
       "      <td>weekssecondeng_count</td>\n",
       "    </tr>\n",
       "  </tbody>\n",
       "</table>\n",
       "</div>"
      ],
      "text/plain": [
       "        vif                     x_variables\n",
       "4  1.547182      enabled_for_marketing_drip\n",
       "2  2.287801              engagement_perweek\n",
       "1  4.928161              firstweek_engcount\n",
       "6  3.589102                        month_fl\n",
       "7  1.569549  non_generalpurpose_emaildomain\n",
       "3  1.742972        opted_in_to_mailing_list\n",
       "5  1.027289                       org_id_fl\n",
       "0  2.127945            weekssecondeng_count"
      ]
     },
     "execution_count": 114,
     "metadata": {},
     "output_type": "execute_result"
    }
   ],
   "source": [
    "x_variables = ['weekssecondeng_count', 'firstweek_engcount',\n",
    "       'engagement_perweek', 'opted_in_to_mailing_list',\n",
    "       'enabled_for_marketing_drip', 'org_id_fl', 'month_fl',\n",
    "       'non_generalpurpose_emaildomain']\n",
    "vif=[variance_inflation_factor(np.array(master_data2[x_variables]),i)for i in np.arange(master_data2[x_variables].shape[1])]\n",
    "pd.DataFrame({ 'x_variables': x_variables,'vif': vif }).sort_values('x_variables')"
   ]
  },
  {
   "cell_type": "code",
   "execution_count": 115,
   "metadata": {},
   "outputs": [
    {
     "data": {
      "text/html": [
       "<div>\n",
       "<style scoped>\n",
       "    .dataframe tbody tr th:only-of-type {\n",
       "        vertical-align: middle;\n",
       "    }\n",
       "\n",
       "    .dataframe tbody tr th {\n",
       "        vertical-align: top;\n",
       "    }\n",
       "\n",
       "    .dataframe thead th {\n",
       "        text-align: right;\n",
       "    }\n",
       "</style>\n",
       "<table border=\"1\" class=\"dataframe\">\n",
       "  <thead>\n",
       "    <tr style=\"text-align: right;\">\n",
       "      <th></th>\n",
       "      <th>vif</th>\n",
       "      <th>x_variables</th>\n",
       "    </tr>\n",
       "  </thead>\n",
       "  <tbody>\n",
       "    <tr>\n",
       "      <th>4</th>\n",
       "      <td>1.546939</td>\n",
       "      <td>enabled_for_marketing_drip</td>\n",
       "    </tr>\n",
       "    <tr>\n",
       "      <th>2</th>\n",
       "      <td>2.278494</td>\n",
       "      <td>engagement_perweek</td>\n",
       "    </tr>\n",
       "    <tr>\n",
       "      <th>1</th>\n",
       "      <td>2.468557</td>\n",
       "      <td>firstweek_engcount</td>\n",
       "    </tr>\n",
       "    <tr>\n",
       "      <th>6</th>\n",
       "      <td>1.550081</td>\n",
       "      <td>non_generalpurpose_emaildomain</td>\n",
       "    </tr>\n",
       "    <tr>\n",
       "      <th>3</th>\n",
       "      <td>1.741284</td>\n",
       "      <td>opted_in_to_mailing_list</td>\n",
       "    </tr>\n",
       "    <tr>\n",
       "      <th>5</th>\n",
       "      <td>1.026679</td>\n",
       "      <td>org_id_fl</td>\n",
       "    </tr>\n",
       "    <tr>\n",
       "      <th>0</th>\n",
       "      <td>2.124754</td>\n",
       "      <td>weekssecondeng_count</td>\n",
       "    </tr>\n",
       "  </tbody>\n",
       "</table>\n",
       "</div>"
      ],
      "text/plain": [
       "        vif                     x_variables\n",
       "4  1.546939      enabled_for_marketing_drip\n",
       "2  2.278494              engagement_perweek\n",
       "1  2.468557              firstweek_engcount\n",
       "6  1.550081  non_generalpurpose_emaildomain\n",
       "3  1.741284        opted_in_to_mailing_list\n",
       "5  1.026679                       org_id_fl\n",
       "0  2.124754            weekssecondeng_count"
      ]
     },
     "execution_count": 115,
     "metadata": {},
     "output_type": "execute_result"
    }
   ],
   "source": [
    "x_variables = ['weekssecondeng_count', 'firstweek_engcount',\n",
    "       'engagement_perweek', 'opted_in_to_mailing_list',\n",
    "       'enabled_for_marketing_drip', 'org_id_fl',\n",
    "       'non_generalpurpose_emaildomain']\n",
    "vif=[variance_inflation_factor(np.array(master_data2[x_variables]),i)for i in np.arange(master_data2[x_variables].shape[1])]\n",
    "pd.DataFrame({ 'x_variables': x_variables,'vif': vif }).sort_values('x_variables')"
   ]
  },
  {
   "cell_type": "markdown",
   "metadata": {},
   "source": [
    "**Final list of variables that will go into the model are**  \n",
    "'weekssecondeng_count', 'firstweek_engcount',  \n",
    "'engagement_perweek', 'opted_in_to_mailing_list',  \n",
    "'enabled_for_marketing_drip', 'org_id_fl',  \n",
    "'non_generalpurpose_emaildomain',  \n",
    "'creation_source_GUEST_INVITE',  \n",
    "'creation_source_ORG_INVITE', 'creation_source_PERSONAL_PROJECTS',  \n",
    "'creation_source_SIGNUP', 'creation_source_SIGNUP_GOOGLE_AUTH'  "
   ]
  },
  {
   "cell_type": "markdown",
   "metadata": {},
   "source": [
    "#### Divide Data into training and testing dataset "
   ]
  },
  {
   "cell_type": "code",
   "execution_count": 131,
   "metadata": {},
   "outputs": [],
   "source": [
    "np.random.seed(123)\n",
    "X= master_data2[['weekssecondeng_count', 'firstweek_engcount',\n",
    "'engagement_perweek', 'opted_in_to_mailing_list',\n",
    "'enabled_for_marketing_drip', 'org_id_fl',\n",
    "'non_generalpurpose_emaildomain',\n",
    "'creation_source_GUEST_INVITE',\n",
    "'creation_source_ORG_INVITE', 'creation_source_PERSONAL_PROJECTS',\n",
    "'creation_source_SIGNUP', 'creation_source_SIGNUP_GOOGLE_AUTH']]\n",
    "\n",
    "y = master_data2[['adopteduser_fl']]\n",
    "X_train, X_test, y_train, y_test = train_test_split(X, y,\n",
    "                                                stratify=y, \n",
    "                                                test_size=0.30)"
   ]
  },
  {
   "cell_type": "markdown",
   "metadata": {},
   "source": [
    "# Logistic regression"
   ]
  },
  {
   "cell_type": "code",
   "execution_count": 137,
   "metadata": {},
   "outputs": [
    {
     "name": "stdout",
     "output_type": "stream",
     "text": [
      "Optimization terminated successfully.\n",
      "         Current function value: 0.219188\n",
      "         Iterations 7\n"
     ]
    },
    {
     "data": {
      "text/html": [
       "<table class=\"simpletable\">\n",
       "<caption>Logit Regression Results</caption>\n",
       "<tr>\n",
       "  <th>Dep. Variable:</th>  <td>adopteduser_fl</td>  <th>  No. Observations:  </th>  <td>  6176</td> \n",
       "</tr>\n",
       "<tr>\n",
       "  <th>Model:</th>               <td>Logit</td>      <th>  Df Residuals:      </th>  <td>  6172</td> \n",
       "</tr>\n",
       "<tr>\n",
       "  <th>Method:</th>               <td>MLE</td>       <th>  Df Model:          </th>  <td>     3</td> \n",
       "</tr>\n",
       "<tr>\n",
       "  <th>Date:</th>          <td>Tue, 17 Apr 2018</td> <th>  Pseudo R-squ.:     </th>  <td>0.5373</td> \n",
       "</tr>\n",
       "<tr>\n",
       "  <th>Time:</th>              <td>09:58:02</td>     <th>  Log-Likelihood:    </th> <td> -1353.7</td>\n",
       "</tr>\n",
       "<tr>\n",
       "  <th>converged:</th>           <td>True</td>       <th>  LL-Null:           </th> <td> -2925.4</td>\n",
       "</tr>\n",
       "<tr>\n",
       "  <th> </th>                      <td> </td>        <th>  LLR p-value:       </th>  <td> 0.000</td> \n",
       "</tr>\n",
       "</table>\n",
       "<table class=\"simpletable\">\n",
       "<tr>\n",
       "            <td></td>              <th>coef</th>     <th>std err</th>      <th>z</th>      <th>P>|z|</th>  <th>[0.025</th>    <th>0.975]</th>  \n",
       "</tr>\n",
       "<tr>\n",
       "  <th>const</th>                <td>   -3.9169</td> <td>    0.169</td> <td>  -23.245</td> <td> 0.000</td> <td>   -4.247</td> <td>   -3.587</td>\n",
       "</tr>\n",
       "<tr>\n",
       "  <th>weekssecondeng_count</th> <td>    1.6801</td> <td>    0.076</td> <td>   22.078</td> <td> 0.000</td> <td>    1.531</td> <td>    1.829</td>\n",
       "</tr>\n",
       "<tr>\n",
       "  <th>firstweek_engcount</th>   <td>    0.5875</td> <td>    0.138</td> <td>    4.248</td> <td> 0.000</td> <td>    0.316</td> <td>    0.859</td>\n",
       "</tr>\n",
       "<tr>\n",
       "  <th>engagement_perweek</th>   <td>    0.7366</td> <td>    0.124</td> <td>    5.930</td> <td> 0.000</td> <td>    0.493</td> <td>    0.980</td>\n",
       "</tr>\n",
       "</table>"
      ],
      "text/plain": [
       "<class 'statsmodels.iolib.summary.Summary'>\n",
       "\"\"\"\n",
       "                           Logit Regression Results                           \n",
       "==============================================================================\n",
       "Dep. Variable:         adopteduser_fl   No. Observations:                 6176\n",
       "Model:                          Logit   Df Residuals:                     6172\n",
       "Method:                           MLE   Df Model:                            3\n",
       "Date:                Tue, 17 Apr 2018   Pseudo R-squ.:                  0.5373\n",
       "Time:                        09:58:02   Log-Likelihood:                -1353.7\n",
       "converged:                       True   LL-Null:                       -2925.4\n",
       "                                        LLR p-value:                     0.000\n",
       "========================================================================================\n",
       "                           coef    std err          z      P>|z|      [0.025      0.975]\n",
       "----------------------------------------------------------------------------------------\n",
       "const                   -3.9169      0.169    -23.245      0.000      -4.247      -3.587\n",
       "weekssecondeng_count     1.6801      0.076     22.078      0.000       1.531       1.829\n",
       "firstweek_engcount       0.5875      0.138      4.248      0.000       0.316       0.859\n",
       "engagement_perweek       0.7366      0.124      5.930      0.000       0.493       0.980\n",
       "========================================================================================\n",
       "\"\"\""
      ]
     },
     "execution_count": 137,
     "metadata": {},
     "output_type": "execute_result"
    }
   ],
   "source": [
    "x_variables = [\n",
    "'weekssecondeng_count', \n",
    "'firstweek_engcount',\n",
    "'engagement_perweek', \n",
    "# 'opted_in_to_mailing_list',\n",
    "# 'enabled_for_marketing_drip', \n",
    "# 'org_id_fl',\n",
    "# 'non_generalpurpose_emaildomain',\n",
    "# 'creation_source_GUEST_INVITE',\n",
    "# 'creation_source_ORG_INVITE', \n",
    "# 'creation_source_PERSONAL_PROJECTS',\n",
    "# 'creation_source_SIGNUP', \n",
    "# 'creation_source_SIGNUP_GOOGLE_AUTH'\n",
    "               ]\n",
    "X = sm.add_constant(X_train[x_variables])\n",
    "model = sm.Logit(y_train['adopteduser_fl'],X)\n",
    "results = model.fit()\n",
    "results.summary()"
   ]
  },
  {
   "cell_type": "code",
   "execution_count": 138,
   "metadata": {},
   "outputs": [
    {
     "name": "stdout",
     "output_type": "stream",
     "text": [
      "Confusion Matrix\n",
      "[[ 295   75]\n",
      " [ 186 2091]]\n",
      "\n",
      "F1-Score\n",
      "             precision    recall  f1-score   support\n",
      "\n",
      "          0       0.97      0.92      0.94      2277\n",
      "          1       0.61      0.80      0.69       370\n",
      "\n",
      "avg / total       0.92      0.90      0.91      2647\n",
      "\n",
      "\n",
      "ROC_AUC\n",
      "0.857805433892\n",
      "\n",
      "Accuracy\n",
      "0.90139780884\n"
     ]
    }
   ],
   "source": [
    "X = sm.add_constant(X_test[x_variables])\n",
    "ypredict = results.predict(X)\n",
    "ypred = np.where(ypredict > .5,1,0)\n",
    "\n",
    "print(\"Confusion Matrix\")\n",
    "print(confusion_matrix(ypred,y_test['adopteduser_fl'], labels = [1,0]))\n",
    "\n",
    "print(\"\\nF1-Score\")\n",
    "print(classification_report(ypred,y_test['adopteduser_fl']))\n",
    "\n",
    "print(\"\\nROC_AUC\")\n",
    "print(roc_auc_score(ypred,y_test['adopteduser_fl']))\n",
    "\n",
    "print(\"\\nAccuracy\")\n",
    "print(accuracy_score(ypred,y_test['adopteduser_fl']))"
   ]
  },
  {
   "cell_type": "markdown",
   "metadata": {},
   "source": [
    "## Let us try simple XGboost "
   ]
  },
  {
   "cell_type": "markdown",
   "metadata": {},
   "source": [
    "### feature selection method using  scikit-learn"
   ]
  },
  {
   "cell_type": "code",
   "execution_count": 140,
   "metadata": {},
   "outputs": [
    {
     "data": {
      "text/html": [
       "<div>\n",
       "<style scoped>\n",
       "    .dataframe tbody tr th:only-of-type {\n",
       "        vertical-align: middle;\n",
       "    }\n",
       "\n",
       "    .dataframe tbody tr th {\n",
       "        vertical-align: top;\n",
       "    }\n",
       "\n",
       "    .dataframe thead th {\n",
       "        text-align: right;\n",
       "    }\n",
       "</style>\n",
       "<table border=\"1\" class=\"dataframe\">\n",
       "  <thead>\n",
       "    <tr style=\"text-align: right;\">\n",
       "      <th></th>\n",
       "      <th>var_info_score</th>\n",
       "      <th>variable_name</th>\n",
       "    </tr>\n",
       "  </thead>\n",
       "  <tbody>\n",
       "    <tr>\n",
       "      <th>0</th>\n",
       "      <td>335.469528</td>\n",
       "      <td>weekssecondeng_count</td>\n",
       "    </tr>\n",
       "    <tr>\n",
       "      <th>2</th>\n",
       "      <td>233.293832</td>\n",
       "      <td>engagement_perweek</td>\n",
       "    </tr>\n",
       "    <tr>\n",
       "      <th>1</th>\n",
       "      <td>67.776391</td>\n",
       "      <td>firstweek_engcount</td>\n",
       "    </tr>\n",
       "    <tr>\n",
       "      <th>5</th>\n",
       "      <td>6.477955</td>\n",
       "      <td>org_id_fl</td>\n",
       "    </tr>\n",
       "    <tr>\n",
       "      <th>9</th>\n",
       "      <td>4.854249</td>\n",
       "      <td>creation_source_PERSONAL_PROJECTS</td>\n",
       "    </tr>\n",
       "    <tr>\n",
       "      <th>3</th>\n",
       "      <td>3.011696</td>\n",
       "      <td>opted_in_to_mailing_list</td>\n",
       "    </tr>\n",
       "    <tr>\n",
       "      <th>8</th>\n",
       "      <td>2.682080</td>\n",
       "      <td>creation_source_ORG_INVITE</td>\n",
       "    </tr>\n",
       "    <tr>\n",
       "      <th>11</th>\n",
       "      <td>0.747105</td>\n",
       "      <td>creation_source_SIGNUP_GOOGLE_AUTH</td>\n",
       "    </tr>\n",
       "    <tr>\n",
       "      <th>4</th>\n",
       "      <td>0.000000</td>\n",
       "      <td>enabled_for_marketing_drip</td>\n",
       "    </tr>\n",
       "    <tr>\n",
       "      <th>6</th>\n",
       "      <td>0.000000</td>\n",
       "      <td>non_generalpurpose_emaildomain</td>\n",
       "    </tr>\n",
       "    <tr>\n",
       "      <th>7</th>\n",
       "      <td>0.000000</td>\n",
       "      <td>creation_source_GUEST_INVITE</td>\n",
       "    </tr>\n",
       "    <tr>\n",
       "      <th>10</th>\n",
       "      <td>0.000000</td>\n",
       "      <td>creation_source_SIGNUP</td>\n",
       "    </tr>\n",
       "  </tbody>\n",
       "</table>\n",
       "</div>"
      ],
      "text/plain": [
       "    var_info_score                       variable_name\n",
       "0       335.469528                weekssecondeng_count\n",
       "2       233.293832                  engagement_perweek\n",
       "1        67.776391                  firstweek_engcount\n",
       "5         6.477955                           org_id_fl\n",
       "9         4.854249   creation_source_PERSONAL_PROJECTS\n",
       "3         3.011696            opted_in_to_mailing_list\n",
       "8         2.682080          creation_source_ORG_INVITE\n",
       "11        0.747105  creation_source_SIGNUP_GOOGLE_AUTH\n",
       "4         0.000000          enabled_for_marketing_drip\n",
       "6         0.000000      non_generalpurpose_emaildomain\n",
       "7         0.000000        creation_source_GUEST_INVITE\n",
       "10        0.000000              creation_source_SIGNUP"
      ]
     },
     "execution_count": 140,
     "metadata": {},
     "output_type": "execute_result"
    }
   ],
   "source": [
    "np.random.seed(2)\n",
    "selector = SelectKBest(mutual_info_classif, k='all').fit(X_train, y_train['adopteduser_fl'].values)\n",
    "score = selector.scores_ * 1000\n",
    "featureselection_df = pd.DataFrame({'variable_name':X_train.columns,\n",
    "            'var_info_score':score}).sort_values(by = ['var_info_score'], ascending = False)\n",
    "featureselection_df"
   ]
  },
  {
   "cell_type": "markdown",
   "metadata": {},
   "source": [
    "**All variables with var_info_score*1000 > 2.00 is considered to build XGBoost model **"
   ]
  },
  {
   "cell_type": "code",
   "execution_count": 141,
   "metadata": {},
   "outputs": [
    {
     "data": {
      "text/plain": [
       "XGBClassifier(base_score=0.5, colsample_bylevel=1, colsample_bytree=1,\n",
       "       gamma=0, learning_rate=0.1, max_delta_step=0, max_depth=3,\n",
       "       min_child_weight=5, missing=None, n_estimators=100, nthread=-1,\n",
       "       objective='binary:logistic', reg_alpha=0, reg_lambda=1,\n",
       "       scale_pos_weight=1, seed=0, silent=True, subsample=1)"
      ]
     },
     "execution_count": 141,
     "metadata": {},
     "output_type": "execute_result"
    }
   ],
   "source": [
    "selected_features = featureselection_df[featureselection_df['var_info_score'] > 2.0]['variable_name'].tolist()\n",
    "selected_features\n",
    "#get a high level model on all training data\n",
    "model = XGBClassifier(max_depth=3, min_child_weight=5)\n",
    "model.fit(X_train[selected_features], y_train['adopteduser_fl'])"
   ]
  },
  {
   "cell_type": "code",
   "execution_count": 142,
   "metadata": {},
   "outputs": [
    {
     "name": "stdout",
     "output_type": "stream",
     "text": [
      "Confusion Matrix\n",
      "[[ 476    5]\n",
      " [ 137 2029]]\n",
      "\n",
      "F1-Score\n",
      "             precision    recall  f1-score   support\n",
      "\n",
      "          0       1.00      0.94      0.97      2166\n",
      "          1       0.78      0.99      0.87       481\n",
      "\n",
      "avg / total       0.96      0.95      0.95      2647\n",
      "\n",
      "\n",
      "ROC_AUC\n",
      "0.963177379382\n",
      "\n",
      "Accuracy\n",
      "0.94635436343\n"
     ]
    }
   ],
   "source": [
    "y_pred = model.predict(X_test[selected_features])\n",
    "predictions = [round(value) for value in y_pred]\n",
    "\n",
    "print(\"Confusion Matrix\")\n",
    "print(confusion_matrix(y_test['adopteduser_fl'], predictions, labels = [1,0]))\n",
    "\n",
    "print(\"\\nF1-Score\")\n",
    "print(classification_report(y_test['adopteduser_fl'], predictions))\n",
    "\n",
    "print(\"\\nROC_AUC\")\n",
    "print(roc_auc_score(y_test['adopteduser_fl'], predictions))\n",
    "\n",
    "print(\"\\nAccuracy\")\n",
    "print(accuracy_score(y_test['adopteduser_fl'], predictions))"
   ]
  }
 ],
 "metadata": {
  "kernelspec": {
   "display_name": "Python 3",
   "language": "python",
   "name": "python3"
  },
  "language_info": {
   "codemirror_mode": {
    "name": "ipython",
    "version": 3
   },
   "file_extension": ".py",
   "mimetype": "text/x-python",
   "name": "python",
   "nbconvert_exporter": "python",
   "pygments_lexer": "ipython3",
   "version": "3.6.4"
  }
 },
 "nbformat": 4,
 "nbformat_minor": 2
}
