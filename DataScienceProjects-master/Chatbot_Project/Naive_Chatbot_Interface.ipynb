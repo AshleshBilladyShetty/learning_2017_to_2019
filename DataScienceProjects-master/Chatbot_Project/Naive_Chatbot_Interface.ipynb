{
 "cells": [
  {
   "attachments": {},
   "cell_type": "markdown",
   "metadata": {},
   "source": [
    "**SampleQuestions**  \n",
    "Can I have one on one meeting for career goal discussion?  \n",
    "Where Can I submit my timesheet?  \n",
    "What should I do if I'm facing technical issues with McKinsey.com?  \n",
    "Which are the airlines that provides best deals for McKinsey consultants?  \n",
    "Can I add my Spouse's Parents to the insurance cover that Mckinsey offers?  "
   ]
  },
  {
   "cell_type": "markdown",
   "metadata": {},
   "source": [
    "**Reset Bot**"
   ]
  },
  {
   "cell_type": "code",
   "execution_count": 11,
   "metadata": {},
   "outputs": [],
   "source": [
    "import pandas as pd\n",
    "data =pd.read_csv(\"C:\\\\Users\\\\Ashlesh B Shetty\\\\Desktop\\\\data.csv\" )"
   ]
  },
  {
   "cell_type": "markdown",
   "metadata": {},
   "source": [
    "# Start conversation"
   ]
  },
  {
   "cell_type": "code",
   "execution_count": 12,
   "metadata": {
    "scrolled": true
   },
   "outputs": [
    {
     "name": "stdout",
     "output_type": "stream",
     "text": [
      "\u001b[1m\u001b[31mChatbot:\u001b[0mPlease enter your query\u001b[1m\u001b[32m\n",
      "User:\u001b[0m\n",
      "Can I have one on one meeting for career goal discussion?\n",
      "\u001b[1m\u001b[31mChatbot:\u001b[0mSent to PDM, you will hear back from PDM soon.\n"
     ]
    }
   ],
   "source": [
    "%run Naive_ChatBot_v2.ipynb   "
   ]
  },
  {
   "cell_type": "code",
   "execution_count": 6,
   "metadata": {},
   "outputs": [
    {
     "name": "stdout",
     "output_type": "stream",
     "text": [
      "\u001b[1m\u001b[31mChatbot:\u001b[0mPlease enter your query\u001b[1m\u001b[32m\n",
      "User:\u001b[0m\n",
      "Where Can I submit my timesheet?\n",
      "\u001b[1m\u001b[31mChatbot:\u001b[0mPlease submit your timesheet on McKinsey timesheet portal at (https://mckinsey.secure.force.com/Generalist/Login)\n"
     ]
    }
   ],
   "source": [
    "%run Naive_ChatBot_v2.ipynb   "
   ]
  },
  {
   "cell_type": "code",
   "execution_count": 7,
   "metadata": {},
   "outputs": [
    {
     "name": "stdout",
     "output_type": "stream",
     "text": [
      "\u001b[1m\u001b[31mChatbot:\u001b[0mPlease enter your query\u001b[1m\u001b[32m\n",
      "User:\u001b[0m\n",
      "What should I do if I'm facing technical issues with McKinsey.com?\n",
      "\u001b[1m\u001b[31mChatbot:\u001b[0mhttps://www.mckinsey.com/frequently-asked-questions/technical-issues\n"
     ]
    }
   ],
   "source": [
    "%run Naive_ChatBot_v2.ipynb   "
   ]
  },
  {
   "cell_type": "code",
   "execution_count": 8,
   "metadata": {},
   "outputs": [
    {
     "name": "stdout",
     "output_type": "stream",
     "text": [
      "\u001b[1m\u001b[31mChatbot:\u001b[0mPlease enter your query\u001b[1m\u001b[32m\n",
      "User:\u001b[0m\n",
      "Which are the airlines that provides best deals for McKinsey consultants?\n",
      "\u001b[1m\u001b[31mChatbot:\u001b[0mDo you want the question to be sent to crowdsource or PDM\u001b[1m\u001b[32m\n",
      "User:\u001b[0m\n",
      "crowdsource\n",
      "\u001b[1m\u001b[31mChatbot:\u001b[0mSent to crowdsource, you will hear back from crowdsource soon.\n",
      "\u001b[1m\u001b[34m\n",
      " \n",
      " \n",
      "CROWDSOURCE PLATFORM\u001b[0m\u001b[1m\u001b[31m\n",
      "Chatbot:\u001b[0mHello people, Can someone help answering this question:Which are the airlines that provides best deals for McKinsey consultants?\u001b[1m\u001b[34m\n",
      "Crowdsource:\u001b[0m\n",
      "Delta\n",
      "\u001b[1m\u001b[31mChatbot:\u001b[0mHello User_ABC the crowdsoured answer to your question is: Delta\n",
      "\u001b[1m\u001b[31mChatbot:\u001b[0mDelta\n"
     ]
    }
   ],
   "source": [
    "%run Naive_ChatBot_v2.ipynb   "
   ]
  },
  {
   "cell_type": "code",
   "execution_count": 3,
   "metadata": {},
   "outputs": [
    {
     "name": "stdout",
     "output_type": "stream",
     "text": [
      "\u001b[1m\u001b[31mChatbot:\u001b[0mPlease enter your query\u001b[1m\u001b[32m\n",
      "User:\u001b[0m\n",
      "Which are the airlines that provides best deals for McKinsey consultants?\n",
      "\u001b[1m\u001b[31mChatbot:\u001b[0mDelta\n"
     ]
    }
   ],
   "source": [
    "%run Naive_ChatBot_v2.ipynb  "
   ]
  },
  {
   "cell_type": "code",
   "execution_count": 9,
   "metadata": {},
   "outputs": [
    {
     "name": "stdout",
     "output_type": "stream",
     "text": [
      "\u001b[1m\u001b[31mChatbot:\u001b[0mPlease enter your query\u001b[1m\u001b[32m\n",
      "User:\u001b[0m\n",
      "Can I add my Spouse's Parents to the insurance cover that Mckinsey offers?\n",
      "\u001b[1m\u001b[31mChatbot:\u001b[0mDo you want the question to be sent to crowdsource or PDM\u001b[1m\u001b[32m\n",
      "User:\u001b[0m\n",
      "PDM\n",
      "\u001b[1m\u001b[31mChatbot:\u001b[0mSent to PDM, you will hear back from PDM soon.\n"
     ]
    }
   ],
   "source": [
    "%run Naive_ChatBot_v2.ipynb  "
   ]
  }
 ],
 "metadata": {
  "kernelspec": {
   "display_name": "Python 3",
   "language": "python",
   "name": "python3"
  },
  "language_info": {
   "codemirror_mode": {
    "name": "ipython",
    "version": 3
   },
   "file_extension": ".py",
   "mimetype": "text/x-python",
   "name": "python",
   "nbconvert_exporter": "python",
   "pygments_lexer": "ipython3",
   "version": "3.6.4"
  }
 },
 "nbformat": 4,
 "nbformat_minor": 2
}
