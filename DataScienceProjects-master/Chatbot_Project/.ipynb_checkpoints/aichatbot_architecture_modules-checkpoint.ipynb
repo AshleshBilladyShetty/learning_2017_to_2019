{
 "cells": [
  {
   "cell_type": "markdown",
   "metadata": {
    "deletable": true,
    "editable": true
   },
   "source": [
    "## Import all the libraries required"
   ]
  },
  {
   "cell_type": "code",
   "execution_count": 1,
   "metadata": {
    "collapsed": false,
    "deletable": true,
    "editable": true
   },
   "outputs": [
    {
     "name": "stderr",
     "output_type": "stream",
     "text": [
      "C:\\Users\\Ashlesh B Shetty\\Anaconda2\\envs\\starterbot\\lib\\site-packages\\h5py\\__init__.py:36: FutureWarning: Conversion of the second argument of issubdtype from `float` to `np.floating` is deprecated. In future, it will be treated as `np.float64 == np.dtype(float).type`.\n",
      "  from ._conv import register_converters as _register_converters\n",
      "Using TensorFlow backend.\n"
     ]
    }
   ],
   "source": [
    "# Import all the libraries that is required for AIChatbot\n",
    "from keras.datasets import imdb\n",
    "from keras.models import Sequential\n",
    "from keras.layers import Dense\n",
    "from keras.layers import LSTM\n",
    "from keras.layers.embeddings import Embedding\n",
    "from keras.preprocessing import sequence\n",
    "from keras.utils import np_utils\n",
    "from keras.preprocessing.text import Tokenizer\n",
    "from keras.preprocessing.text import text_to_word_sequence\n",
    "\n",
    "from sklearn.preprocessing import LabelEncoder\n",
    "import numpy\n",
    "import pandas as pd\n",
    "import numpy as np\n",
    "from sklearn import linear_model, datasets\n",
    "\n",
    "\n",
    "# fix random seed for reproducibility\n",
    "numpy.random.seed(7)\n"
   ]
  },
  {
   "cell_type": "markdown",
   "metadata": {
    "deletable": true,
    "editable": true
   },
   "source": [
    "## Import all the data required"
   ]
  },
  {
   "cell_type": "code",
   "execution_count": 26,
   "metadata": {
    "collapsed": true,
    "deletable": true,
    "editable": true
   },
   "outputs": [],
   "source": [
    "#import data\n",
    "DirectAnswer_DB = pd.read_csv(\"C:\\\\Users\\\\Ashlesh B Shetty\\\\Desktop\\\\ZZ\\\\SpringSemester\\\\ELP\\\\EndToEndChatBot\\\\Data\\\\DirectAnswer_DB.csv\")\n",
    "RDBMS_MeetingRoomTable = pd.read_csv(\"C:\\\\Users\\\\Ashlesh B Shetty\\\\Desktop\\\\ZZ\\\\SpringSemester\\\\ELP\\\\EndToEndChatBot\\\\Data\\\\RDBMS_MeetingRoomTable.csv\")\n",
    "TrainigData_SentimentAnalysisForSensitivity = pd.read_csv(\"C:\\\\Users\\\\Ashlesh B Shetty\\\\Desktop\\\\ZZ\\\\SpringSemester\\\\ELP\\\\EndToEndChatBot\\\\Data\\\\TrainigData_SentimentAnalysisForSensitivity.csv\")\n",
    "IntentEntity_Action_Mapper = pd.read_csv(\"C:\\\\Users\\\\Ashlesh B Shetty\\\\Desktop\\\\ZZ\\\\SpringSemester\\\\ELP\\\\EndToEndChatBot\\\\Data\\\\IntentEntity_Action_Mapper.csv\")\n",
    "TrainingData_EntityIntent = pd.read_csv(\"C:\\\\Users\\\\Ashlesh B Shetty\\\\Desktop\\\\ZZ\\\\SpringSemester\\\\ELP\\\\EndToEndChatBot\\\\Data\\\\TrainingData_EntityIntent_v2.csv\")\n",
    "Entities_BagOfWords = pd.read_csv(\"C:\\\\Users\\\\Ashlesh B Shetty\\\\Desktop\\\\ZZ\\\\SpringSemester\\\\ELP\\\\EndToEndChatBot\\\\Data\\\\Entities_BagOfWords.csv\", header = None)"
   ]
  },
  {
   "cell_type": "code",
   "execution_count": 3,
   "metadata": {
    "collapsed": false,
    "deletable": true,
    "editable": true
   },
   "outputs": [
    {
     "data": {
      "text/html": [
       "<div>\n",
       "<style scoped>\n",
       "    .dataframe tbody tr th:only-of-type {\n",
       "        vertical-align: middle;\n",
       "    }\n",
       "\n",
       "    .dataframe tbody tr th {\n",
       "        vertical-align: top;\n",
       "    }\n",
       "\n",
       "    .dataframe thead th {\n",
       "        text-align: right;\n",
       "    }\n",
       "</style>\n",
       "<table border=\"1\" class=\"dataframe\">\n",
       "  <thead>\n",
       "    <tr style=\"text-align: right;\">\n",
       "      <th></th>\n",
       "      <th>Intent</th>\n",
       "      <th>Entity1</th>\n",
       "      <th>Entity2</th>\n",
       "      <th>Action</th>\n",
       "      <th>ActionSubclass</th>\n",
       "      <th>Answer</th>\n",
       "    </tr>\n",
       "  </thead>\n",
       "  <tbody>\n",
       "    <tr>\n",
       "      <th>0</th>\n",
       "      <td>Who Or What is it?</td>\n",
       "      <td>attend</td>\n",
       "      <td>orientation</td>\n",
       "      <td>Direct</td>\n",
       "      <td>Low Entropy</td>\n",
       "      <td>It is not required, but highly encouraged for ...</td>\n",
       "    </tr>\n",
       "    <tr>\n",
       "      <th>1</th>\n",
       "      <td>Who Or What is it?</td>\n",
       "      <td>receive</td>\n",
       "      <td>paycheck</td>\n",
       "      <td>Direct</td>\n",
       "      <td>Low Entropy</td>\n",
       "      <td>Your first paycheck will be deposited the last...</td>\n",
       "    </tr>\n",
       "    <tr>\n",
       "      <th>2</th>\n",
       "      <td>Who Or What is it?</td>\n",
       "      <td>upload</td>\n",
       "      <td>timesheet</td>\n",
       "      <td>Direct</td>\n",
       "      <td>Low Entropy</td>\n",
       "      <td>Please submit your timesheet on our timesheet ...</td>\n",
       "    </tr>\n",
       "    <tr>\n",
       "      <th>3</th>\n",
       "      <td>Who Or What is it?</td>\n",
       "      <td>check</td>\n",
       "      <td>deposit</td>\n",
       "      <td>Direct</td>\n",
       "      <td>Low Entropy</td>\n",
       "      <td>We need official documentation of your routing...</td>\n",
       "    </tr>\n",
       "    <tr>\n",
       "      <th>4</th>\n",
       "      <td>Who Or What is it?</td>\n",
       "      <td>it</td>\n",
       "      <td>ticket</td>\n",
       "      <td>Knowledgebase</td>\n",
       "      <td>Medium Entropy</td>\n",
       "      <td>Please refer to out knowledge base article htt...</td>\n",
       "    </tr>\n",
       "  </tbody>\n",
       "</table>\n",
       "</div>"
      ],
      "text/plain": [
       "               Intent  Entity1      Entity2         Action  ActionSubclass  \\\n",
       "0  Who Or What is it?   attend  orientation         Direct     Low Entropy   \n",
       "1  Who Or What is it?  receive     paycheck         Direct     Low Entropy   \n",
       "2  Who Or What is it?   upload    timesheet         Direct     Low Entropy   \n",
       "3  Who Or What is it?    check      deposit         Direct     Low Entropy   \n",
       "4  Who Or What is it?       it       ticket  Knowledgebase  Medium Entropy   \n",
       "\n",
       "                                              Answer  \n",
       "0  It is not required, but highly encouraged for ...  \n",
       "1  Your first paycheck will be deposited the last...  \n",
       "2  Please submit your timesheet on our timesheet ...  \n",
       "3  We need official documentation of your routing...  \n",
       "4  Please refer to out knowledge base article htt...  "
      ]
     },
     "execution_count": 3,
     "metadata": {},
     "output_type": "execute_result"
    }
   ],
   "source": [
    "DirectAnswer_DB"
   ]
  },
  {
   "cell_type": "markdown",
   "metadata": {
    "deletable": true,
    "editable": true
   },
   "source": [
    "## Initializing parameters that will be used later"
   ]
  },
  {
   "cell_type": "code",
   "execution_count": 4,
   "metadata": {
    "collapsed": true,
    "deletable": true,
    "editable": true
   },
   "outputs": [],
   "source": [
    "max_review_length = 22\n",
    "count_Questions = 0\n",
    "count_Answered_Satisfactorily = 0\n",
    "\n",
    "##Sensitive\n",
    "# QuestionAsked = \"What is my salary compensation structure?\"\n",
    "\n",
    "##Cannot parse Intent/Entity\n",
    "# QuestionAsked = \"When is the meeting?\"\n",
    "\n",
    "## Questions that bot can answer directly? (Low Entropy Answers)\n",
    "# QuestionAsked = \"Am I required to attend the New Employee Welcome and Benefits Orientation program?\"\n",
    "\n",
    "## Questions for which bot directs to Knowledgebase? (Low Entropy Answers)\n",
    "# QuestionAsked = \"How do I open an IT ticket if I have an issue?\"\n",
    "\n",
    "## Questions for which bot queries a inhouse database to fetch the answers? (Low Entropy Answers)\n",
    "# QuestionAsked = \"Which is the largest conference room that I can book?\"\n",
    "\n",
    "## Questions for which crowdsource option is provided? (Low Entropy Answers)\n",
    "# QuestionAsked = \"Is there any good movie suggestions for consultants?\"\n",
    "\n",
    "## Questions for which crowdsource option is not provided since PDM is only the right person to answer? (Low Entropy Answers)\n",
    "# QuestionAsked = \"Who are my team members and what are their roles?\"\n",
    "\n",
    "## Questions for which both entity and intent is parsed but action is not available\n",
    "QuestionAsked = \"What do I do if I have to travel before I get my AMEX card?\"\n",
    "# You will need to use your personal credit card and you will then be reimbursed. The instructions on how to receive reimbursement can be found with your Offer "
   ]
  },
  {
   "cell_type": "markdown",
   "metadata": {
    "deletable": true,
    "editable": true
   },
   "source": [
    "## Build a logistic regression model for senstitivity check"
   ]
  },
  {
   "cell_type": "code",
   "execution_count": 5,
   "metadata": {
    "collapsed": false,
    "deletable": true,
    "editable": true
   },
   "outputs": [
    {
     "data": {
      "text/plain": [
       "LogisticRegression(C=100000.0, class_weight=None, dual=False,\n",
       "          fit_intercept=True, intercept_scaling=1, max_iter=100,\n",
       "          multi_class='ovr', n_jobs=1, penalty='l2', random_state=None,\n",
       "          solver='liblinear', tol=0.0001, verbose=0, warm_start=False)"
      ]
     },
     "execution_count": 5,
     "metadata": {},
     "output_type": "execute_result"
    }
   ],
   "source": [
    "# Batchprocess trained Losgistic regression model for Sensitivity scoring \n",
    "questions  = TrainigData_SentimentAnalysisForSensitivity['Question']\n",
    "t1 = Tokenizer()\n",
    "t1.fit_on_texts(questions)\n",
    "question_docs = numpy.asarray(t1.texts_to_sequences(questions))\n",
    "max_review_length = 22\n",
    "logis_train = sequence.pad_sequences(question_docs, maxlen=max_review_length)\n",
    "#print(logis_train)\n",
    "logis_y = TrainigData_SentimentAnalysisForSensitivity['SensitiveFlag']\n",
    "#print(logis_y)\n",
    "\n",
    "logreg = linear_model.LogisticRegression(C=1e5)\n",
    "# we create an instance of Neighbours Classifier and fit the data.\n",
    "logreg.fit(logis_train, logis_y)"
   ]
  },
  {
   "cell_type": "markdown",
   "metadata": {
    "deletable": true,
    "editable": true
   },
   "source": [
    "## Function that checks sensitivity"
   ]
  },
  {
   "cell_type": "code",
   "execution_count": 6,
   "metadata": {
    "collapsed": true,
    "deletable": true,
    "editable": true
   },
   "outputs": [],
   "source": [
    "def sensitivity(QuestionAsked):\n",
    "    words = text_to_word_sequence(QuestionAsked)\n",
    "    text1 = numpy.array([t1.word_index[word] if word in t1.word_index else 0 for word in words])\n",
    "    text2 = sequence.pad_sequences([text1], maxlen=max_review_length)\n",
    "    return logreg.predict(text2)[0]"
   ]
  },
  {
   "cell_type": "markdown",
   "metadata": {
    "deletable": true,
    "editable": true
   },
   "source": [
    "## Training the RNN-LSTM model"
   ]
  },
  {
   "cell_type": "code",
   "execution_count": 7,
   "metadata": {
    "collapsed": false,
    "deletable": true,
    "editable": true
   },
   "outputs": [
    {
     "name": "stderr",
     "output_type": "stream",
     "text": [
      "C:\\Users\\Ashlesh B Shetty\\Anaconda2\\envs\\starterbot\\lib\\site-packages\\keras\\models.py:942: UserWarning: The `nb_epoch` argument in `fit` has been renamed `epochs`.\n",
      "  warnings.warn('The `nb_epoch` argument in `fit` '\n"
     ]
    },
    {
     "name": "stdout",
     "output_type": "stream",
     "text": [
      "Epoch 1/5\n",
      "22/22 [==============================] - 1s 52ms/step - loss: 0.6926 - acc: 0.6136\n",
      "Epoch 2/5\n",
      "22/22 [==============================] - 0s 777us/step - loss: 0.6912 - acc: 0.8182\n",
      "Epoch 3/5\n",
      "22/22 [==============================] - 0s 768us/step - loss: 0.6897 - acc: 0.9091\n",
      "Epoch 4/5\n",
      "22/22 [==============================] - 0s 628us/step - loss: 0.6880 - acc: 0.9091\n",
      "Epoch 5/5\n",
      "22/22 [==============================] - 0s 775us/step - loss: 0.6859 - acc: 0.9091\n"
     ]
    },
    {
     "data": {
      "text/plain": [
       "<keras.callbacks.History at 0x1b1d79cdc88>"
      ]
     },
     "execution_count": 7,
     "metadata": {},
     "output_type": "execute_result"
    }
   ],
   "source": [
    "# Training Data Processing\n",
    "## create indipendent variable array\n",
    "numpy.random.seed(7)\n",
    "TrainingData_EntityIntent = pd.read_csv(\"C:\\\\Users\\\\Ashlesh B Shetty\\\\Desktop\\\\ZZ\\\\SpringSemester\\\\ELP\\\\EndToEndChatBot\\\\Data\\\\TrainingData_EntityIntent_v2.csv\")\n",
    "docs  = TrainingData_EntityIntent['Question']\n",
    "t = Tokenizer()\n",
    "t.fit_on_texts(docs)\n",
    "encoded_docs = numpy.asarray(t.texts_to_sequences(docs))\n",
    "max_review_length = 22\n",
    "X_train = sequence.pad_sequences(encoded_docs, maxlen=max_review_length)\n",
    "#print(X_train[:3,])\n",
    "\n",
    "## Dependent variable data processing\n",
    "Y = TrainingData_EntityIntent['Intent']\n",
    "encoder = LabelEncoder()\n",
    "encoder.fit(Y)\n",
    "encoded_Y = encoder.transform(Y)\n",
    "dummy_y = np_utils.to_categorical(encoded_Y)\n",
    "#print(dummy_y[:3])\n",
    "    \n",
    "## Setup the neural network layers\n",
    "numpy.random.seed(7)\n",
    "embedding_vecor_length = 32\n",
    "top_words = 5000\n",
    "model = Sequential()\n",
    "model.add(Embedding(top_words, embedding_vecor_length, input_length=max_review_length))\n",
    "model.add(LSTM(100))\n",
    "model.add(Dense(2, activation='sigmoid'))\n",
    "model.compile(loss='binary_crossentropy', optimizer='adam', metrics=['accuracy'])\n",
    "#print(model.summary())\n",
    "\n",
    "model.fit(X_train, dummy_y, nb_epoch=5, batch_size=64)"
   ]
  },
  {
   "cell_type": "markdown",
   "metadata": {
    "deletable": true,
    "editable": true
   },
   "source": [
    "## Function for Intent parsing"
   ]
  },
  {
   "cell_type": "code",
   "execution_count": 9,
   "metadata": {
    "collapsed": true,
    "deletable": true,
    "editable": true
   },
   "outputs": [],
   "source": [
    "def intent_parsing(QuestionAsked):\n",
    "    words = text_to_word_sequence(QuestionAsked)\n",
    "    text1 = numpy.array([t.word_index[word] if word in t.word_index else 0 for word in words])\n",
    "    text2 = sequence.pad_sequences([text1], maxlen=max_review_length)\n",
    "    # print(model.predict(text2))\n",
    "    # print(model.predict_classes(text2)[0])\n",
    "    return encoder.classes_[model.predict_classes(text2)[0]]"
   ]
  },
  {
   "cell_type": "markdown",
   "metadata": {
    "deletable": true,
    "editable": true
   },
   "source": [
    "## Function for entity parsing"
   ]
  },
  {
   "cell_type": "code",
   "execution_count": 10,
   "metadata": {
    "collapsed": true,
    "deletable": true,
    "editable": true
   },
   "outputs": [],
   "source": [
    "def entity_parsing(QuestionAsked):\n",
    "    words = text_to_word_sequence(QuestionAsked)\n",
    "    return [i for i in filter(lambda X: X in words, Entities_BagOfWords[0].tolist())]"
   ]
  },
  {
   "cell_type": "markdown",
   "metadata": {
    "deletable": true,
    "editable": true
   },
   "source": [
    "## Function for Decision module"
   ]
  },
  {
   "cell_type": "code",
   "execution_count": 11,
   "metadata": {
    "collapsed": false,
    "deletable": true,
    "editable": true
   },
   "outputs": [
    {
     "data": {
      "text/plain": [
       "('Who Or What is it?', 'before', 'card', 'NA', 'PDM_LearningOption')"
      ]
     },
     "execution_count": 11,
     "metadata": {},
     "output_type": "execute_result"
    }
   ],
   "source": [
    "def action_decision_module(QuestionAsked):\n",
    "    QuestionAsked_EntInt =  [intent_parsing(QuestionAsked)] + entity_parsing(QuestionAsked)[0:2]\n",
    "    \n",
    "    for (intent , entity1 , entity2, action,ActionSubclass ) in zip(IntentEntity_Action_Mapper['Intent'], \n",
    "                                                                    IntentEntity_Action_Mapper['Entity1'],\n",
    "                                                                    IntentEntity_Action_Mapper['Entity2'],\n",
    "                                                                    IntentEntity_Action_Mapper['Action'],\n",
    "                                                                    IntentEntity_Action_Mapper['ActionSubclass']):\n",
    "        action_actionsubclass = (intent , entity1 , entity2, action, ActionSubclass)\n",
    "#         print(action_actionsubclass)\n",
    "#         print(QuestionAsked_EntInt)\n",
    "        if set(QuestionAsked_EntInt) == set([intent, entity1, entity2]):\n",
    "            action_taken = action_actionsubclass\n",
    "            break\n",
    "        else:\n",
    "            action_taken = (\"NA\",\"NA\", \"NA\",\"NA\", \"NA\")\n",
    "        \n",
    "        if ((len(QuestionAsked_EntInt) ==3) & \n",
    "            (action_taken == (\"NA\",\"NA\", \"NA\",\"NA\", \"NA\"))):\n",
    "            action_taken = (QuestionAsked_EntInt[0],QuestionAsked_EntInt[1], QuestionAsked_EntInt[2],\"NA\", \"PDM_LearningOption\")\n",
    "        \n",
    "    return action_taken\n",
    "# intent_parsing(QuestionAsked)\n",
    "# entity_parsing(QuestionAsked)\n",
    "action_decision_module(QuestionAsked)"
   ]
  },
  {
   "cell_type": "markdown",
   "metadata": {
    "deletable": true,
    "editable": true
   },
   "source": [
    "## Function for the Answering module"
   ]
  },
  {
   "cell_type": "code",
   "execution_count": 12,
   "metadata": {
    "collapsed": false,
    "deletable": true,
    "editable": true
   },
   "outputs": [
    {
     "data": {
      "text/plain": [
       "('Who Or What is it?', 'before', 'card', 'NA', 'PDM_LearningOption')"
      ]
     },
     "execution_count": 12,
     "metadata": {},
     "output_type": "execute_result"
    }
   ],
   "source": [
    "action_decision_module(QuestionAsked)"
   ]
  },
  {
   "cell_type": "markdown",
   "metadata": {
    "deletable": true,
    "editable": true
   },
   "source": [
    "## Feedback and ChatStats aggregrator module"
   ]
  },
  {
   "cell_type": "code",
   "execution_count": 13,
   "metadata": {
    "collapsed": true,
    "deletable": true,
    "editable": true
   },
   "outputs": [],
   "source": [
    "def feedback_chatstats_aggregrator():\n",
    "    global count_Questions\n",
    "    count_Questions  += 1\n",
    "    global count_Answered_Satisfactorily\n",
    "    \n",
    "    print(\"Are you satisfied with the answer? Please let me know (yes/no)\")\n",
    "    feedback = input(\"\")\n",
    "    \n",
    "    if feedback.lower() == \"yes\":\n",
    "        print(\"Thankyou\")\n",
    "        count_Answered_Satisfactorily  += 1\n",
    "        \n",
    "    else:\n",
    "        print(\"Your question has been sent to the Professional Developement Manager. Your PDM will reach out to you soon\")\n",
    "\n",
    "# feedback_chatstats_aggregrator()"
   ]
  },
  {
   "cell_type": "code",
   "execution_count": 15,
   "metadata": {
    "collapsed": true,
    "deletable": true,
    "editable": true
   },
   "outputs": [],
   "source": [
    "def answering_module(QuestionAsked):\n",
    "    action_taken = action_decision_module(QuestionAsked)\n",
    "    global DirectAnswer_DB\n",
    "    \n",
    "    if (((action_taken[3] == 'Direct') | (action_taken[3] == 'Knowledgebase')) & \n",
    "        ((action_taken[4] == 'Low Entropy') | (action_taken[4] == 'Medium Entropy') )):    \n",
    "        answer_record = DirectAnswer_DB[(DirectAnswer_DB['Intent'] == action_taken[0]) & \n",
    "                                 (DirectAnswer_DB['Entity1'] == action_taken[1]) &\n",
    "                                 (DirectAnswer_DB['Entity2'] == action_taken[2]) & \n",
    "                                 (DirectAnswer_DB['Action'] == action_taken[3]) & \n",
    "                                 (DirectAnswer_DB['ActionSubclass'] == action_taken[4])]\n",
    "        answer = answer_record.iloc[0]['Answer']\n",
    "        print(answer)\n",
    "        feedback_chatstats_aggregrator()\n",
    "        \n",
    "    if ((action_taken[3] == 'Query') & \n",
    "        (action_taken[4] == 'Medium Entropy')):\n",
    "        maxsize = RDBMS_MeetingRoomTable.Size.max()  \n",
    "        answer_record = RDBMS_MeetingRoomTable[(RDBMS_MeetingRoomTable['Size'] == maxsize) &\n",
    "                                                (RDBMS_MeetingRoomTable['RoomType']== 'conference')]\n",
    "        answer = answer_record.iloc[0]['RoomAddress']\n",
    "        print(answer)\n",
    "        feedback_chatstats_aggregrator()\n",
    "        \n",
    "    if ((action_taken[3] == 'Crowdsource') & \n",
    "        (action_taken[4] == 'High Entropy (opinions,suggestions)')):\n",
    "        print(\"Do you want to crowdsource the answer or send the question to Professional Developement Manager?\")\n",
    "        user_input = input('')\n",
    "        if user_input.lower() == \"crowdsource\":\n",
    "            print(\"Your question has been sent to crowdsource the answer.\")\n",
    "            print(\"\\n \\n \\n \\n\")\n",
    "            print(\"Hello people, can anyone help to answer this question:\" + QuestionAsked)\n",
    "            crowdsourced_ans1 = input('')\n",
    "            crowdsourced_ans2 = input('')\n",
    "            print(\"\\n \\n \\n \\n\")\n",
    "            print(\"Hello here are few crowdsourced answers to your question are \\n\" + \n",
    "                  crowdsourced_ans1 + \"\\n\" +\n",
    "                 crowdsourced_ans1)\n",
    "            feedback_chatstats_aggregrator()\n",
    "            \n",
    "        else:\n",
    "            print(\"Your question has been sent to the Professional Developement Manager. Your PDM will reach out to you soon\")\n",
    "        \n",
    "\n",
    "    if ((action_taken[3] == 'NA') & \n",
    "        (action_taken[4] == 'PDM_LearningOption')):\n",
    "        print(\"Your question has been sent to the Professional Developement Manager. Your PDM will reach out to you soon\")\n",
    "        print(\" \\n \\n \\n \\n\")\n",
    "        print(\"Hello, The new consulstant wanted an answer to this question:\\n\" + QuestionAsked)\n",
    "        answer = input('')\n",
    "        print(\"Do you want the AI-Chatbot to learn this answer and directly answer this question if asked again?\")\n",
    "        PDM_decision = input('')\n",
    "        if PDM_decision.lower() == 'yes':\n",
    "            \n",
    "            #Learning module\n",
    "            \n",
    "            IEAM_file_update = pd.DataFrame.from_dict({\"Intent\": action_taken[0],\n",
    "             \"Entity1\": action_taken[1],\n",
    "             \"Entity2\": action_taken[2],\n",
    "             \"Action\": [\"Direct\"],\n",
    "             \"ActionSubclass\": [\"Low Entropy\"]})\n",
    "            IEAM_file_update = IEAM_file_update[['Intent', 'Entity1', 'Entity2', 'Action', 'ActionSubclass']]\n",
    "            global IntentEntity_Action_Mapper\n",
    "            IntentEntity_Action_Mapper = IntentEntity_Action_Mapper.append(IEAM_file_update)\n",
    "\n",
    "            DADB_file_update = pd.DataFrame.from_dict({\"Intent\": action_taken[0],\n",
    "             \"Entity1\": action_taken[1],\n",
    "             \"Entity2\": action_taken[2],\n",
    "             \"Action\": [\"Direct\"],\n",
    "             \"ActionSubclass\": [\"Low Entropy\"],\n",
    "             \"Answer\": answer})\n",
    "            DADB_file_update = DADB_file_update[['Intent', 'Entity1', 'Entity2', 'Action', 'ActionSubclass','Answer']]\n",
    "            DirectAnswer_DB = DirectAnswer_DB.append(DADB_file_update)\n",
    "\n",
    "        print(\" \\n \\n \\n \\n\")\n",
    "        print(\"Hello, \\n\" + answer)\n",
    "        \n",
    "\n",
    "    \n",
    "    if ((action_taken[3] == 'PDM') & \n",
    "        (action_taken[4] == 'PDM Best Person To Answer')):\n",
    "        print(\"Your question has been sent to the Professional Developement Manager. Your PDM will reach out to you soon\")\n",
    "        \n",
    "    \n",
    "   \n",
    "# answering_module(QuestionAsked)"
   ]
  },
  {
   "cell_type": "code",
   "execution_count": 16,
   "metadata": {
    "collapsed": true,
    "deletable": true,
    "editable": true
   },
   "outputs": [],
   "source": [
    "def AI_CHATBOT():\n",
    "    print(\"Hello, How can I help you ?\")\n",
    "    QuestionAsked = input('')\n",
    "    if sensitivity(QuestionAsked) == 1:\n",
    "        print(\"Your question has been sent to the Professional Developement Manager. Your PDM will reach out to you soon\")\n",
    "\n",
    "    elif (len([intent_parsing(QuestionAsked)] + entity_parsing(QuestionAsked)[0:2]) < 3):\n",
    "        print(\"Your question has been sent to the Professional Developement Manager. Your PDM will reach out to you soon\")\n",
    "\n",
    "    else:\n",
    "        answering_module(QuestionAsked)"
   ]
  },
  {
   "cell_type": "markdown",
   "metadata": {
    "deletable": true,
    "editable": true
   },
   "source": [
    "# Wecome to AI-Chatbot Protoype Demo"
   ]
  },
  {
   "cell_type": "markdown",
   "metadata": {
    "deletable": true,
    "editable": true
   },
   "source": [
    "## Case1: Sensitive\n",
    "\"What is my salary compensation structure?\""
   ]
  },
  {
   "cell_type": "code",
   "execution_count": 17,
   "metadata": {
    "collapsed": false,
    "deletable": true,
    "editable": true
   },
   "outputs": [
    {
     "name": "stdout",
     "output_type": "stream",
     "text": [
      "Hello, How can I help you ?\n",
      "What is my salary compensation structure?\n",
      "Your question has been sent to the Professional Developement Manager. Your PDM will reach out to you soon\n"
     ]
    }
   ],
   "source": [
    "AI_CHATBOT()"
   ]
  },
  {
   "cell_type": "markdown",
   "metadata": {
    "deletable": true,
    "editable": true
   },
   "source": [
    "## Case2: Cannot parse Intent/Entity\n",
    "\"When is the meeting?\""
   ]
  },
  {
   "cell_type": "code",
   "execution_count": 18,
   "metadata": {
    "collapsed": false,
    "deletable": true,
    "editable": true
   },
   "outputs": [
    {
     "name": "stdout",
     "output_type": "stream",
     "text": [
      "Hello, How can I help you ?\n",
      "When is the meeting?\n",
      "Your question has been sent to the Professional Developement Manager. Your PDM will reach out to you soon\n"
     ]
    }
   ],
   "source": [
    "AI_CHATBOT()"
   ]
  },
  {
   "cell_type": "markdown",
   "metadata": {
    "deletable": true,
    "editable": true
   },
   "source": [
    "## Case3: Questions that bot can answer directly? (Low Entropy Answers)\n",
    "\"Am I required to attend the New Employee Welcome and Benefits Orientation program?\""
   ]
  },
  {
   "cell_type": "code",
   "execution_count": 19,
   "metadata": {
    "collapsed": false,
    "deletable": true,
    "editable": true
   },
   "outputs": [
    {
     "name": "stdout",
     "output_type": "stream",
     "text": [
      "Hello, How can I help you ?\n",
      "Am I required to attend the New Employee Welcome and Benefits Orientation program?\n",
      "It is not required, but highly encouraged for full-time employees.  You will gain valuable information and resources that will assist you in becoming acclimated to the company.\n",
      "Are you satisfied with the answer? Please let me know (yes/no)\n",
      "yes\n",
      "Thankyou\n"
     ]
    }
   ],
   "source": [
    "AI_CHATBOT()"
   ]
  },
  {
   "cell_type": "markdown",
   "metadata": {
    "deletable": true,
    "editable": true
   },
   "source": [
    "\n",
    "## Case4: Questions for which bot directs to Knowledgebase? (Medium Entropy Answers)\n",
    "\"How do I open an IT ticket if I have an issue?\""
   ]
  },
  {
   "cell_type": "code",
   "execution_count": 20,
   "metadata": {
    "collapsed": false,
    "deletable": true,
    "editable": true
   },
   "outputs": [
    {
     "name": "stdout",
     "output_type": "stream",
     "text": [
      "Hello, How can I help you ?\n",
      "How do I open an IT ticket if I have an issue?\n",
      "Please refer to out knowledge base article https://goo.gl/UwKdVW\n",
      "Are you satisfied with the answer? Please let me know (yes/no)\n",
      "yes\n",
      "Thankyou\n"
     ]
    }
   ],
   "source": [
    "AI_CHATBOT()"
   ]
  },
  {
   "cell_type": "markdown",
   "metadata": {
    "deletable": true,
    "editable": true
   },
   "source": [
    "## Case5: Questions for which bot queries a inhouse database to fetch the answers? (Medium Entropy Answers)\n",
    "\"Which is the largest conference room that I can book?\""
   ]
  },
  {
   "cell_type": "code",
   "execution_count": 21,
   "metadata": {
    "collapsed": false,
    "deletable": true,
    "editable": true
   },
   "outputs": [
    {
     "name": "stdout",
     "output_type": "stream",
     "text": [
      "Hello, How can I help you ?\n",
      "Which is the largest conference room that I can book?\n",
      "Block A - L3 - AL3R12\n",
      "Are you satisfied with the answer? Please let me know (yes/no)\n",
      "yes\n",
      "Thankyou\n"
     ]
    }
   ],
   "source": [
    "AI_CHATBOT()"
   ]
  },
  {
   "cell_type": "markdown",
   "metadata": {
    "deletable": true,
    "editable": true
   },
   "source": [
    "## Case6: Questions for which crowdsource option is provided? (High Entropy Answers)\n",
    "\"Is there any good movie suggestions for consultants?\""
   ]
  },
  {
   "cell_type": "code",
   "execution_count": 22,
   "metadata": {
    "collapsed": false,
    "deletable": true,
    "editable": true
   },
   "outputs": [
    {
     "name": "stdout",
     "output_type": "stream",
     "text": [
      "Hello, How can I help you ?\n",
      "Is there any good movie suggestions for consultants?\n",
      "Do you want to crowdsource the answer or send the question to Professional Developement Manager?\n",
      "crowdsource\n",
      "Your question has been sent to crowdsource the answer.\n",
      "\n",
      " \n",
      " \n",
      " \n",
      "\n",
      "Hello people, can anyone help to answer this question:Is there any good movie suggestions for consultants?\n",
      "Wolf of wall street\n",
      "Pursuit of Happyness\n",
      "\n",
      " \n",
      " \n",
      " \n",
      "\n",
      "Hello here are few crowdsourced answers to your question are \n",
      "Wolf of wall street\n",
      "Wolf of wall street\n",
      "Are you satisfied with the answer? Please let me know (yes/no)\n",
      "yes\n",
      "Thankyou\n"
     ]
    }
   ],
   "source": [
    "AI_CHATBOT()"
   ]
  },
  {
   "cell_type": "markdown",
   "metadata": {
    "deletable": true,
    "editable": true
   },
   "source": [
    "## Case7: Questions for which crowdsource option is not provided since PDM is only the right person to answer?\n",
    "\"Who are my team members and what are their roles?\""
   ]
  },
  {
   "cell_type": "code",
   "execution_count": 23,
   "metadata": {
    "collapsed": false,
    "deletable": true,
    "editable": true
   },
   "outputs": [
    {
     "name": "stdout",
     "output_type": "stream",
     "text": [
      "Hello, How can I help you ?\n",
      "Who are my team members and what are their roles?\n",
      "Your question has been sent to the Professional Developement Manager. Your PDM will reach out to you soon\n"
     ]
    }
   ],
   "source": [
    "AI_CHATBOT()"
   ]
  },
  {
   "cell_type": "markdown",
   "metadata": {
    "deletable": true,
    "editable": true
   },
   "source": [
    "## Case8-A: Questions for which both entity and intent is parsed but action is not available\n",
    "\"What do I do if I have to travel before I get my AMEX card?\"\n",
    "\n",
    "\"You will need to use your personal credit card and you will then be reimbursed. The instructions on how to receive reimbursement can be found with your Offer\""
   ]
  },
  {
   "cell_type": "code",
   "execution_count": 24,
   "metadata": {
    "collapsed": false,
    "deletable": true,
    "editable": true
   },
   "outputs": [
    {
     "name": "stdout",
     "output_type": "stream",
     "text": [
      "Hello, How can I help you ?\n",
      "What do I do if I have to travel before I get my AMEX card?\n",
      "Your question has been sent to the Professional Developement Manager. Your PDM will reach out to you soon\n",
      " \n",
      " \n",
      " \n",
      " \n",
      "\n",
      "Hello, The new consulstant wanted an answer to this question:\n",
      "What do I do if I have to travel before I get my AMEX card?\n",
      "You will need to use your personal credit card and you will then be reimbursed. The instructions on how to receive reimbursement can be found with your Offer\n",
      "Do you want the AI-Chatbot to learn this answer and directly answer this question if asked again?\n",
      "yes\n",
      " \n",
      " \n",
      " \n",
      " \n",
      "\n",
      "Hello, \n",
      "You will need to use your personal credit card and you will then be reimbursed. The instructions on how to receive reimbursement can be found with your Offer\n"
     ]
    }
   ],
   "source": [
    "AI_CHATBOT()"
   ]
  },
  {
   "cell_type": "markdown",
   "metadata": {
    "deletable": true,
    "editable": true
   },
   "source": [
    "## Case8-B: LEARNED: Chatbot learns based on PDM's decisions and inputs\n",
    "\"What do I do if I have to travel before I get my AMEX card?\""
   ]
  },
  {
   "cell_type": "code",
   "execution_count": 25,
   "metadata": {
    "collapsed": false,
    "deletable": true,
    "editable": true
   },
   "outputs": [
    {
     "name": "stdout",
     "output_type": "stream",
     "text": [
      "Hello, How can I help you ?\n",
      "What do I do if I have to travel before I get my AMEX card?\n",
      "You will need to use your personal credit card and you will then be reimbursed. The instructions on how to receive reimbursement can be found with your Offer\n",
      "Are you satisfied with the answer? Please let me know (yes/no)\n",
      "yes\n",
      "Thankyou\n"
     ]
    }
   ],
   "source": [
    "AI_CHATBOT()"
   ]
  }
 ],
 "metadata": {
  "kernelspec": {
   "display_name": "Python 2",
   "language": "python",
   "name": "python2"
  },
  "language_info": {
   "codemirror_mode": {
    "name": "ipython",
    "version": 2
   },
   "file_extension": ".py",
   "mimetype": "text/x-python",
   "name": "python",
   "nbconvert_exporter": "python",
   "pygments_lexer": "ipython2",
   "version": "2.7.13"
  }
 },
 "nbformat": 4,
 "nbformat_minor": 2
}
