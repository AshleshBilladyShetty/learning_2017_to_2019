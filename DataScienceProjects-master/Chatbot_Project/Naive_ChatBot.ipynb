{
 "cells": [
  {
   "cell_type": "markdown",
   "metadata": {},
   "source": [
    "## Refresh the database command"
   ]
  },
  {
   "cell_type": "code",
   "execution_count": 1,
   "metadata": {},
   "outputs": [],
   "source": [
    "import pandas as pd\n",
    "from termcolor import colored"
   ]
  },
  {
   "cell_type": "code",
   "execution_count": null,
   "metadata": {},
   "outputs": [],
   "source": [
    "print(colored('Chatbot:', 'red',attrs=['bold']) +\"Please enter your query\" + \n",
    "     colored('\\nUser:', 'green',attrs=['bold']))\n",
    "var = input()"
   ]
  },
  {
   "cell_type": "code",
   "execution_count": null,
   "metadata": {},
   "outputs": [],
   "source": [
    "if any(data[\"Questions\"].isin([var])) == False:\n",
    "    print(colored('Chatbot:', 'red',attrs=['bold']) +\"Do you want the question to be sent to crowdsource or PDM?\" + \n",
    "         colored('\\nUser:', 'green',attrs=['bold']))\n",
    "    var1 = input()\n",
    "    if(var1 == \"PDM\"):\n",
    "        print(colored('Chatbot:', 'red',attrs=['bold']) +\"Sent to PDM, you will hear back from PDM soon.\")\n",
    "    else:\n",
    "        print(colored('Chatbot:', 'red',attrs=['bold']) +\"Sent to crowdsource, you will hear back from crowdsource soon.\")\n",
    "        \n",
    "        print(colored('\\n \\n \\nCROWDSOURCE PLATFORM', 'blue',attrs=['bold']) +  \n",
    "              colored('\\nChatbot:', 'red',attrs=['bold']) +\n",
    "              'Hello people, Can someone help answering this question:' + \n",
    "              var \n",
    "             + colored('\\nCrowdsource:', 'blue',attrs=['bold']))\n",
    "        var_answer = input( )\n",
    "\n",
    "        new_data = [{\"Sl.No\": 0,\n",
    "                \"Questions\": var, \n",
    "                \"Type_level1\" : \"Unambiguous\", \n",
    "                \"Type_level2\":  \"DirectAnswer\",\n",
    "                \"Answer\": var_answer}]\n",
    "\n",
    "        data = pd.DataFrame.from_dict(new_data).append(data)\n",
    "        print(colored('Chatbot:', 'red',attrs=['bold']) +\"Hello User_ABC the crowdsoured answer to your question is: {}\".format(var_answer))\n",
    "else:        \n",
    "    if ((data[data['Questions'] == var]['Type_level1'].values[0] == 'Unambiguous') &\n",
    "       ((data[data['Questions'] == var]['Type_level2'].values[0] == 'CrowdSourcing') | \n",
    "        (data[data['Questions'] == var]['Type_level2'].values[0] == 'Private'))):\n",
    "        print(colored('Chatbot:', 'red',attrs=['bold']) + \"Do you want the question to be sent to crowdsource or PDM\" +\n",
    "        colored('\\nUser:', 'green',attrs=['bold']))\n",
    "        var1 = input()\n",
    "        if(var1 == \"PDM\"):\n",
    "            print(colored('Chatbot:', 'red',attrs=['bold']) +  \"Sent to PDM, you will hear back from PDM soon.\")\n",
    "        else:\n",
    "            print(colored('Chatbot:', 'red',attrs=['bold']) +  \"Sent to crowdsource, you will hear back from crowdsource soon.\")\n",
    "            \n",
    "            print(colored('\\n \\n \\nCROWDSOURCE PLATFORM', 'blue',attrs=['bold']) + \n",
    "                  colored('\\nChatbot:', 'red',attrs=['bold']) + \n",
    "                  'Hello people, Can someone help answering this question:' + \n",
    "                  var + \n",
    "                 colored('\\nCrowdsource:', 'blue',attrs=['bold']) )\n",
    "            var_answer = input( )\n",
    "\n",
    "            print(colored('Chatbot:', 'red',attrs=['bold']) +\"Hello User_ABC the crowdsoured answer to your question is: {}\".format(var_answer))\n",
    "            data.loc[data['Questions'] == var,'Answer'] = var_answer\n",
    "            data.loc[data['Questions'] == var,'Type_level2'] = \"DirectAnswer\"\n",
    "\n",
    "\n",
    "    if ((data[data['Questions'] == var]['Type_level1'].values[0] == 'Ambiguous') &\n",
    "        (data[data['Questions'] == var]['Type_level2'].values[0] == 'Ambiguous')):\n",
    "        print(colored('Chatbot:', 'red',attrs=['bold']) +\"Sent to PDM, you will hear back from PDM soon.\")\n",
    "\n",
    "    if ((data[data['Questions'] == var]['Type_level1'].values[0] == 'Unambiguous') &\n",
    "        (data[data['Questions'] == var]['Type_level2'].values[0] == 'DirectAnswer')):\n",
    "        print(colored('Chatbot:', 'red',attrs=['bold']) +data[data['Questions'] == var]['Answer'].values[0] )\n",
    "\n",
    "    if ((data[data['Questions'] == var]['Type_level1'].values[0] == 'Unambiguous') &\n",
    "        (data[data['Questions'] == var]['Type_level2'].values[0] == 'KnowledgeBase')):\n",
    "        print(colored('Chatbot:', 'red',attrs=['bold']) +data[data['Questions'] == var]['Answer'].values[0])  "
   ]
  }
 ],
 "metadata": {
  "kernelspec": {
   "display_name": "Python 3",
   "language": "python",
   "name": "python3"
  },
  "language_info": {
   "codemirror_mode": {
    "name": "ipython",
    "version": 3
   },
   "file_extension": ".py",
   "mimetype": "text/x-python",
   "name": "python",
   "nbconvert_exporter": "python",
   "pygments_lexer": "ipython3",
   "version": "3.6.4"
  }
 },
 "nbformat": 4,
 "nbformat_minor": 2
}
