{
 "cells": [
  {
   "cell_type": "markdown",
   "metadata": {},
   "source": [
    "### Install these packages in these sequence\n",
    "### Lot of dependencies issues while installing RASA NLU and SPACY so you have to install below packages in the given order for the things to work\n",
    "### also run the anaconda commad prompt as administrator \n",
    "\n",
    "conda install -c conda-forge python-levenshtein  \n",
    "conda install -c conda-forge diff-match-patch  \n",
    "conda install -c anaconda twisted   \n",
    "pip install rasa_nlu    \n",
    "#pip install -r alt_requirements/requirements_full.txt    \n",
    "conda install -c spacy spacy  \n",
    "conda install -c conda-forge regex   \n",
    "python -m spacy download en_core_web_md  \n",
    "python -m spacy link en_core_web_md en  "
   ]
  },
  {
   "cell_type": "code",
   "execution_count": 38,
   "metadata": {},
   "outputs": [],
   "source": [
    "import Levenshtein\n",
    "import difflib\n",
    "import spacy\n",
    "nlp = spacy.load('en')"
   ]
  },
  {
   "cell_type": "code",
   "execution_count": 39,
   "metadata": {},
   "outputs": [
    {
     "name": "stdout",
     "output_type": "stream",
     "text": [
      "Ellen PERSON\n",
      "March 29, 2018 DATE\n"
     ]
    }
   ],
   "source": [
    "doc = nlp(u'Hi Ellen, is my joining date March 29, 2018')\n",
    "for entity in doc.ents:\n",
    "    print(entity.text,entity.label_)"
   ]
  },
  {
   "cell_type": "code",
   "execution_count": 40,
   "metadata": {},
   "outputs": [
    {
     "name": "stdout",
     "output_type": "stream",
     "text": [
      "0.3157894736842105\n",
      "0.21052631578947367\n",
      "0.69813298399\n"
     ]
    }
   ],
   "source": [
    "a = \"the dog is running\"\n",
    "b = \"I need help in uploading the time sheet\" \n",
    "print(Levenshtein.ratio(a, b))\n",
    "print(difflib.SequenceMatcher(None, a, b).ratio())\n",
    "print(nlp(a).similarity(nlp(b)))"
   ]
  }
 ],
 "metadata": {
  "kernelspec": {
   "display_name": "Python 3",
   "language": "python",
   "name": "python3"
  },
  "language_info": {
   "codemirror_mode": {
    "name": "ipython",
    "version": 3
   },
   "file_extension": ".py",
   "mimetype": "text/x-python",
   "name": "python",
   "nbconvert_exporter": "python",
   "pygments_lexer": "ipython3",
   "version": "3.6.4"
  }
 },
 "nbformat": 4,
 "nbformat_minor": 2
}
