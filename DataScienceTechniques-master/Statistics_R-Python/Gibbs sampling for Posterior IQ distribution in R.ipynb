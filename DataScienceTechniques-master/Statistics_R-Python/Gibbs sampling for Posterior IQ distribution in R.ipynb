{
 "cells": [
  {
   "cell_type": "markdown",
   "metadata": {},
   "source": [
    "## So we compute mean of X and theta"
   ]
  },
  {
   "cell_type": "code",
   "execution_count": 2,
   "metadata": {},
   "outputs": [
    {
     "data": {
      "text/html": [
       "4.5204"
      ],
      "text/latex": [
       "4.5204"
      ],
      "text/markdown": [
       "4.5204"
      ],
      "text/plain": [
       "[1] 4.5204"
      ]
     },
     "metadata": {},
     "output_type": "display_data"
    },
    {
     "data": {
      "text/html": [
       "0.301042088979246"
      ],
      "text/latex": [
       "0.301042088979246"
      ],
      "text/markdown": [
       "0.301042088979246"
      ],
      "text/plain": [
       "[1] 0.3010421"
      ]
     },
     "metadata": {},
     "output_type": "display_data"
    }
   ],
   "source": [
    "NSim = 5000\n",
    "n= 15\n",
    "a =3\n",
    "b=7\n",
    "\n",
    "X = Th = array(0, dim = c(NSim,1))#initialization\n",
    "Th[1] = rbeta(1,a,b) #Theta 0\n",
    "X[1] = rbinom(1,n,Th[1]) #X0\n",
    "\n",
    "for(i in 2:NSim){\n",
    "    X[i] = rbinom(1,n,Th[i-1])\n",
    "    Th[i] = rbeta(1,a+X[i],n+b-X[i])\n",
    "}\n",
    "mean(X)\n",
    "mean(Th)"
   ]
  },
  {
   "cell_type": "markdown",
   "metadata": {},
   "source": [
    "## Identify the true IQ score of a candidate given likelihood parameters to be $\\mu_0 = 100 $ and $ \\sigma^{2} = 100 $. The observed score is $ S = 125 $"
   ]
  },
  {
   "cell_type": "code",
   "execution_count": 7,
   "metadata": {},
   "outputs": [
    {
     "data": {
      "text/html": [
       "115.144566572814"
      ],
      "text/latex": [
       "115.144566572814"
      ],
      "text/markdown": [
       "115.144566572814"
      ],
      "text/plain": [
       "[1] 115.1446"
      ]
     },
     "metadata": {},
     "output_type": "display_data"
    },
    {
     "data": {
      "text/html": [
       "200.528228723924"
      ],
      "text/latex": [
       "200.528228723924"
      ],
      "text/markdown": [
       "200.528228723924"
      ],
      "text/plain": [
       "[1] 200.5282"
      ]
     },
     "metadata": {},
     "output_type": "display_data"
    }
   ],
   "source": [
    "Nsim = 5000\n",
    "a = 5/2 #Parameter for the inverse gamma function\n",
    "b=200 #Parameter for the inverse gamma function\n",
    "\n",
    "mu0=100\n",
    "tau2 =15*15  #(Sigma_0)^2 is tau2 \n",
    "s= 125 #Data \n",
    "\n",
    "x = y = rep(0,NSim) #initalize vectors\n",
    "#you can use vectors, arrays or matrices\n",
    "\n",
    "x[1] = 100 # Assume E(sigma^2) = 100 (initial guess)\n",
    "y[1] = 100 # IQ x = mu0=100 (initial guess)\n",
    "\n",
    "for(i in 2:NSim) {\n",
    "    B = y[i-1]/(y[i-1] + tau2)\n",
    "    x[i]=rnorm(1,mean(1-B)*s+B*mu0, sd =sqrt(B*tau2))\n",
    "    y[i] = 1/rgamma(1,shape = a, rate = 0.5*(s-x[i])^2+b)\n",
    "}\n",
    "\n",
    "mean(x)\n",
    "mean(y)"
   ]
  }
 ],
 "metadata": {
  "kernelspec": {
   "display_name": "R",
   "language": "R",
   "name": "ir"
  },
  "language_info": {
   "codemirror_mode": "r",
   "file_extension": ".r",
   "mimetype": "text/x-r-source",
   "name": "R",
   "pygments_lexer": "r",
   "version": "3.4.1"
  }
 },
 "nbformat": 4,
 "nbformat_minor": 2
}
