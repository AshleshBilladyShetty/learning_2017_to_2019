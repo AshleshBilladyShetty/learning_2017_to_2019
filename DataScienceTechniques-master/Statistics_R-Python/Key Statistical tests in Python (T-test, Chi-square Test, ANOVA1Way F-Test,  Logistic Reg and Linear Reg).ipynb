{
 "cells": [
  {
   "cell_type": "markdown",
   "metadata": {},
   "source": [
    "# T-test\n",
    "\n",
    "There are three mains of T-tests\n",
    "1. An Independent Samples t-test compares the means for two groups.\n",
    "2. A Paired sample t-test compares means from the same group at different times (say, one year apart).\n",
    "3. A One sample t-test tests the mean of a single group against a known mean."
   ]
  },
  {
   "cell_type": "markdown",
   "metadata": {},
   "source": [
    "**Let us try a 2 independent sample t test**"
   ]
  },
  {
   "cell_type": "code",
   "execution_count": 2,
   "metadata": {},
   "outputs": [
    {
     "name": "stdout",
     "output_type": "stream",
     "text": [
      "t statistics = 13.9468468994\n",
      "p-value = 6.06027809185e-31\n"
     ]
    }
   ],
   "source": [
    "## Import the packages\n",
    "import numpy as np\n",
    "from scipy import stats\n",
    "\n",
    "\n",
    "## Define 2 random distributions\n",
    "#Sample Size\n",
    "N = 100\n",
    "#Gaussian distributed data with mean = 2 and var = 1\n",
    "a = np.random.randn(N) + 2\n",
    "#Gaussian distributed data with with mean = 0 and var = 1\n",
    "b = np.random.randn(N)\n",
    "## Exeecute 2 sample t-test\n",
    "t, p = stats.ttest_ind(a,b)\n",
    "print(\"t statistics = \" + str(t))\n",
    "print(\"p-value = \" + str(2*p))"
   ]
  },
  {
   "cell_type": "markdown",
   "metadata": {},
   "source": [
    "# Chi-Squared test"
   ]
  },
  {
   "cell_type": "markdown",
   "metadata": {},
   "source": [
    "There are two types of Chi-Squared test\n",
    "\n",
    "1. chi-square goodness of fit test: determines if a sample data matches a population\n",
    "2. chi-square test for independence: compares two variables in a contingency table to see if they are related. In a more general sense, it tests to see whether distributions of categorical variables differ from each another\n",
    "\n",
    "Here we will be looking into chi-square test for independence"
   ]
  },
  {
   "cell_type": "code",
   "execution_count": 11,
   "metadata": {},
   "outputs": [
    {
     "name": "stdout",
     "output_type": "stream",
     "text": [
      "Chi-Square Statistic:27.0830324002\n",
      "Chi-Square p-value:1.94901148619e-07\n"
     ]
    },
    {
     "data": {
      "text/plain": [
       "(27.083032400233851,\n",
       " 1.9490114861853126e-07,\n",
       " 1,\n",
       " array([[ 7034.39816389,   186.60183611],\n",
       "        [ 1560.60183611,    41.39816389]]))"
      ]
     },
     "execution_count": 11,
     "metadata": {},
     "output_type": "execute_result"
    }
   ],
   "source": [
    "from scipy.stats import chi2_contingency\n",
    "\n",
    "obs = np.array([[ 7004,   217],\n",
    "        [ 1591,    11]])\n",
    "chisquare_test_result =  chi2_contingency(obs)\n",
    "\n",
    "print('Chi-Square Statistic:' + str(chisquare_test_result[0]))\n",
    "print('Chi-Square p-value:' + str(chisquare_test_result[1]))\n",
    "chisquare_test_result"
   ]
  },
  {
   "cell_type": "markdown",
   "metadata": {},
   "source": [
    "# F-test "
   ]
  },
  {
   "cell_type": "code",
   "execution_count": 52,
   "metadata": {},
   "outputs": [
    {
     "data": {
      "image/png": "[encoded data removed]",
      "text/plain": [
       "<Figure size 720x360 with 1 Axes>"
      ]
     },
     "metadata": {},
     "output_type": "display_data"
    }
   ],
   "source": [
    "import seaborn as sns\n",
    "import matplotlib.pyplot as plt\n",
    "plt.rcParams['figure.figsize'] = [10,5]\n",
    "iris = sns.load_dataset('iris')\n",
    "iris.boxplot(column = ['petal_length'],by = 'species')\n",
    "plt.show() "
   ]
  },
  {
   "cell_type": "code",
   "execution_count": 54,
   "metadata": {},
   "outputs": [
    {
     "name": "stdout",
     "output_type": "stream",
     "text": [
      "f statistic: 1180.16118225\n",
      "p value: 2.85677661096e-91\n",
      "\n",
      "\n",
      " Multiple Comparison of Means - Tukey HSD,FWER=0.05\n",
      "===================================================\n",
      "  group1     group2   meandiff lower  upper  reject\n",
      "---------------------------------------------------\n",
      "  setosa   versicolor  2.798   2.5942 3.0018  True \n",
      "  setosa   virginica    4.09   3.8862 4.2938  True \n",
      "versicolor virginica   1.292   1.0882 1.4958  True \n",
      "---------------------------------------------------\n",
      "['setosa' 'versicolor' 'virginica']\n"
     ]
    }
   ],
   "source": [
    "from scipy.stats import f_oneway\n",
    "# oneway(df[''])\n",
    "iris.drop_duplicates(subset = ['species'])\n",
    "\n",
    "f, p = stats.f_oneway(iris[iris['species'] == 'setosa'].petal_length,\n",
    "                      iris[iris['species'] == 'versicolor'].petal_length,\n",
    "                      iris[iris['species'] == 'virginica'].petal_length)\n",
    " \n",
    "print('f statistic: ' + str(f))\n",
    "print('p value: ' + str(p) + '\\n\\n')\n",
    "\n",
    "from statsmodels.stats.multicomp import pairwise_tukeyhsd, MultiComparison\n",
    "mc = MultiComparison(iris['petal_length'], iris['species'])\n",
    "result = mc.tukeyhsd()\n",
    " \n",
    "print(result)\n",
    "print(mc.groupsunique)"
   ]
  },
  {
   "cell_type": "markdown",
   "metadata": {},
   "source": [
    "So F test shows that there is significant variation in petal_length within plant species. By doing Tukey's HSD test we can see that within ever two speceis there is significant difference in petal length which is leading us to reject f-test's null hypothesis"
   ]
  },
  {
   "cell_type": "markdown",
   "metadata": {},
   "source": [
    "# Logistic Regression"
   ]
  },
  {
   "cell_type": "code",
   "execution_count": 77,
   "metadata": {},
   "outputs": [
    {
     "name": "stdout",
     "output_type": "stream",
     "text": [
      "Optimization terminated successfully.\n",
      "         Current function value: 0.239455\n",
      "         Iterations 8\n"
     ]
    },
    {
     "data": {
      "text/html": [
       "<table class=\"simpletable\">\n",
       "<caption>Logit Regression Results</caption>\n",
       "<tr>\n",
       "  <th>Dep. Variable:</th>     <td>setosa_fl</td>    <th>  No. Observations:  </th>  <td>   150</td>  \n",
       "</tr>\n",
       "<tr>\n",
       "  <th>Model:</th>               <td>Logit</td>      <th>  Df Residuals:      </th>  <td>   148</td>  \n",
       "</tr>\n",
       "<tr>\n",
       "  <th>Method:</th>               <td>MLE</td>       <th>  Df Model:          </th>  <td>     1</td>  \n",
       "</tr>\n",
       "<tr>\n",
       "  <th>Date:</th>          <td>Sun, 22 Apr 2018</td> <th>  Pseudo R-squ.:     </th>  <td>0.6238</td>  \n",
       "</tr>\n",
       "<tr>\n",
       "  <th>Time:</th>              <td>22:07:47</td>     <th>  Log-Likelihood:    </th> <td> -35.918</td> \n",
       "</tr>\n",
       "<tr>\n",
       "  <th>converged:</th>           <td>True</td>       <th>  LL-Null:           </th> <td> -95.477</td> \n",
       "</tr>\n",
       "<tr>\n",
       "  <th> </th>                      <td> </td>        <th>  LLR p-value:       </th> <td>9.869e-28</td>\n",
       "</tr>\n",
       "</table>\n",
       "<table class=\"simpletable\">\n",
       "<tr>\n",
       "        <td></td>          <th>coef</th>     <th>std err</th>      <th>z</th>      <th>P>|z|</th>  <th>[0.025</th>    <th>0.975]</th>  \n",
       "</tr>\n",
       "<tr>\n",
       "  <th>Intercept</th>    <td>   27.8285</td> <td>    4.828</td> <td>    5.765</td> <td> 0.000</td> <td>   18.367</td> <td>   37.290</td>\n",
       "</tr>\n",
       "<tr>\n",
       "  <th>sepal_length</th> <td>   -5.1757</td> <td>    0.893</td> <td>   -5.793</td> <td> 0.000</td> <td>   -6.927</td> <td>   -3.425</td>\n",
       "</tr>\n",
       "</table>"
      ],
      "text/plain": [
       "<class 'statsmodels.iolib.summary.Summary'>\n",
       "\"\"\"\n",
       "                           Logit Regression Results                           \n",
       "==============================================================================\n",
       "Dep. Variable:              setosa_fl   No. Observations:                  150\n",
       "Model:                          Logit   Df Residuals:                      148\n",
       "Method:                           MLE   Df Model:                            1\n",
       "Date:                Sun, 22 Apr 2018   Pseudo R-squ.:                  0.6238\n",
       "Time:                        22:07:47   Log-Likelihood:                -35.918\n",
       "converged:                       True   LL-Null:                       -95.477\n",
       "                                        LLR p-value:                 9.869e-28\n",
       "================================================================================\n",
       "                   coef    std err          z      P>|z|      [0.025      0.975]\n",
       "--------------------------------------------------------------------------------\n",
       "Intercept       27.8285      4.828      5.765      0.000      18.367      37.290\n",
       "sepal_length    -5.1757      0.893     -5.793      0.000      -6.927      -3.425\n",
       "================================================================================\n",
       "\"\"\""
      ]
     },
     "execution_count": 77,
     "metadata": {},
     "output_type": "execute_result"
    }
   ],
   "source": [
    "import statsmodels.api as sm\n",
    "import statsmodels.formula.api as smf\n",
    "stats.chisqprob = lambda chisq, df: stats.chi2.sf(chisq, df)\n",
    "\n",
    "iris['setosa_fl'] = np.where(iris['species']=='setosa',1,0 )\n",
    "\n",
    "logitfit = smf.logit(formula = 'setosa_fl~sepal_length', data = iris).fit()\n",
    "logitfit.summary() "
   ]
  },
  {
   "cell_type": "markdown",
   "metadata": {},
   "source": [
    "# Linear Regression"
   ]
  },
  {
   "cell_type": "code",
   "execution_count": 78,
   "metadata": {},
   "outputs": [
    {
     "data": {
      "text/html": [
       "<table class=\"simpletable\">\n",
       "<caption>OLS Regression Results</caption>\n",
       "<tr>\n",
       "  <th>Dep. Variable:</th>      <td>sepal_length</td>   <th>  R-squared:         </th> <td>   0.669</td>\n",
       "</tr>\n",
       "<tr>\n",
       "  <th>Model:</th>                   <td>OLS</td>       <th>  Adj. R-squared:    </th> <td>   0.667</td>\n",
       "</tr>\n",
       "<tr>\n",
       "  <th>Method:</th>             <td>Least Squares</td>  <th>  F-statistic:       </th> <td>   299.2</td>\n",
       "</tr>\n",
       "<tr>\n",
       "  <th>Date:</th>             <td>Sun, 22 Apr 2018</td> <th>  Prob (F-statistic):</th> <td>2.33e-37</td>\n",
       "</tr>\n",
       "<tr>\n",
       "  <th>Time:</th>                 <td>22:08:42</td>     <th>  Log-Likelihood:    </th> <td> -101.11</td>\n",
       "</tr>\n",
       "<tr>\n",
       "  <th>No. Observations:</th>      <td>   150</td>      <th>  AIC:               </th> <td>   206.2</td>\n",
       "</tr>\n",
       "<tr>\n",
       "  <th>Df Residuals:</th>          <td>   148</td>      <th>  BIC:               </th> <td>   212.2</td>\n",
       "</tr>\n",
       "<tr>\n",
       "  <th>Df Model:</th>              <td>     1</td>      <th>                     </th>     <td> </td>   \n",
       "</tr>\n",
       "<tr>\n",
       "  <th>Covariance Type:</th>      <td>nonrobust</td>    <th>                     </th>     <td> </td>   \n",
       "</tr>\n",
       "</table>\n",
       "<table class=\"simpletable\">\n",
       "<tr>\n",
       "       <td></td>          <th>coef</th>     <th>std err</th>      <th>t</th>      <th>P>|t|</th>  <th>[0.025</th>    <th>0.975]</th>  \n",
       "</tr>\n",
       "<tr>\n",
       "  <th>Intercept</th>   <td>    4.7776</td> <td>    0.073</td> <td>   65.506</td> <td> 0.000</td> <td>    4.634</td> <td>    4.922</td>\n",
       "</tr>\n",
       "<tr>\n",
       "  <th>petal_width</th> <td>    0.8886</td> <td>    0.051</td> <td>   17.296</td> <td> 0.000</td> <td>    0.787</td> <td>    0.990</td>\n",
       "</tr>\n",
       "</table>\n",
       "<table class=\"simpletable\">\n",
       "<tr>\n",
       "  <th>Omnibus:</th>       <td> 2.390</td> <th>  Durbin-Watson:     </th> <td>   1.917</td>\n",
       "</tr>\n",
       "<tr>\n",
       "  <th>Prob(Omnibus):</th> <td> 0.303</td> <th>  Jarque-Bera (JB):  </th> <td>   1.939</td>\n",
       "</tr>\n",
       "<tr>\n",
       "  <th>Skew:</th>          <td> 0.254</td> <th>  Prob(JB):          </th> <td>   0.379</td>\n",
       "</tr>\n",
       "<tr>\n",
       "  <th>Kurtosis:</th>      <td> 3.229</td> <th>  Cond. No.          </th> <td>    3.70</td>\n",
       "</tr>\n",
       "</table>"
      ],
      "text/plain": [
       "<class 'statsmodels.iolib.summary.Summary'>\n",
       "\"\"\"\n",
       "                            OLS Regression Results                            \n",
       "==============================================================================\n",
       "Dep. Variable:           sepal_length   R-squared:                       0.669\n",
       "Model:                            OLS   Adj. R-squared:                  0.667\n",
       "Method:                 Least Squares   F-statistic:                     299.2\n",
       "Date:                Sun, 22 Apr 2018   Prob (F-statistic):           2.33e-37\n",
       "Time:                        22:08:42   Log-Likelihood:                -101.11\n",
       "No. Observations:                 150   AIC:                             206.2\n",
       "Df Residuals:                     148   BIC:                             212.2\n",
       "Df Model:                           1                                         \n",
       "Covariance Type:            nonrobust                                         \n",
       "===============================================================================\n",
       "                  coef    std err          t      P>|t|      [0.025      0.975]\n",
       "-------------------------------------------------------------------------------\n",
       "Intercept       4.7776      0.073     65.506      0.000       4.634       4.922\n",
       "petal_width     0.8886      0.051     17.296      0.000       0.787       0.990\n",
       "==============================================================================\n",
       "Omnibus:                        2.390   Durbin-Watson:                   1.917\n",
       "Prob(Omnibus):                  0.303   Jarque-Bera (JB):                1.939\n",
       "Skew:                           0.254   Prob(JB):                        0.379\n",
       "Kurtosis:                       3.229   Cond. No.                         3.70\n",
       "==============================================================================\n",
       "\n",
       "Warnings:\n",
       "[1] Standard Errors assume that the covariance matrix of the errors is correctly specified.\n",
       "\"\"\""
      ]
     },
     "execution_count": 78,
     "metadata": {},
     "output_type": "execute_result"
    }
   ],
   "source": [
    "linreg = smf.ols(formula='sepal_length ~ petal_width', data=iris).fit()\n",
    "linreg.summary()"
   ]
  }
 ],
 "metadata": {
  "kernelspec": {
   "display_name": "Python 3",
   "language": "python",
   "name": "python3"
  },
  "language_info": {
   "codemirror_mode": {
    "name": "ipython",
    "version": 3
   },
   "file_extension": ".py",
   "mimetype": "text/x-python",
   "name": "python",
   "nbconvert_exporter": "python",
   "pygments_lexer": "ipython3",
   "version": "3.6.4"
  }
 },
 "nbformat": 4,
 "nbformat_minor": 2
}
