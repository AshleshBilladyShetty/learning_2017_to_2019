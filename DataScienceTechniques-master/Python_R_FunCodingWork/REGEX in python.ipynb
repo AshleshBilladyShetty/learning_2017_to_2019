{
 "cells": [
  {
   "cell_type": "markdown",
   "metadata": {},
   "source": [
    "## Quick Regex in python"
   ]
  },
  {
   "cell_type": "markdown",
   "metadata": {},
   "source": [
    "**Dash**\n",
    "The dash has only a special meaning if it is used within square brackets and in this case only if it isn't positioned directly after an opening or immediately in front of a closing bracket.   \n",
    "So the expression [-az] is only the choice between the three characters \"-\", \"a\" and \"z\", but no other characters. The same is true for [az-].  \n",
    "\n",
    "**caret** \n",
    "The position of the caret within the square brackets is crucial. If it is not positioned as the first character following the opening square bracket, it has no special meaning.   \n",
    "[^abc] means anything but an \"a\", \"b\" or \"c\"   \n",
    "[a^bc] means an \"a\", \"b\", \"c\" or a \"^\"  \n",
    "\n",
    "**Predefined character classes**\n",
    "\n",
    "The special sequences consist of \"\\\\\" and a character from the following list:  \n",
    "\\d\tMatches any decimal digit; equivalent to the set [0-9].  \n",
    "\\D\tThe complement of \\d. It matches any non-digit character; equivalent to the set [^0-9].  \n",
    "\\s\tMatches any whitespace character; equivalent to [ \\t\\n\\r\\f\\v].  \n",
    "\\S\tThe complement of \\s. It matches any non-whitespace character; equiv. to [^ \\t\\n\\r\\f\\v].  \n",
    "\\w\tMatches any alphanumeric character; equivalent to [a-zA-Z0-9_]. With LOCALE, it will match the set [a-zA-Z0-9_] plus characters defined as letters for the current locale.\n",
    "\\W\tMatches the complement of \\w.  \n",
    "\\b\tMatches the empty string, but only at the start or end of a word.  \n",
    "\\B\tMatches the empty string, but not at the start or end of a word.  \n",
    "\\\\\tMatches a literal backslash.  \n",
    "\\A Checks for capital letter in the beginning of string  \n",
    "\n",
    "**word boundaries**\n",
    "While the other sequences match characters, - e.g. \\w matches characters like \"a\", \"b\", \"m\", \"3\" and so on, - \\b and \\B don't match a character. They match empty strings depending on their neighbourhood, i.e. what kind of a character the predecessor and the successor is. So \\b matches any empty string between a \\W and a \\w character and also between a \\w and a \\W character. \\B is the complement, i.e empty strings between \\W and \\W or empty strings between \\w and \\w."
   ]
  },
  {
   "cell_type": "markdown",
   "metadata": {},
   "source": [
    "## Key difference between regex match() and search() in python\n",
    "* match() searches only in the beginning\n",
    "* search() matches throughout text"
   ]
  },
  {
   "cell_type": "code",
   "execution_count": 61,
   "metadata": {},
   "outputs": [
    {
     "name": "stdout",
     "output_type": "stream",
     "text": [
      "<_sre.SRE_Match object; span=(0, 7), match='Ashlesh'>\n",
      "<_sre.SRE_Match object; span=(0, 7), match='Ashlesh'>\n",
      "<_sre.SRE_Match object; span=(8, 15), match='Ashlesh'>\n",
      "None\n",
      "None\n"
     ]
    }
   ],
   "source": [
    "import re\n",
    "text1 = \"Ashlesh is awesome\"\n",
    "text2 = \" I love Ashlesh\"\n",
    "\n",
    "#For Text 1\n",
    "print(re.search(r\"Ashlesh\", text1))\n",
    "print(re.match(r\"Ashlesh\", text1))\n",
    "\n",
    "#For Text 2\n",
    "print(re.search(r\"Ashlesh\", text2))\n",
    "print(re.match(r\"Ashlesh\", text2))\n",
    "\n",
    "# Now if we use caret in search it becomes match\n",
    "print(re.search(r\"^Ashlesh\", text2))\n"
   ]
  },
  {
   "cell_type": "markdown",
   "metadata": {},
   "source": [
    "**Multiline mode** for re.search()"
   ]
  },
  {
   "cell_type": "code",
   "execution_count": 64,
   "metadata": {},
   "outputs": [
    {
     "name": "stdout",
     "output_type": "stream",
     "text": [
      "None\n",
      "<_sre.SRE_Match object; span=(16, 23), match='Ashlesh'>\n"
     ]
    }
   ],
   "source": [
    "text3  = text2 + '\\n' + text1\n",
    "\n",
    "print(re.search(r\"^Ashlesh\",text3))\n",
    "\n",
    "# So if we use multiline it will check each line as seperate text\n",
    "print(re.search(r\"^Ashlesh\",text3, re.M))\n"
   ]
  },
  {
   "cell_type": "markdown",
   "metadata": {},
   "source": [
    "## Quantifiers\n",
    "**\\***   matches preceding single character match zero or more times    \n",
    "**.**  matches a single character. Does not matter what character it is, except newline    \n",
    "**?**   matches a previous single character once or none   \n",
    "**\\+**  matches a previous single character at least once or many\n",
    "**()** use this if you want to match more than one character"
   ]
  },
  {
   "cell_type": "code",
   "execution_count": 71,
   "metadata": {},
   "outputs": [
    {
     "data": {
      "text/plain": [
       "['Allison Neu 555-8396',\n",
       " 'Bob Newhall 555-4344',\n",
       " 'C. Montgomery Burns 555-0001',\n",
       " 'C. Montgomery Burns 555-0113',\n",
       " 'Canine College 555-7201']"
      ]
     },
     "execution_count": 71,
     "metadata": {},
     "output_type": "execute_result"
    }
   ],
   "source": [
    "location = \"C:\\\\Users\\\\Ashlesh B Shetty\\\\Google Drive\\\\LaptopOnDrive\\\\JobSearch\\\\GitHubRepos\\\\Python_R_FunCodingWork\\\\data&images\\\\\"\n",
    "\n",
    "import csv        \n",
    "with open(location +'simpsons_phone_book.txt') as spb_data:\n",
    "    data_list = []\n",
    "    for i in spb_data:\n",
    "        data_list.append(i[:len(i)-1])\n",
    "    \n",
    "data_list[:5]"
   ]
  },
  {
   "cell_type": "code",
   "execution_count": 72,
   "metadata": {},
   "outputs": [
    {
     "name": "stdout",
     "output_type": "stream",
     "text": [
      "Allison Neu 555-8396\n"
     ]
    }
   ],
   "source": [
    "import re\n",
    "for i in data_list:\n",
    "    if re.search(r\"Allison\",i):\n",
    "        print(i)"
   ]
  },
  {
   "cell_type": "code",
   "execution_count": 74,
   "metadata": {},
   "outputs": [
    {
     "name": "stdout",
     "output_type": "stream",
     "text": [
      "Allison Neu 555-8396\n",
      "Plow King 555-4796\n",
      "Richard Nash 555-9996\n"
     ]
    }
   ],
   "source": [
    "import re\n",
    "for i in data_list:\n",
    "    if re.search(r\"96$\",i):\n",
    "        print(i)"
   ]
  },
  {
   "cell_type": "code",
   "execution_count": 214,
   "metadata": {},
   "outputs": [
    {
     "name": "stdout",
     "output_type": "stream",
     "text": [
      "Abrkxs\n"
     ]
    }
   ],
   "source": [
    "#   . : Wild card Below \\A checks for wh\n",
    "import re\n",
    "for i in ['aark s','Markets','Mbrkxs','marks', 'Abrkxs']:\n",
    "    #Prints only those cases where a character has to follow\n",
    "    if re.search(r\"\\A[A-C].rk\",i):\n",
    "        print(i)   "
   ]
  },
  {
   "cell_type": "code",
   "execution_count": 248,
   "metadata": {},
   "outputs": [
    {
     "name": "stdout",
     "output_type": "stream",
     "text": [
      "markkkkksss\n",
      "marks\n",
      "markks\n"
     ]
    }
   ],
   "source": [
    "#   + : ONCE or MANY\n",
    "import re\n",
    "for i in ['mar s','markkkkkets','markkkkksss','markxs','marks','markks','marcs','mars','marttttts']:\n",
    "    #Prints only those cases where a character has to follow\n",
    "    if re.search(r\"mark+s\",i):\n",
    "        print(i)      "
   ]
  },
  {
   "cell_type": "code",
   "execution_count": 249,
   "metadata": {},
   "outputs": [
    {
     "name": "stdout",
     "output_type": "stream",
     "text": [
      "marks\n",
      "mars\n"
     ]
    }
   ],
   "source": [
    "#   ? : ONCE or NONE\n",
    "import re\n",
    "for i in ['mar s','markkkkkets','markkkkksss','markxs','marks','markks','marcs','mars','marttttts']:\n",
    "    #Prints only those cases where a character has to follow\n",
    "    if re.search(r\"mark?s\",i):\n",
    "        print(i)  "
   ]
  },
  {
   "cell_type": "code",
   "execution_count": 250,
   "metadata": {},
   "outputs": [
    {
     "name": "stdout",
     "output_type": "stream",
     "text": [
      "markkkkksss\n",
      "marks\n",
      "markks\n",
      "mars\n"
     ]
    }
   ],
   "source": [
    "#   * : NONE or ONE or  MANY\n",
    "import re\n",
    "for i in ['mar s','markkkkkets','markkkkksss','markxs','marks','markks','marcs','mars','marttttts']:\n",
    "    #Prints only those cases where a character has to follow\n",
    "    if re.search(r\"mark*s\",i):\n",
    "        print(i)  "
   ]
  },
  {
   "cell_type": "code",
   "execution_count": 251,
   "metadata": {},
   "outputs": [
    {
     "name": "stdout",
     "output_type": "stream",
     "text": [
      "mar s\n",
      "markkkkkets\n",
      "markkkkksss\n",
      "markxs\n",
      "marks\n",
      "markks\n",
      "marcs\n",
      "mars\n",
      "marttttts\n"
     ]
    }
   ],
   "source": [
    "#   * : NONE or ONE or  MANY\n",
    "import re\n",
    "for i in ['mar s','markkkkkets','markkkkksss','markxs','marks','markks','marcs','mars','marttttts']:\n",
    "    #Prints only those cases where a character has to follow\n",
    "    if re.search(r\"mar.*s\",i):\n",
    "        print(i)  "
   ]
  },
  {
   "cell_type": "code",
   "execution_count": 254,
   "metadata": {},
   "outputs": [
    {
     "name": "stdout",
     "output_type": "stream",
     "text": [
      "Februarykrat\n"
     ]
    }
   ],
   "source": [
    "# instead of matching just the previous character to previous string use ()\n",
    "import re\n",
    "for i in ['Febs','February','Febseptkrat', 'Februaryruarykrat','Februarykrat']:\n",
    "    #Prints only those cases where a character has to follow\n",
    "    if re.search(r\"Feb(ruary)?krat\",i):\n",
    "        print(i)  "
   ]
  },
  {
   "cell_type": "code",
   "execution_count": 264,
   "metadata": {},
   "outputs": [
    {
     "name": "stdout",
     "output_type": "stream",
     "text": [
      "Februaryruarykrat\n",
      "Februarykrat\n"
     ]
    }
   ],
   "source": [
    "# instead of matching just the previous character to previous string use ()\n",
    "import re\n",
    "for i in ['Febs','February','Febseptkrat', 'Februaryruarykrat','Februarykrat']:\n",
    "    #Prints only those cases where a character has to follow\n",
    "    if re.search(r\"Feb(ruary)+krat\",i):\n",
    "        print(i)  "
   ]
  },
  {
   "cell_type": "markdown",
   "metadata": {},
   "source": [
    "## Groups or Grouping \n",
    "just adding open and close paraenthesis adds group"
   ]
  },
  {
   "cell_type": "code",
   "execution_count": 313,
   "metadata": {},
   "outputs": [
    {
     "name": "stdout",
     "output_type": "stream",
     "text": [
      "worldsafasdf123@gmail.com\n",
      "asdf.shetty.t@gmail.com\n",
      "shett@mu-sigma.com\n"
     ]
    }
   ],
   "source": [
    "import re\n",
    "for i in ['worldsafasdf123@gmail.com','asdf.shetty.t@gmail.com','shett@mu-sigma.com', 'sh#ett@mu-sigma.com','Februarykrat']:\n",
    "    #Prints only those cases where a character has to follow\n",
    "    if re.search(r\"^([\\w\\.]+)@([\\w\\.-]+)$\",i):\n",
    "        print(i)  "
   ]
  },
  {
   "cell_type": "markdown",
   "metadata": {},
   "source": [
    "## Greedy Vs NonGreedy matching"
   ]
  },
  {
   "cell_type": "code",
   "execution_count": 282,
   "metadata": {},
   "outputs": [
    {
     "data": {
      "text/plain": [
       "'+1-(612) 123-'"
      ]
     },
     "execution_count": 282,
     "metadata": {},
     "output_type": "execute_result"
    }
   ],
   "source": [
    "heading  = r'+1-(612) 123-3452'\n",
    "re.match(r'.*-', heading).group() # Greedy goes till the end"
   ]
  },
  {
   "cell_type": "code",
   "execution_count": 285,
   "metadata": {},
   "outputs": [
    {
     "data": {
      "text/plain": [
       "'+1-'"
      ]
     },
     "execution_count": 285,
     "metadata": {},
     "output_type": "execute_result"
    }
   ],
   "source": [
    "re.match(r'.*?-', heading).group() # Non-Greedy returns when first isntance is encountered "
   ]
  },
  {
   "cell_type": "markdown",
   "metadata": {},
   "source": [
    "## Functions in regex beyond match() and search()."
   ]
  },
  {
   "cell_type": "markdown",
   "metadata": {},
   "source": [
    "# findall(), sub(), compile()"
   ]
  },
  {
   "cell_type": "markdown",
   "metadata": {},
   "source": [
    "## Findall()"
   ]
  },
  {
   "cell_type": "code",
   "execution_count": 290,
   "metadata": {},
   "outputs": [
    {
     "data": {
      "text/plain": [
       "['support@datacamp.com', 'xyz@datacamp.com']"
      ]
     },
     "execution_count": 290,
     "metadata": {},
     "output_type": "execute_result"
    }
   ],
   "source": [
    "email_address = \"Please contact us at: support@datacamp.com, xyz@datacamp.com\"\n",
    "\n",
    "#'addresses' is a list that stores all the possible match\n",
    "re.findall(r'[\\w\\.-]+@[\\w\\.-]+', email_address)\n"
   ]
  },
  {
   "cell_type": "markdown",
   "metadata": {},
   "source": [
    "## sub()"
   ]
  },
  {
   "cell_type": "code",
   "execution_count": 292,
   "metadata": {},
   "outputs": [
    {
     "data": {
      "text/plain": [
       "'Please contact us at: sanitized@emai.id, sanitized@emai.id'"
      ]
     },
     "execution_count": 292,
     "metadata": {},
     "output_type": "execute_result"
    }
   ],
   "source": [
    "email_address = \"Please contact us at: support@datacamp.com, xyz@datacamp.com\"\n",
    "\n",
    "#'addresses' is a list that stores all the possible match\n",
    "re.sub(r'[\\w\\.-]+@[\\w\\.-]+', 'sanitized@emai.id', email_address)"
   ]
  },
  {
   "cell_type": "markdown",
   "metadata": {},
   "source": [
    "## compile()\n",
    "Compiles a regular expression pattern into a regular expression object. When you need to use an expression several times in a single program, using the compile() function to save the resulting regular expression object for reuse is more efficient.This is because the compiled versions of the most recent patterns passed to compile() and the module-level matching functions are cached."
   ]
  },
  {
   "cell_type": "code",
   "execution_count": 293,
   "metadata": {},
   "outputs": [
    {
     "data": {
      "text/plain": [
       "'cookie'"
      ]
     },
     "execution_count": 293,
     "metadata": {},
     "output_type": "execute_result"
    }
   ],
   "source": [
    "# before using compile\n",
    "pattern = re.compile(r\"cookie\")\n",
    "sequence = \"Cake and cookie\"\n",
    "pattern.search(sequence).group()"
   ]
  },
  {
   "cell_type": "code",
   "execution_count": 300,
   "metadata": {},
   "outputs": [
    {
     "data": {
      "text/plain": [
       "'cookie'"
      ]
     },
     "execution_count": 300,
     "metadata": {},
     "output_type": "execute_result"
    }
   ],
   "source": [
    "# after using compile\n",
    "sequence = \"Cake and cookie\"\n",
    "re.search(r\"cookie\",sequence).group()"
   ]
  },
  {
   "cell_type": "markdown",
   "metadata": {},
   "source": [
    "Tip : an expression's behavior can be modified by specifying a flags value. You can add flag as an extra argument to the various functions that you have seen in this tutorial. Some of the flags used are: IGNORECASE, DOTALL, MULTILINE, VERBOSE, etc."
   ]
  },
  {
   "cell_type": "markdown",
   "metadata": {},
   "source": [
    "## group() and groups()"
   ]
  },
  {
   "cell_type": "code",
   "execution_count": 327,
   "metadata": {},
   "outputs": [
    {
     "data": {
      "text/plain": [
       "('Cats', 'smarter')"
      ]
     },
     "execution_count": 327,
     "metadata": {},
     "output_type": "execute_result"
    }
   ],
   "source": [
    "text = \"Cats are smarter than dogs\"\n",
    "re.match( r'(.*) are (.*?) .*', text).groups()"
   ]
  },
  {
   "cell_type": "code",
   "execution_count": 334,
   "metadata": {},
   "outputs": [
    {
     "data": {
      "text/plain": [
       "'Cats are smarter than dogs'"
      ]
     },
     "execution_count": 334,
     "metadata": {},
     "output_type": "execute_result"
    }
   ],
   "source": [
    "re.match( r'(.*) are (.*?) .*', text).group()"
   ]
  },
  {
   "cell_type": "code",
   "execution_count": 333,
   "metadata": {},
   "outputs": [
    {
     "data": {
      "text/plain": [
       "'Cats'"
      ]
     },
     "execution_count": 333,
     "metadata": {},
     "output_type": "execute_result"
    }
   ],
   "source": [
    "re.match( r'(.*) are (.*?) .*', text).group(1)"
   ]
  },
  {
   "cell_type": "code",
   "execution_count": 335,
   "metadata": {},
   "outputs": [
    {
     "data": {
      "text/plain": [
       "('Cats', 'smarter')"
      ]
     },
     "execution_count": 335,
     "metadata": {},
     "output_type": "execute_result"
    }
   ],
   "source": [
    "text = \"Cats are smarter than dogs\"\n",
    "re.search( r'(.*) are (.*?) .*', text).groups()"
   ]
  },
  {
   "cell_type": "code",
   "execution_count": 336,
   "metadata": {},
   "outputs": [
    {
     "data": {
      "text/plain": [
       "'Cats are smarter than dogs'"
      ]
     },
     "execution_count": 336,
     "metadata": {},
     "output_type": "execute_result"
    }
   ],
   "source": [
    "re.search( r'(.*) are (.*?) .*', text).group()"
   ]
  },
  {
   "cell_type": "code",
   "execution_count": 338,
   "metadata": {},
   "outputs": [
    {
     "data": {
      "text/plain": [
       "'Cats'"
      ]
     },
     "execution_count": 338,
     "metadata": {},
     "output_type": "execute_result"
    }
   ],
   "source": [
    "re.search( r'(.*) are (.*?) .*', text).group(1)"
   ]
  }
 ],
 "metadata": {
  "kernelspec": {
   "display_name": "Python 3",
   "language": "python",
   "name": "python3"
  },
  "language_info": {
   "codemirror_mode": {
    "name": "ipython",
    "version": 3
   },
   "file_extension": ".py",
   "mimetype": "text/x-python",
   "name": "python",
   "nbconvert_exporter": "python",
   "pygments_lexer": "ipython3",
   "version": "3.6.4"
  }
 },
 "nbformat": 4,
 "nbformat_minor": 2
}
