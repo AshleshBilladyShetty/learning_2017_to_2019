{
 "cells": [
  {
   "cell_type": "markdown",
   "metadata": {},
   "source": [
    "# 1. Mathematics"
   ]
  },
  {
   "cell_type": "markdown",
   "metadata": {},
   "source": [
    "Mathematics (including probabilities and statistics.) You should be able\n",
    "to use mathematical notations and linear algebra (matrix/vector\n",
    "operations, dot products, etc.), and understand basic probability theory\n",
    "(distributions, independence, density functions, etc.) as well as statistics\n",
    "(mean, variance, median, quantiles, covariance, etc.)"
   ]
  },
  {
   "cell_type": "code",
   "execution_count": null,
   "metadata": {},
   "outputs": [],
   "source": []
  },
  {
   "cell_type": "markdown",
   "metadata": {},
   "source": [
    "# 2. Software Engineering"
   ]
  },
  {
   "cell_type": "markdown",
   "metadata": {},
   "source": [
    "Software Engineering. You should know how to use your terminal, work\n",
    "with version control systems (Git), relational databases, APIs, and build\n",
    "the back-end of web or mobile applications."
   ]
  },
  {
   "cell_type": "markdown",
   "metadata": {},
   "source": [
    "## 2.1. Leetcode Easy "
   ]
  },
  {
   "cell_type": "code",
   "execution_count": null,
   "metadata": {},
   "outputs": [],
   "source": [
    "# Remove Duplicates from Sorted Array\n",
    "\n",
    "    \n",
    "    "
   ]
  },
  {
   "cell_type": "markdown",
   "metadata": {},
   "source": [
    "# 3. General Coding "
   ]
  },
  {
   "cell_type": "markdown",
   "metadata": {},
   "source": [
    "General coding. You should be able to code non-trivial functions in\n",
    "object-oriented programming, such as popular sorting or search\n",
    "algorithms."
   ]
  },
  {
   "cell_type": "markdown",
   "metadata": {},
   "source": [
    "# 4. Implementation"
   ]
  },
  {
   "cell_type": "markdown",
   "metadata": {},
   "source": [
    "Implementation. You should have prior experience taking a dataset,\n",
    "cleaning it if necessary, and applying a learning algorithm to it to get a\n",
    "result. You should be able to implement a learning algorithm “from\n",
    "scratch” using a framework such as NumPy, Tensorflow, Pytorch, Caffe,\n",
    "etc."
   ]
  },
  {
   "cell_type": "markdown",
   "metadata": {},
   "source": [
    "# 5. Machine learning"
   ]
  },
  {
   "cell_type": "markdown",
   "metadata": {},
   "source": [
    "Machine learning. You should be able to understand and apply major\n",
    "machine learning methods, such as logistic regression, SVM, Decision\n",
    "Trees, Principal Component Analysis and K-means. Completion\n",
    "of Andrew Ng’s Machine Learning course on Coursera is sufficient to\n",
    "meet this criterion."
   ]
  },
  {
   "cell_type": "markdown",
   "metadata": {},
   "source": [
    "# 6. Deep learning"
   ]
  },
  {
   "cell_type": "markdown",
   "metadata": {},
   "source": [
    "Deep learning. You should be able to understand and apply major deep\n",
    "learning methods, including neural network training, regularization,\n",
    "optimization methods (gradient descent, Adam), and be familiar with\n",
    "major neural network architecture types such as Convolutional\n",
    "Networks, RNN/LSTM. Completion of the deeplearning.ai\n",
    "specialization is sufficient to meet this criterion."
   ]
  }
 ],
 "metadata": {
  "kernelspec": {
   "display_name": "Python 3",
   "language": "python",
   "name": "python3"
  },
  "language_info": {
   "codemirror_mode": {
    "name": "ipython",
    "version": 3
   },
   "file_extension": ".py",
   "mimetype": "text/x-python",
   "name": "python",
   "nbconvert_exporter": "python",
   "pygments_lexer": "ipython3",
   "version": "3.6.4"
  }
 },
 "nbformat": 4,
 "nbformat_minor": 2
}
