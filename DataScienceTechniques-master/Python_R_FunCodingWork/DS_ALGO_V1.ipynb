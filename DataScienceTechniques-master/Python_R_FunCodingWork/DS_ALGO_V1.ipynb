{
 "cells": [
  {
   "cell_type": "markdown",
   "metadata": {},
   "source": [
    "## Q: Given an unsorted linked list, remove all duplicates without using temporary buffers\n",
    "Linked list in python: Create a node, linked list and sort the linkdlist"
   ]
  },
  {
   "cell_type": "code",
   "execution_count": 45,
   "metadata": {},
   "outputs": [],
   "source": [
    "class Node(object):\n",
    "\n",
    "\tdef __init__ (self, d, n = None):\n",
    "\t\tself.data = d\n",
    "\t\tself.next_node = n\n",
    "\n",
    "\tdef get_next (self):\n",
    "\t\treturn self.next_node\n",
    "\n",
    "\tdef set_next (self, n):\n",
    "\t\tself.next_node = n\n",
    "\t\t\n",
    "\tdef get_data (self):\n",
    "\t\treturn self.data\n",
    "\n",
    "\tdef set_data (self, d):\n",
    "\t\tself.data = d\n",
    "\t\t\n",
    "\tdef has_next (self):\n",
    "\t\tif self.get_next() is None:\n",
    "\t\t\treturn False\n",
    "\t\treturn True\n",
    "\t\t\n",
    "\tdef to_string (self):\n",
    "\t\treturn \"Node value: \" + str(self.data)"
   ]
  },
  {
   "cell_type": "code",
   "execution_count": 46,
   "metadata": {},
   "outputs": [],
   "source": [
    "class LinkedList (object):\n",
    "\n",
    "\tdef __init__ (self, r = None):\n",
    "\t\tself.root = r\n",
    "\t\tself.size = 0\n",
    "\n",
    "\tdef get_size (self):\n",
    "\t\treturn self.size\n",
    "\n",
    "\tdef add (self, d):\n",
    "\t\tnew_node = Node (d, self.root)\n",
    "\t\tself.root = new_node\n",
    "\t\tself.size += 1\n",
    "\n",
    "\tdef add_node (self, n):\n",
    "\t\tn.set_next(self.root)\n",
    "\t\tself.root = n\n",
    "\t\tself.size += 1\n",
    "\t\t\n",
    "\tdef remove (self, d):\n",
    "\t\tthis_node = self.root\n",
    "\t\tprev_node = None\n",
    "\n",
    "\t\twhile this_node is not None:\n",
    "\t\t\tif this_node.get_data() == d:\n",
    "\t\t\t\tif prev_node is not None:\n",
    "\t\t\t\t\tprev_node.set_next(this_node.get_next())\n",
    "\t\t\t\telse:\n",
    "\t\t\t\t\tself.root = this_node.get_next()\n",
    "\t\t\t\tself.size -= 1\n",
    "\t\t\t\treturn True     # data removed\n",
    "\t\t\telse:\n",
    "\t\t\t\tprev_node = this_node\n",
    "\t\t\t\tthis_node = this_node.get_next()\n",
    "\t\treturn False  # data not found\n",
    "\n",
    "\tdef find (self, d):\n",
    "\t\tthis_node = self.root\n",
    "\t\twhile this_node is not None:\n",
    "\t\t\tif this_node.get_data() == d:\n",
    "\t\t\t\treturn d\n",
    "\t\t\telif this_node.get_next() == None:\n",
    "\t\t\t\treturn False\n",
    "\t\t\telse:\n",
    "\t\t\t\tthis_node = this_node.get_next()\n",
    "\t\t\t\t\n",
    "\tdef print_list (self):\n",
    "\t\tprint (\"Print List..........\")\n",
    "\t\tif self.root is None:\n",
    "\t\t\treturn\n",
    "\t\tthis_node = self.root\n",
    "\t\tprint (this_node.to_string())\n",
    "\t\twhile this_node.has_next():\n",
    "\t\t\tthis_node = this_node.get_next()\n",
    "\t\t\tprint (this_node.to_string())\n",
    "\t\t\t\n",
    "\tdef sort (self):\n",
    "\t\tif self.size > 1:\n",
    "\t\t\tnewlist = [];\n",
    "\t\t\tcurrent = self.root;\n",
    "\t\t\tnewlist.append(self.root);\n",
    "\t\t\twhile current.has_next():\n",
    "\t\t\t\tcurrent = current.get_next();\n",
    "\t\t\t\tnewlist.append(current);\n",
    "\t\t\tnewlist = sorted(newlist, key = lambda node: node.get_data(), reverse = True);\n",
    "\t\t\tnewll = LinkedList();\n",
    "\t\t\tfor node in newlist:\n",
    "\t\t\t\tnewll.add_node(node);\n",
    "\t\t\treturn newll;\n",
    "\t\treturn self;"
   ]
  },
  {
   "cell_type": "code",
   "execution_count": 47,
   "metadata": {},
   "outputs": [
    {
     "name": "stdout",
     "output_type": "stream",
     "text": [
      "size=5\n",
      "Print List..........\n",
      "Node value: 9\n",
      "Node value: 8\n",
      "Node value: 3\n",
      "Node value: 9\n",
      "Node value: 5\n",
      "Print List..........\n",
      "Node value: 3\n",
      "Node value: 5\n",
      "Node value: 8\n",
      "Node value: 9\n",
      "Node value: 9\n",
      "size=4\n",
      "Remove 15 False\n",
      "size=4\n",
      "Find 25 False\n",
      "Print List..........\n",
      "Node value: 3\n",
      "Node value: 5\n",
      "Node value: 9\n",
      "Node value: 9\n"
     ]
    }
   ],
   "source": [
    "def main():\n",
    "\tmyList = LinkedList()\n",
    "\tmyList.add(5)\n",
    "\tmyList.add(9)\n",
    "\tmyList.add(3)\n",
    "\tmyList.add(8)\n",
    "\tmyList.add(9)\n",
    "\tprint(\"size=\"+str(myList.get_size()))\n",
    "\tmyList.print_list()\n",
    "\tmyList = myList.sort()\n",
    "\tmyList.print_list()\n",
    "\tmyList.remove(8)\n",
    "\tprint(\"size=\"+str(myList.get_size()))\n",
    "\tprint(\"Remove 15\", myList.remove(15))\n",
    "\tprint(\"size=\"+str(myList.get_size()))\n",
    "\tprint(\"Find 25\", myList.find(25))\n",
    "\tmyList.print_list()\n",
    "\t\n",
    "main()"
   ]
  },
  {
   "cell_type": "markdown",
   "metadata": {},
   "source": [
    "## Q: A number starting from 1 can be got by either multiplying 3 or adding 5 to it. Given a number, find the sequence of operations to get it or say it’s not possible. e.g: 13 is 1 * 3 + 5 + 5 but 15 you cannot get."
   ]
  },
  {
   "cell_type": "code",
   "execution_count": 119,
   "metadata": {},
   "outputs": [
    {
     "name": "stdout",
     "output_type": "stream",
     "text": [
      "Not Possible\n",
      "Possible\n"
     ]
    }
   ],
   "source": [
    "def possibleOrNot(goal):\n",
    "    def findSequence(goal) :\n",
    "        def find(start, history):\n",
    "            if (start == goal):\n",
    "                return history\n",
    "            elif (start > goal):\n",
    "                return 0\n",
    "            else:\n",
    "                return find(start + 5, \"(\" + history + \" + 5)\") or find(start * 3, \"(\" + history + \" * 3)\")\n",
    "        return find(1, \"1\")\n",
    "    \n",
    "    if findSequence(goal) == 0:\n",
    "        return 'Not Possible'\n",
    "    else:\n",
    "        return 'Possible'\n",
    "\n",
    "\n",
    "print(possibleOrNot(15))\n",
    "print(possibleOrNot(13))"
   ]
  },
  {
   "cell_type": "markdown",
   "metadata": {},
   "source": [
    "## Q: Given a matrix of 1s and 0s with 0s representing a rectangle, find its coordinates and dimentions "
   ]
  },
  {
   "cell_type": "markdown",
   "metadata": {},
   "source": [
    "## Q: polymorphism, reverse a string, kth largest number in an array  "
   ]
  },
  {
   "cell_type": "markdown",
   "metadata": {},
   "source": [
    "## Q: Find the longest common subarray between two arrays of strings. "
   ]
  },
  {
   "cell_type": "markdown",
   "metadata": {},
   "source": [
    "## Q: Tree traversal problem, Dynamic Programming, hashmap"
   ]
  },
  {
   "cell_type": "markdown",
   "metadata": {},
   "source": []
  }
 ],
 "metadata": {
  "kernelspec": {
   "display_name": "Python 3",
   "language": "python",
   "name": "python3"
  },
  "language_info": {
   "codemirror_mode": {
    "name": "ipython",
    "version": 3
   },
   "file_extension": ".py",
   "mimetype": "text/x-python",
   "name": "python",
   "nbconvert_exporter": "python",
   "pygments_lexer": "ipython3",
   "version": "3.6.4"
  }
 },
 "nbformat": 4,
 "nbformat_minor": 2
}
