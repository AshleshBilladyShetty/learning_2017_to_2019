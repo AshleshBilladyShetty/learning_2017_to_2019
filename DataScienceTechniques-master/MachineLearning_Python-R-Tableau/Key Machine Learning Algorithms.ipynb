{
 "cells": [
  {
   "cell_type": "markdown",
   "metadata": {},
   "source": [
    "# Various Important Algorithms That a Data Scientist Must Know\n",
    "\n",
    "## Supervised Learning\n",
    "* Linear Regression: Ridge and Lasso Regularization can be added \n",
    "* Logistic Regression \n",
    "* Decision Trees (CART)\n",
    "* Random Forest (Bagging)\n",
    "* XGboost (Boosting)\n",
    "* Support Vector MAchine-SVM\n",
    "* Multi-Layer Perceptrons-MLPs\n",
    "* Convolutional Neural Networks-CNNs\n",
    "* Long Short Term Memory Units-LSTMs\n",
    "* k-Nearest Neighbours-kNN\n",
    "* Naive Bayes\n",
    "* Bayesian Networks\n",
    "\n",
    "## Un-Supervised Learning\n",
    "* Principal Component Analysis-PCA\n",
    "* Density Based-DBSCAN clustering\n",
    "* K-means clustering\n",
    "* Hierarchical clustering \n",
    "* Soft Clustering (Gaussian Mixture Model)\n",
    "* Restricted Boltzman Machine-RBM\n",
    "* Autoencoders\n",
    "* Association Rules\n",
    "* Latent Dirchelet Algorithm - LDA\n",
    "\n",
    "## Reinforcement Learning\n",
    "* Deep Q Learning\n",
    "\n",
    "## Forecasting \n",
    "1. Box-Jenkins: ARIMA\n",
    "2. Holt-Winters: Exponential Smoothing\n",
    "\n"
   ]
  },
  {
   "cell_type": "markdown",
   "metadata": {},
   "source": [
    "# Some general knowledge\n",
    "* https://www.youtube.com/watch?v=o5Y7LSJQ7es Good short TPU video by Google\n",
    "* https://www.youtube.com/watch?v=-4E2-0sxVUM Beautiful short video on computer vision\n",
    "* https://www.youtube.com/watch?v=NrfQJCYhva8 short video on basic TPU vs CPU vs GPU comparison\n",
    "* https://www.youtube.com/watch?v=f5liqUk0ZTw Funny video explaining Tensor and vector\n",
    "* https://www.youtube.com/watch?v=CliW7kSxxWU some serious tensor explaination\n",
    "### CPU Vs GPU Vs TPU\n",
    "\n",
    "#### CPU\n",
    "* Low Latency\n",
    "* Low Through put\n",
    "\n",
    "#### GPU\n",
    "* High Latency\n",
    "* High Through put\n",
    "\n",
    "#### TPU\n",
    "* It is a ASIC (Application Specific Integrated Circuit) for neural network \n",
    "* By google \n",
    "* Heart of TPU is matrix multiplication unit\n",
    "* Key compnent of TPU w.r.t the area used \n",
    "    * Unified buffer for local activations: 29% of the area\n",
    "    * Matrix multiplication unit: 24%  of the area\n",
    "    * DRAM port ddr3: 6%  of the area\n",
    "    * Host Interface: 2% of the area\n",
    "    * Accumulators: 6%  of the area\n",
    "    * Activation pipeline: 6% of the area\n",
    "    * Control: 2%  of the area\n",
    "    * PCIe Interface 3%\n",
    "    * Misc I/O 1%"
   ]
  }
 ],
 "metadata": {
  "kernelspec": {
   "display_name": "Python 3",
   "language": "python",
   "name": "python3"
  },
  "language_info": {
   "codemirror_mode": {
    "name": "ipython",
    "version": 3
   },
   "file_extension": ".py",
   "mimetype": "text/x-python",
   "name": "python",
   "nbconvert_exporter": "python",
   "pygments_lexer": "ipython3",
   "version": "3.6.4"
  }
 },
 "nbformat": 4,
 "nbformat_minor": 2
}
